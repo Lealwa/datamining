{
 "cells": [
  {
   "block_group": "6da74d562147439cba8d91dd9fd1a3d2",
   "cell_type": "markdown",
   "metadata": {
    "cell_id": "ec312a8fc8cf4604aea1b10682bfd851",
    "deepnote_cell_type": "text-cell-h1",
    "formattedRanges": []
   },
   "source": [
    "# Tools yang digunakan"
   ]
  },
  {
   "block_group": "53012acbfae143c695401c75c45aee7a",
   "cell_type": "markdown",
   "metadata": {
    "cell_id": "da63c11a16b94951965c7ddcf14942b5",
    "deepnote_cell_type": "text-cell-p",
    "formattedRanges": []
   },
   "source": [
    "pada pengambilan data kita menggunakan beberapa tools yaitu tempat penyimpanan database secara online yaitu aiven, untuk melakukan manajemen pada database yang kita punya pada aiven kita bisa menggunakan heidisql dan deepnote."
   ]
  },
  {
   "block_group": "06f0a5d321ef427ab66f51c54dd314bb",
   "cell_type": "markdown",
   "metadata": {
    "cell_id": "af66daaba54d4d4ea3cb5d3b0d632bbb",
    "deepnote_cell_type": "text-cell-h1",
    "formattedRanges": []
   },
   "source": [
    "# Aiven"
   ]
  },
  {
   "block_group": "628e7ca5f92c41acbf7dd3cf5cc2a01c",
   "cell_type": "markdown",
   "metadata": {
    "cell_id": "20d5322c821644028cf664d4f03ab147",
    "deepnote_cell_type": "text-cell-p",
    "formattedRanges": []
   },
   "source": [
    "Aiven adalah sebuah platform cloud yang menyediakan layanan manajemen data yang lengkap dan terkelola. Mereka menawarkan berbagai layanan database open-source, seperti PostgreSQL, MySQL, Kafka, Elasticsearch, Cassandra, Redis, dan banyak lagi. Platform ini dirancang untuk memudahkan pengembang dan organisasi dalam menyimpan, mengelola, dan menganalisis data mereka dengan mudah dan efisien. pada kali ini kita akan membuat server database untuk MySQL dan PostgreSQL, namun sebelum pembuatan server kalian harus melakukan pembuatan akun untuk aiven."
   ]
  },
  {
   "block_group": "955e7949d6094a8288a3d65a4bbce7b5",
   "cell_type": "markdown",
   "metadata": {
    "cell_id": "f6b54fab33c848dfa2839a21c97542ea",
    "deepnote_cell_type": "image",
    "deepnote_img_src": "image-20240320-183236.png"
   },
   "source": [
    "<img src=\"image-20240320-183236.png\" width=\"\" align=\"\" />"
   ]
  },
  {
   "block_group": "3f91cf9619de418e8d179c61b4107d93",
   "cell_type": "markdown",
   "metadata": {
    "cell_id": "35b62940af504dafbd7c33225c87f923",
    "deepnote_cell_type": "text-cell-p",
    "formattedRanges": []
   },
   "source": [
    "maka kita akan bisa melihat server yang berhasil kita buat diatas, yaitu server untuk MySQL dan PostgreSQL"
   ]
  },
  {
   "block_group": "da8e792cf9194802be4109ba52049bcf",
   "cell_type": "markdown",
   "metadata": {
    "cell_id": "2a890cd39c7a431b97e60a470ced3602",
    "deepnote_cell_type": "text-cell-h1",
    "formattedRanges": []
   },
   "source": [
    "# HeidiSQL"
   ]
  },
  {
   "block_group": "99bb72a8456e4ad482fdefa49b70436c",
   "cell_type": "markdown",
   "metadata": {
    "cell_id": "ff0e33edca4a487fa80f0d7868f625d2",
    "deepnote_cell_type": "text-cell-p",
    "formattedRanges": []
   },
   "source": [
    "\r",
    "HeidiSQL adalah sebuah aplikasi manajemen basis data yang open-source dan gratis untuk sistem manajemen basis data (DBMS) seperti MySQL, MariaDB, Microsoft SQL Server, PostgreSQL, dan SQLite. Dirancang khusus untuk memudahkan pengembang database dalam melakukan berbagai tugas administratif terkait basis data, termasuk pengaturan, desain skema, eksekusi query, dan pemantauan. pada heidiSQL kita bisa melakukan pengeditan pada database yang ada di aiven, namun kita harus mengkonfigurasi database kita yang ada di aiven dengan heidiSQL."
   ]
  },
  {
   "block_group": "135296becbea42759d8937e8d7759246",
   "cell_type": "markdown",
   "metadata": {
    "cell_id": "26072e935ae04e85959b4dc76380ea0f",
    "deepnote_cell_type": "image",
    "deepnote_img_src": "image-20240320-183433.png"
   },
   "source": [
    "<img src=\"image-20240320-183433.png\" width=\"\" align=\"\" />"
   ]
  },
  {
   "block_group": "d8b890d39c444482b735392dd694b475",
   "cell_type": "markdown",
   "metadata": {
    "cell_id": "957c7e7aa21d4c4f969dca112be9981c",
    "deepnote_cell_type": "text-cell-p",
    "formattedRanges": []
   },
   "source": [
    "lakukan pencocokan konfigurasi dengan yang ada pada services database kita yang berada pada aiven (Perhatikan jika server merupakan database MySQL maka pada heidiSQL)."
   ]
  },
  {
   "block_group": "78836ee279c843f698cc95b63bd7d2d4",
   "cell_type": "markdown",
   "metadata": {
    "cell_id": "1a4ac737dc03491ab1a9ef8f461ac0d4",
    "deepnote_cell_type": "image",
    "deepnote_img_src": "image-20240320-183757.png"
   },
   "source": [
    "<img src=\"image-20240320-183757.png\" width=\"\" align=\"\" />"
   ]
  },
  {
   "block_group": "0edd6cc81dd1408dae4975f5e7ee9c06",
   "cell_type": "markdown",
   "metadata": {
    "cell_id": "773a2dfcb5b6429bb9525261eef3ddf7",
    "deepnote_cell_type": "text-cell-p",
    "formattedRanges": []
   },
   "source": [
    "lakukan juga konfigurasi pada postgreSQL."
   ]
  },
  {
   "block_group": "23683cc4fb1940e0a7803f92ee4f7be6",
   "cell_type": "markdown",
   "metadata": {
    "cell_id": "20d8e80a8a8f466f81476ad8d3ce8698",
    "deepnote_cell_type": "text-cell-h1",
    "formattedRanges": []
   },
   "source": [
    "# Deepnote"
   ]
  },
  {
   "block_group": "d1db3969840949bbbf8a2806c8295b19",
   "cell_type": "markdown",
   "metadata": {
    "cell_id": "f79384c16a85456fafd532f9edadd820",
    "deepnote_cell_type": "text-cell-p",
    "formattedRanges": []
   },
   "source": [
    "\r",
    "Deepnote adalah platform kolaborasi dan pengembangan data yang dirancang untuk memudahkan tim data scientist, analis data, dan pengembang bekerja secara bersama-sama dalam proyek analisis data dan machine learning. Platform ini menyediakan lingkungan yang lengkap untuk mengelola, mengolah, menganalisis, dan memvisualisasikan data, serta untuk mengembangkan model machine learning. pada deepnote kita juga bisa melakukan manajemen database kita dengan cara kita melakukan intgration dengan database yang ingin kita manage. pada integration kita pilih sesuai database kita, jika database kita MySQL maka kita lakukan integrationnya dengan MySQL"
   ]
  },
  {
   "block_group": "2febbaaf5463432b91a24ad4194a77e4",
   "cell_type": "markdown",
   "metadata": {
    "cell_id": "00f1d742b5794eb390380ef8a74e8b23",
    "deepnote_cell_type": "image",
    "deepnote_img_src": "image-20240320-184338.png"
   },
   "source": [
    "<img src=\"image-20240320-184338.png\" width=\"\" align=\"\" />"
   ]
  },
  {
   "block_group": "16c0c029c41f4375957c34d5f4ad5d82",
   "cell_type": "markdown",
   "metadata": {
    "cell_id": "30e542ded97b460299d19d8a851d4e17",
    "deepnote_cell_type": "text-cell-p",
    "formattedRanges": []
   },
   "source": [
    "lakukan konfigurasi sama seperti dengan heidiSQL tersebut. namun kita belum bisa melakukan pengeditan database karena kita belum mempunyai data yang suda kita simpan pada aiven."
   ]
  },
  {
   "block_group": "47b6ab252c734734ac64d482472f6dd8",
   "cell_type": "markdown",
   "metadata": {
    "cell_id": "e3fa2fa95d0f4e4180cac3220253ec28",
    "deepnote_cell_type": "text-cell-h1",
    "formattedRanges": []
   },
   "source": [
    "# Mengumpulkan data"
   ]
  },
  {
   "block_group": "39e69f8c03ec4223b56364ccdf82f669",
   "cell_type": "markdown",
   "metadata": {
    "cell_id": "c6a276c54eed4cdcbd91967e69743f19",
    "deepnote_cell_type": "text-cell-p",
    "formattedRanges": [
     {
      "fromCodePoint": 73,
      "ranges": [],
      "toCodePoint": 115,
      "type": "link",
      "url": "https://www.kaggle.com/datasets/uciml/iris"
     }
    ]
   },
   "source": [
    "Untuk pengumpulan data kita akan melakukan download data iris pada url : https://www.kaggle.com/datasets/uciml/iris. setelah mendowload data iris pada website tersebut kalian tinggal melakukan extract data tersebut maka akan muncul file iris.csv maka kita berhasil mendapatkan data iris tersebut."
   ]
  },
  {
   "block_group": "121198cc20eb4726b24c263cd83401cf",
   "cell_type": "markdown",
   "metadata": {
    "cell_id": "c1d9df79fcc64c23a2aaae10f39c0783",
    "deepnote_cell_type": "text-cell-h1",
    "formattedRanges": []
   },
   "source": [
    "# Memasukkan data pada MySQL dan potsgreSQL"
   ]
  },
  {
   "block_group": "a43ad5003c1344a69eed2437d84a5a38",
   "cell_type": "markdown",
   "metadata": {
    "cell_id": "080af438e0954c00803f52e516dfcf7c",
    "deepnote_cell_type": "text-cell-p",
    "formattedRanges": [
     {
      "fromCodePoint": 196,
      "ranges": [],
      "toCodePoint": 231,
      "type": "link",
      "url": "https://tableconvert.com/csv-to-sql"
     }
    ]
   },
   "source": [
    "sebelum memasukkan data iris yang kita dapatkan sebelumnya kita harus melakukan konversi csv to sql, banyak website yang menawarkan konversi tinggal cari diinternet dan saya menggunakan website : https://tableconvert.com/csv-to-sql. setelah melakukan konversi maka kita tinggal membuka heidiSQL yang ingin kita masukkan datanya. Contoh imputasi data ke MySQL."
   ]
  },
  {
   "block_group": "6dc1aded6432492abd125f5d951e34e8",
   "cell_type": "markdown",
   "metadata": {
    "cell_id": "b1d5e578c1a248b48e035c1188da4091",
    "deepnote_cell_type": "text-cell-p",
    "formattedRanges": []
   },
   "source": [
    "Pertama kita click kanan pada server database kita, nanti akan muncul create new dan pilih database dan berinama sesuai keinginan kalian"
   ]
  },
  {
   "block_group": "7ee8657ecd4a4fc9b2c26d13f6c3b8d7",
   "cell_type": "markdown",
   "metadata": {
    "cell_id": "5e8f42ca2f3e49c4a46b29fd91c9e7b2",
    "deepnote_cell_type": "image",
    "deepnote_img_src": "image-20240320-185719.png"
   },
   "source": [
    "<img src=\"image-20240320-185719.png\" width=\"\" align=\"\" />"
   ]
  },
  {
   "block_group": "2247a6ad4093460c9771acdda6880236",
   "cell_type": "markdown",
   "metadata": {
    "cell_id": "fb537d642c2c43f88c5decf1553928fa",
    "deepnote_cell_type": "text-cell-p",
    "formattedRanges": []
   },
   "source": [
    "Selanjutnya kita pilih database yang sudah kita buat sebelumnya, dan pada tab nama database kita ada Query, kita click pada query tersebut selanjutnya kita tinggal click kanan pada kotak kosong tersebut dan pilih load sql dan pilih data yang suda kita punya sebelumnya"
   ]
  },
  {
   "block_group": "1beca0cb107c4fef9b2df0ba0bf6c083",
   "cell_type": "markdown",
   "metadata": {
    "cell_id": "54b67ab6cff94e6dbe39eb71b1bd05a2",
    "deepnote_cell_type": "image",
    "deepnote_img_src": "image-20240320-190054.png"
   },
   "source": [
    "<img src=\"image-20240320-190054.png\" width=\"\" align=\"\" />"
   ]
  },
  {
   "block_group": "338fd002e3bc4e7c876475c3c80ab98b",
   "cell_type": "markdown",
   "metadata": {
    "cell_id": "19fe4115f8fa43ffbdc105bee0f6deb8",
    "deepnote_cell_type": "text-cell-p",
    "formattedRanges": []
   },
   "source": [
    "Setelah itu kita tinggal run dan tunggu data kita selesai diinputkan pada database"
   ]
  },
  {
   "block_group": "94cc238fac9e466fb532e41c9510e33d",
   "cell_type": "markdown",
   "metadata": {
    "cell_id": "4547549efcca4f02a616648c63294c4f",
    "deepnote_cell_type": "image",
    "deepnote_img_src": "image-20240320-190225.png"
   },
   "source": [
    "<img src=\"image-20240320-190225.png\" width=\"\" align=\"\" />"
   ]
  },
  {
   "block_group": "c73ac5ac1e174cbe98c5778b320be921",
   "cell_type": "markdown",
   "metadata": {
    "cell_id": "1c99def9876543628dbafeca01f98c69",
    "deepnote_cell_type": "text-cell-p",
    "formattedRanges": []
   },
   "source": [
    "maka akan muncul table sesuai data yang kita inputkan"
   ]
  },
  {
   "block_group": "858a7ff45d194804a6d5d559d69fa726",
   "cell_type": "markdown",
   "metadata": {
    "cell_id": "d6a8ad423b6e4cb795323488f5fc6701",
    "deepnote_cell_type": "image",
    "deepnote_img_src": "image-20240320-190312.png"
   },
   "source": [
    "<img src=\"image-20240320-190312.png\" width=\"\" align=\"\" />"
   ]
  },
  {
   "block_group": "a6028f6dd2764b1aa349ec139efdc6ec",
   "cell_type": "markdown",
   "metadata": {
    "cell_id": "705b3006b7c54f1c97b0428543deb77f",
    "deepnote_cell_type": "text-cell-p",
    "formattedRanges": []
   },
   "source": [
    "lakukan juga input pada data postgreSQL, setelah itu kita tinggal melakukan integration pada deepnote dengan database kita samakan dengan database yang kita punya."
   ]
  },
  {
   "block_group": "c940fbff44844a2c8d3c801640bdaedc",
   "cell_type": "markdown",
   "metadata": {
    "cell_id": "f72de01c3c3443ffae833ea76d5ee3f7",
    "deepnote_cell_type": "text-cell-h1",
    "formattedRanges": []
   },
   "source": [
    "# Melakukan pemisahan data MYSQL dan POSTGRESQL"
   ]
  },
  {
   "block_group": "83a2b4e40cec497593cbca2a64840838",
   "cell_type": "markdown",
   "metadata": {
    "cell_id": "3290a2ff7e3c4ce98490c4c2168dadf4",
    "deepnote_cell_type": "text-cell-p",
    "formattedRanges": []
   },
   "source": [
    "kita melakukan pemisahan data pada sql terdapat id, sepallengt, sepalwidth, dan species maka kita lakukan drop pada petallength, dan petalwidth"
   ]
  },
  {
   "block_group": "7595777057d54afb87070996fb3d8c3d",
   "cell_type": "code",
   "execution_count": 1,
   "metadata": {
    "cell_id": "0ff827ea83a0479b8f38faa792f2cd0e",
    "deepnote_cell_type": "sql",
    "deepnote_sql_source": "ALTER TABLE tableName DROP COLUMN PetalWidthCm, DROP COLUMN PetalLengthCm",
    "deepnote_variable_name": "df_10",
    "sql_integration_id": "8cf1e489-1c56-4e18-bf27-c266b7eecff1"
   },
   "outputs": [
    {
     "ename": "NameError",
     "evalue": "name '_deepnote_execute_sql' is not defined",
     "output_type": "error",
     "traceback": [
      "\u001b[1;31m---------------------------------------------------------------------------\u001b[0m",
      "\u001b[1;31mNameError\u001b[0m                                 Traceback (most recent call last)",
      "Cell \u001b[1;32mIn[1], line 1\u001b[0m\n\u001b[1;32m----> 1\u001b[0m df_10 \u001b[38;5;241m=\u001b[39m \u001b[43m_deepnote_execute_sql\u001b[49m(\u001b[38;5;124m'\u001b[39m\u001b[38;5;124mALTER TABLE tableName DROP COLUMN PetalWidthCm, DROP COLUMN PetalLengthCm\u001b[39m\u001b[38;5;124m'\u001b[39m, \u001b[38;5;124m'\u001b[39m\u001b[38;5;124mSQL_8CF1E489_1C56_4E18_BF27_C266B7EECFF1\u001b[39m\u001b[38;5;124m'\u001b[39m, audit_sql_comment\u001b[38;5;241m=\u001b[39m\u001b[38;5;124m'\u001b[39m\u001b[38;5;124m'\u001b[39m, sql_cache_mode\u001b[38;5;241m=\u001b[39m\u001b[38;5;124m'\u001b[39m\u001b[38;5;124mcache_disabled\u001b[39m\u001b[38;5;124m'\u001b[39m)\n\u001b[0;32m      2\u001b[0m df_10\n",
      "\u001b[1;31mNameError\u001b[0m: name '_deepnote_execute_sql' is not defined"
     ]
    }
   ],
   "outputs_reference": null,
   "source": [
    "df_10 = _deepnote_execute_sql('ALTER TABLE tableName DROP COLUMN PetalWidthCm, DROP COLUMN PetalLengthCm', 'SQL_8CF1E489_1C56_4E18_BF27_C266B7EECFF1', audit_sql_comment='', sql_cache_mode='cache_disabled')\n",
    "df_10"
   ]
  },
  {
   "block_group": "f3a381495cc946a58168a53d475d50f1",
   "cell_type": "code",
   "execution_count": null,
   "metadata": {
    "allow_embed": false,
    "cell_id": "c992b38acb25435cbdfac002ae0bd249",
    "deepnote_cell_type": "sql",
    "deepnote_sql_source": "ALTER TABLE preminMean DROP COLUMN PetalWidthCm, DROP COLUMN PetalLengthCm",
    "deepnote_variable_name": "df_14",
    "sql_integration_id": "8cf1e489-1c56-4e18-bf27-c266b7eecff1"
   },
   "outputs": [],
   "outputs_reference": null,
   "source": [
    "df_14 = _deepnote_execute_sql('ALTER TABLE preminMean DROP COLUMN PetalWidthCm, DROP COLUMN PetalLengthCm', 'SQL_8CF1E489_1C56_4E18_BF27_C266B7EECFF1', audit_sql_comment='', sql_cache_mode='cache_disabled')\n",
    "df_14"
   ]
  },
  {
   "block_group": "fac8ac893a424a77b4d5dfaeef8a36b8",
   "cell_type": "code",
   "execution_count": null,
   "metadata": {
    "allow_embed": false,
    "cell_id": "95074ad66d68456abbea9837936719c5",
    "deepnote_cell_type": "sql",
    "deepnote_sql_source": "ALTER TABLE preminKnn DROP COLUMN PetalWidthCm, DROP COLUMN PetalLengthCm",
    "deepnote_variable_name": "df_15",
    "sql_integration_id": "8cf1e489-1c56-4e18-bf27-c266b7eecff1"
   },
   "outputs": [],
   "outputs_reference": null,
   "source": [
    "df_15 = _deepnote_execute_sql('ALTER TABLE preminKnn DROP COLUMN PetalWidthCm, DROP COLUMN PetalLengthCm', 'SQL_8CF1E489_1C56_4E18_BF27_C266B7EECFF1', audit_sql_comment='', sql_cache_mode='cache_disabled')\n",
    "df_15"
   ]
  },
  {
   "block_group": "21c31f6f467b4e1f90b31e6f2d8509b7",
   "cell_type": "markdown",
   "metadata": {
    "cell_id": "e52bb236ffd14c6cb2c3bd28a0be537e",
    "deepnote_cell_type": "text-cell-p",
    "formattedRanges": []
   },
   "source": [
    "pada postgre kita hanya membutuhkan id, petallength, petalwidth, dan species maka kita lakukan drop pada sepallength dan sepalwidth"
   ]
  },
  {
   "block_group": "89290e7b29224e2eaf4ae61de0d996f3",
   "cell_type": "code",
   "execution_count": null,
   "metadata": {
    "cell_id": "341073ca3f0146859dba292b3758a962",
    "deepnote_cell_type": "sql",
    "deepnote_sql_source": "ALTER TABLE tablename DROP COLUMN sepallengthcm, DROP COLUMN sepalwidthcm",
    "deepnote_variable_name": "df_16",
    "sql_integration_id": "5853bb35-05f0-4604-b406-1dfa6d0a92da"
   },
   "outputs": [],
   "outputs_reference": null,
   "source": [
    "df_16 = _deepnote_execute_sql('ALTER TABLE tablename DROP COLUMN sepallengthcm, DROP COLUMN sepalwidthcm', 'SQL_5853BB35_05F0_4604_B406_1DFA6D0A92DA', audit_sql_comment='', sql_cache_mode='cache_disabled')\n",
    "df_16"
   ]
  },
  {
   "block_group": "2847102976614b0495376dcaa0bf89bb",
   "cell_type": "code",
   "execution_count": null,
   "metadata": {
    "allow_embed": false,
    "cell_id": "f029e3fd4a834c9bbf21864c6e2d865a",
    "deepnote_cell_type": "sql",
    "deepnote_sql_source": "ALTER TABLE preminmean DROP COLUMN sepallengthcm, DROP COLUMN sepalwidthcm",
    "deepnote_variable_name": "df_18",
    "sql_integration_id": "5853bb35-05f0-4604-b406-1dfa6d0a92da"
   },
   "outputs": [],
   "outputs_reference": null,
   "source": [
    "df_18 = _deepnote_execute_sql('ALTER TABLE preminmean DROP COLUMN sepallengthcm, DROP COLUMN sepalwidthcm', 'SQL_5853BB35_05F0_4604_B406_1DFA6D0A92DA', audit_sql_comment='', sql_cache_mode='cache_disabled')\n",
    "df_18"
   ]
  },
  {
   "block_group": "4c4ce97470b547dfbf83fb66abd55ea1",
   "cell_type": "code",
   "execution_count": null,
   "metadata": {
    "allow_embed": false,
    "cell_id": "263720c245084d4c887e15d428001d4c",
    "deepnote_cell_type": "sql",
    "deepnote_sql_source": "ALTER TABLE preminknn DROP COLUMN sepallengthcm, DROP COLUMN sepalwidthcm",
    "deepnote_variable_name": "df_19",
    "sql_integration_id": "5853bb35-05f0-4604-b406-1dfa6d0a92da"
   },
   "outputs": [],
   "outputs_reference": null,
   "source": [
    "df_19 = _deepnote_execute_sql('ALTER TABLE preminknn DROP COLUMN sepallengthcm, DROP COLUMN sepalwidthcm', 'SQL_5853BB35_05F0_4604_B406_1DFA6D0A92DA', audit_sql_comment='', sql_cache_mode='cache_disabled')\n",
    "df_19"
   ]
  },
  {
   "block_group": "00038a3ede3e4b6d9c73d884fbdd0b81",
   "cell_type": "markdown",
   "metadata": {
    "cell_id": "3cd47556d04e4fd6a80e65c708d66f5b",
    "deepnote_cell_type": "text-cell-h1",
    "formattedRanges": []
   },
   "source": [
    "# Install connector SQL"
   ]
  },
  {
   "block_group": "7ca279aa523543538a23d2ad09e2d5f5",
   "cell_type": "markdown",
   "metadata": {
    "cell_id": "a4ddce9c16504ffba7c3a7ac2bfdfa18",
    "deepnote_cell_type": "text-cell-p",
    "formattedRanges": []
   },
   "source": [
    "Memasukkan data tableName pada postegree dan sql ke dataframe sql, lakukan install untuk connector sql dan postgre"
   ]
  },
  {
   "block_group": "f24347bcf0b64059ba8309ba6fe66f17",
   "cell_type": "code",
   "execution_count": null,
   "metadata": {
    "cell_id": "f24347bcf0b64059ba8309ba6fe66f17",
    "deepnote_cell_type": "code",
    "deepnote_to_be_reexecuted": false,
    "execution_millis": 6582,
    "execution_start": 1710936775611,
    "source_hash": null
   },
   "outputs": [
    {
     "name": "stdout",
     "output_type": "stream",
     "text": [
      "Collecting mysql-connector-python\n",
      "  Downloading mysql_connector_python-8.3.0-cp39-cp39-manylinux_2_17_x86_64.whl (21.5 MB)\n",
      "\u001b[2K     \u001b[90m━━━━━━━━━━━━━━━━━━━━━━━━━━━━━━━━━━━━━━━━\u001b[0m \u001b[32m21.5/21.5 MB\u001b[0m \u001b[31m46.7 MB/s\u001b[0m eta \u001b[36m0:00:00\u001b[0m\n",
      "\u001b[?25hInstalling collected packages: mysql-connector-python\n",
      "Successfully installed mysql-connector-python-8.3.0\n",
      "\n",
      "\u001b[1m[\u001b[0m\u001b[34;49mnotice\u001b[0m\u001b[1;39;49m]\u001b[0m\u001b[39;49m A new release of pip is available: \u001b[0m\u001b[31;49m23.0.1\u001b[0m\u001b[39;49m -> \u001b[0m\u001b[32;49m24.0\u001b[0m\n",
      "\u001b[1m[\u001b[0m\u001b[34;49mnotice\u001b[0m\u001b[1;39;49m]\u001b[0m\u001b[39;49m To update, run: \u001b[0m\u001b[32;49mpip install --upgrade pip\u001b[0m\n"
     ]
    }
   ],
   "outputs_reference": "dbtable:cell_outputs/dabe9834-a8cf-41dc-a9e6-31ff94e22692",
   "source": [
    "!pip install mysql-connector-python"
   ]
  },
  {
   "block_group": "239dd1dc087940b587b3211b2ddda9b0",
   "cell_type": "markdown",
   "metadata": {
    "cell_id": "8cda531736864660861fa76861e0a5e7",
    "deepnote_cell_type": "text-cell-h1",
    "formattedRanges": []
   },
   "source": [
    "# Install connector POSTGRE"
   ]
  },
  {
   "block_group": "1523a624858249e5b4fafe5ea0cf9c5a",
   "cell_type": "code",
   "execution_count": null,
   "metadata": {
    "cell_id": "97961b856421442dabcaa58d589831ac",
    "deepnote_cell_type": "code",
    "deepnote_to_be_reexecuted": false,
    "execution_millis": 4565,
    "execution_start": 1710936785802,
    "source_hash": null
   },
   "outputs": [
    {
     "name": "stdout",
     "output_type": "stream",
     "text": [
      "Requirement already satisfied: psycopg2-binary in /shared-libs/python3.9/py/lib/python3.9/site-packages (2.9.4)\n",
      "\n",
      "\u001b[1m[\u001b[0m\u001b[34;49mnotice\u001b[0m\u001b[1;39;49m]\u001b[0m\u001b[39;49m A new release of pip is available: \u001b[0m\u001b[31;49m23.0.1\u001b[0m\u001b[39;49m -> \u001b[0m\u001b[32;49m24.0\u001b[0m\n",
      "\u001b[1m[\u001b[0m\u001b[34;49mnotice\u001b[0m\u001b[1;39;49m]\u001b[0m\u001b[39;49m To update, run: \u001b[0m\u001b[32;49mpip install --upgrade pip\u001b[0m\n"
     ]
    }
   ],
   "outputs_reference": "dbtable:cell_outputs/bb901247-5564-455d-a8fd-3e7155a00e55",
   "source": [
    "!pip install psycopg2-binary"
   ]
  },
  {
   "block_group": "979a3520fcbd497c92b0cfc91ec3c591",
   "cell_type": "markdown",
   "metadata": {
    "cell_id": "640284022a7044a29d86f18e5af0ad06",
    "deepnote_cell_type": "text-cell-h1",
    "formattedRanges": []
   },
   "source": [
    "# Melakukan koneksi database ke dataframe deepnote"
   ]
  },
  {
   "block_group": "37eb4a3774c848f99133978e30dae969",
   "cell_type": "markdown",
   "metadata": {
    "cell_id": "4a371fc9b7c4458ca54195830ba42473",
    "deepnote_cell_type": "text-cell-p",
    "formattedRanges": []
   },
   "source": [
    "setelah itu kita akses server kita di aiven, sesuaikan dengan yang server postgre dan sql supaya nanti akan terbaca pada dataframe sql di deepnote"
   ]
  },
  {
   "block_group": "53399a4d70e545d9bf2163f315ae19d5",
   "cell_type": "code",
   "execution_count": null,
   "metadata": {
    "cell_id": "987bcc260b654f1f86889b1f622f656c",
    "deepnote_cell_type": "code",
    "deepnote_to_be_reexecuted": false,
    "execution_millis": 4943,
    "execution_start": 1710160441769,
    "source_hash": null
   },
   "outputs": [
    {
     "name": "stderr",
     "output_type": "stream",
     "text": [
      "/tmp/ipykernel_292/4069721288.py:22: UserWarning: pandas only supports SQLAlchemy connectable (engine/connection) or database string URI or sqlite3 DBAPI2 connection. Other DBAPI2 objects are not tested. Please consider using SQLAlchemy.\n",
      "  data_sql = pd.read_sql(sql_query, sql_connection)\n",
      "/tmp/ipykernel_292/4069721288.py:25: UserWarning: pandas only supports SQLAlchemy connectable (engine/connection) or database string URI or sqlite3 DBAPI2 connection. Other DBAPI2 objects are not tested. Please consider using SQLAlchemy.\n",
      "  data_sql_mean = pd.read_sql(sql_query1, sql_connection)\n",
      "/tmp/ipykernel_292/4069721288.py:28: UserWarning: pandas only supports SQLAlchemy connectable (engine/connection) or database string URI or sqlite3 DBAPI2 connection. Other DBAPI2 objects are not tested. Please consider using SQLAlchemy.\n",
      "  data_sql_knn = pd.read_sql(sql_query2, sql_connection)\n",
      "/tmp/ipykernel_292/4069721288.py:31: UserWarning: pandas only supports SQLAlchemy connectable (engine/connection) or database string URI or sqlite3 DBAPI2 connection. Other DBAPI2 objects are not tested. Please consider using SQLAlchemy.\n",
      "  data_postgres = pd.read_sql(postgres_query, postgres_connection)\n",
      "/tmp/ipykernel_292/4069721288.py:34: UserWarning: pandas only supports SQLAlchemy connectable (engine/connection) or database string URI or sqlite3 DBAPI2 connection. Other DBAPI2 objects are not tested. Please consider using SQLAlchemy.\n",
      "  data_postgres_mean = pd.read_sql(postgres_query1, postgres_connection)\n",
      "/tmp/ipykernel_292/4069721288.py:37: UserWarning: pandas only supports SQLAlchemy connectable (engine/connection) or database string URI or sqlite3 DBAPI2 connection. Other DBAPI2 objects are not tested. Please consider using SQLAlchemy.\n",
      "  data_postgres_knn = pd.read_sql(postgres_query2, postgres_connection)\n"
     ]
    }
   ],
   "outputs_reference": "s3:deepnote-cell-outputs-production/6b10c771-4637-4426-a6aa-9d8cb9bfb6d9",
   "source": [
    "import pandas as pd\n",
    "import mysql.connector\n",
    "import psycopg2\n",
    "\n",
    "sql_connection = mysql.connector.connect(\n",
    "    host=\"datamining1-malik22168.a.aivencloud.com\",\n",
    "    user=\"avnadmin\",\n",
    "    password=\"AVNS_Gg1SZZ0NgVgxwWB3wP1\",\n",
    "    port = \"12594\",\n",
    "    database=\"tugas2\"\n",
    ")\n",
    "\n",
    "postgres_connection = psycopg2.connect(\n",
    "    host=\"datamining-malik22168.a.aivencloud.com\",\n",
    "    database=\"datamining\",\n",
    "    user=\"avnadmin\",\n",
    "    port=\"12594\",\n",
    "    password=\"AVNS_tqWcxfR1VAydjtcENIn\"\n",
    ")\n",
    "\n",
    "sql_query = \"SELECT * FROM tableName\"\n",
    "data_sql = pd.read_sql(sql_query, sql_connection)\n",
    "\n",
    "sql_query1 = \"SELECT * FROM preminMean\"\n",
    "data_sql_mean = pd.read_sql(sql_query1, sql_connection)\n",
    "\n",
    "sql_query2 = \"SELECT * FROM preminKnn\"\n",
    "data_sql_knn = pd.read_sql(sql_query2, sql_connection)\n",
    "\n",
    "postgres_query = \"SELECT * FROM tablename\"\n",
    "data_postgres = pd.read_sql(postgres_query, postgres_connection)\n",
    "\n",
    "postgres_query1 = \"SELECT * FROM preminmean\"\n",
    "data_postgres_mean = pd.read_sql(postgres_query1, postgres_connection)\n",
    "\n",
    "postgres_query2 = \"SELECT * FROM preminknn\"\n",
    "data_postgres_knn = pd.read_sql(postgres_query2, postgres_connection)"
   ]
  },
  {
   "block_group": "f88e1d36355b4663abefb6cabf00326a",
   "cell_type": "markdown",
   "metadata": {
    "cell_id": "4378aa06a12d4395bbc5afda9cf86d9a",
    "deepnote_cell_type": "text-cell-h1",
    "formattedRanges": []
   },
   "source": [
    "# Akses DataFrame pada data asli"
   ]
  },
  {
   "block_group": "9051c2eeaaef471481e3fa02090d2c09",
   "cell_type": "markdown",
   "metadata": {
    "cell_id": "76db058fe2674c7dabd2c15e18509de5",
    "deepnote_cell_type": "text-cell-p",
    "formattedRanges": []
   },
   "source": [
    "setelah itu kita tinggal melakukan pengaksesan data frame yang sudah kita konfigurasi sebelumnya dengan melakukan inner join dengan pada data postgre id = data sql id."
   ]
  },
  {
   "block_group": "289c066dad4d4f57a798a16e9276a6b2",
   "cell_type": "code",
   "execution_count": null,
   "metadata": {
    "cell_id": "f24c16f552364d3da8617bccc8724ee7",
    "deepnote_cell_type": "sql",
    "deepnote_sql_source": "SELECT * FROM data_postgres INNER JOIN data_sql ON data_postgres.id = data_sql.id",
    "deepnote_to_be_reexecuted": false,
    "deepnote_variable_name": "df_1",
    "execution_millis": 173,
    "execution_start": 1710159538574,
    "source_hash": null,
    "sql_integration_id": "deepnote-dataframe-sql"
   },
   "outputs": [
    {
     "data": {
      "application/vnd.deepnote.dataframe.v3+json": {
       "column_count": 8,
       "columns": [
        {
         "dtype": "int64",
         "name": "id",
         "stats": {
          "histogram": [
           {
            "bin_end": 15.9,
            "bin_start": 1,
            "count": 15
           },
           {
            "bin_end": 30.8,
            "bin_start": 15.9,
            "count": 15
           },
           {
            "bin_end": 45.7,
            "bin_start": 30.8,
            "count": 15
           },
           {
            "bin_end": 60.6,
            "bin_start": 45.7,
            "count": 15
           },
           {
            "bin_end": 75.5,
            "bin_start": 60.6,
            "count": 15
           },
           {
            "bin_end": 90.4,
            "bin_start": 75.5,
            "count": 15
           },
           {
            "bin_end": 105.3,
            "bin_start": 90.4,
            "count": 15
           },
           {
            "bin_end": 120.2,
            "bin_start": 105.3,
            "count": 15
           },
           {
            "bin_end": 135.1,
            "bin_start": 120.2,
            "count": 15
           },
           {
            "bin_end": 150,
            "bin_start": 135.1,
            "count": 15
           }
          ],
          "max": "150",
          "min": "1",
          "nan_count": 0,
          "unique_count": 150
         }
        },
        {
         "dtype": "float64",
         "name": "petallengthcm",
         "stats": {
          "histogram": [
           {
            "bin_end": 1.59,
            "bin_start": 1,
            "count": 37
           },
           {
            "bin_end": 2.18,
            "bin_start": 1.59,
            "count": 13
           },
           {
            "bin_end": 2.7700000000000005,
            "bin_start": 2.18,
            "count": 0
           },
           {
            "bin_end": 3.3600000000000003,
            "bin_start": 2.7700000000000005,
            "count": 3
           },
           {
            "bin_end": 3.95,
            "bin_start": 3.3600000000000003,
            "count": 8
           },
           {
            "bin_end": 4.540000000000001,
            "bin_start": 3.95,
            "count": 26
           },
           {
            "bin_end": 5.130000000000001,
            "bin_start": 4.540000000000001,
            "count": 29
           },
           {
            "bin_end": 5.720000000000001,
            "bin_start": 5.130000000000001,
            "count": 18
           },
           {
            "bin_end": 6.3100000000000005,
            "bin_start": 5.720000000000001,
            "count": 11
           },
           {
            "bin_end": 6.9,
            "bin_start": 6.3100000000000005,
            "count": 5
           }
          ],
          "max": "6.9",
          "min": "1.0",
          "nan_count": 0,
          "unique_count": 43
         }
        },
        {
         "dtype": "float64",
         "name": "petalwidthcm",
         "stats": {
          "histogram": [
           {
            "bin_end": 0.33999999999999997,
            "bin_start": 0.1,
            "count": 41
           },
           {
            "bin_end": 0.58,
            "bin_start": 0.33999999999999997,
            "count": 8
           },
           {
            "bin_end": 0.82,
            "bin_start": 0.58,
            "count": 1
           },
           {
            "bin_end": 1.06,
            "bin_start": 0.82,
            "count": 7
           },
           {
            "bin_end": 1.3,
            "bin_start": 1.06,
            "count": 8
           },
           {
            "bin_end": 1.54,
            "bin_start": 1.3,
            "count": 33
           },
           {
            "bin_end": 1.78,
            "bin_start": 1.54,
            "count": 6
           },
           {
            "bin_end": 2.02,
            "bin_start": 1.78,
            "count": 23
           },
           {
            "bin_end": 2.2600000000000002,
            "bin_start": 2.02,
            "count": 9
           },
           {
            "bin_end": 2.5,
            "bin_start": 2.2600000000000002,
            "count": 14
           }
          ],
          "max": "2.5",
          "min": "0.1",
          "nan_count": 0,
          "unique_count": 22
         }
        },
        {
         "dtype": "object",
         "name": "species",
         "stats": {
          "categories": [
           {
            "count": 50,
            "name": "Iris-setosa"
           },
           {
            "count": 50,
            "name": "Iris-versicolor"
           },
           {
            "count": 50,
            "name": "Iris-virginica"
           }
          ],
          "nan_count": 0,
          "unique_count": 3
         }
        },
        {
         "dtype": "int64",
         "name": "Id",
         "stats": {
          "histogram": [
           {
            "bin_end": 15.9,
            "bin_start": 1,
            "count": 15
           },
           {
            "bin_end": 30.8,
            "bin_start": 15.9,
            "count": 15
           },
           {
            "bin_end": 45.7,
            "bin_start": 30.8,
            "count": 15
           },
           {
            "bin_end": 60.6,
            "bin_start": 45.7,
            "count": 15
           },
           {
            "bin_end": 75.5,
            "bin_start": 60.6,
            "count": 15
           },
           {
            "bin_end": 90.4,
            "bin_start": 75.5,
            "count": 15
           },
           {
            "bin_end": 105.3,
            "bin_start": 90.4,
            "count": 15
           },
           {
            "bin_end": 120.2,
            "bin_start": 105.3,
            "count": 15
           },
           {
            "bin_end": 135.1,
            "bin_start": 120.2,
            "count": 15
           },
           {
            "bin_end": 150,
            "bin_start": 135.1,
            "count": 15
           }
          ],
          "max": "150",
          "min": "1",
          "nan_count": 0,
          "unique_count": 150
         }
        },
        {
         "dtype": "float64",
         "name": "SepalLengthCm",
         "stats": {
          "histogram": [
           {
            "bin_end": 4.66,
            "bin_start": 4.3,
            "count": 9
           },
           {
            "bin_end": 5.02,
            "bin_start": 4.66,
            "count": 23
           },
           {
            "bin_end": 5.38,
            "bin_start": 5.02,
            "count": 14
           },
           {
            "bin_end": 5.74,
            "bin_start": 5.38,
            "count": 27
           },
           {
            "bin_end": 6.1,
            "bin_start": 5.74,
            "count": 16
           },
           {
            "bin_end": 6.46,
            "bin_start": 6.1,
            "count": 26
           },
           {
            "bin_end": 6.82,
            "bin_start": 6.46,
            "count": 18
           },
           {
            "bin_end": 7.18,
            "bin_start": 6.82,
            "count": 6
           },
           {
            "bin_end": 7.54,
            "bin_start": 7.18,
            "count": 5
           },
           {
            "bin_end": 7.9,
            "bin_start": 7.54,
            "count": 6
           }
          ],
          "max": "7.9",
          "min": "4.3",
          "nan_count": 0,
          "unique_count": 35
         }
        },
        {
         "dtype": "float64",
         "name": "SepalWidthCm",
         "stats": {
          "histogram": [
           {
            "bin_end": 2.24,
            "bin_start": 2,
            "count": 4
           },
           {
            "bin_end": 2.48,
            "bin_start": 2.24,
            "count": 7
           },
           {
            "bin_end": 2.72,
            "bin_start": 2.48,
            "count": 22
           },
           {
            "bin_end": 2.96,
            "bin_start": 2.72,
            "count": 24
           },
           {
            "bin_end": 3.2,
            "bin_start": 2.96,
            "count": 38
           },
           {
            "bin_end": 3.4400000000000004,
            "bin_start": 3.2,
            "count": 31
           },
           {
            "bin_end": 3.6800000000000006,
            "bin_start": 3.4400000000000004,
            "count": 9
           },
           {
            "bin_end": 3.9200000000000004,
            "bin_start": 3.6800000000000006,
            "count": 11
           },
           {
            "bin_end": 4.16,
            "bin_start": 3.9200000000000004,
            "count": 2
           },
           {
            "bin_end": 4.4,
            "bin_start": 4.16,
            "count": 2
           }
          ],
          "max": "4.4",
          "min": "2.0",
          "nan_count": 0,
          "unique_count": 23
         }
        },
        {
         "dtype": "object",
         "name": "Species",
         "stats": {
          "categories": [
           {
            "count": 50,
            "name": "Iris-setosa"
           },
           {
            "count": 50,
            "name": "Iris-versicolor"
           },
           {
            "count": 50,
            "name": "Iris-virginica"
           }
          ],
          "nan_count": 0,
          "unique_count": 3
         }
        },
        {
         "dtype": "int64",
         "name": "_deepnote_index_column"
        }
       ],
       "row_count": 150,
       "rows": [
        {
         "Id": 1,
         "SepalLengthCm": 5.1,
         "SepalWidthCm": 3.5,
         "Species": "Iris-setosa",
         "_deepnote_index_column": 0,
         "id": 1,
         "petallengthcm": 1.4,
         "petalwidthcm": 0.2,
         "species": "Iris-setosa"
        },
        {
         "Id": 2,
         "SepalLengthCm": 4.9,
         "SepalWidthCm": 3,
         "Species": "Iris-setosa",
         "_deepnote_index_column": 1,
         "id": 2,
         "petallengthcm": 1.4,
         "petalwidthcm": 0.2,
         "species": "Iris-setosa"
        },
        {
         "Id": 3,
         "SepalLengthCm": 4.7,
         "SepalWidthCm": 3.2,
         "Species": "Iris-setosa",
         "_deepnote_index_column": 2,
         "id": 3,
         "petallengthcm": 1.3,
         "petalwidthcm": 0.2,
         "species": "Iris-setosa"
        },
        {
         "Id": 4,
         "SepalLengthCm": 4.6,
         "SepalWidthCm": 3.1,
         "Species": "Iris-setosa",
         "_deepnote_index_column": 3,
         "id": 4,
         "petallengthcm": 1.5,
         "petalwidthcm": 0.2,
         "species": "Iris-setosa"
        },
        {
         "Id": 5,
         "SepalLengthCm": 5,
         "SepalWidthCm": 3.6,
         "Species": "Iris-setosa",
         "_deepnote_index_column": 4,
         "id": 5,
         "petallengthcm": 1.4,
         "petalwidthcm": 0.2,
         "species": "Iris-setosa"
        },
        {
         "Id": 6,
         "SepalLengthCm": 5.4,
         "SepalWidthCm": 3.9,
         "Species": "Iris-setosa",
         "_deepnote_index_column": 5,
         "id": 6,
         "petallengthcm": 1.7,
         "petalwidthcm": 0.4,
         "species": "Iris-setosa"
        },
        {
         "Id": 7,
         "SepalLengthCm": 4.6,
         "SepalWidthCm": 3.4,
         "Species": "Iris-setosa",
         "_deepnote_index_column": 6,
         "id": 7,
         "petallengthcm": 1.4,
         "petalwidthcm": 0.3,
         "species": "Iris-setosa"
        },
        {
         "Id": 8,
         "SepalLengthCm": 5,
         "SepalWidthCm": 3.4,
         "Species": "Iris-setosa",
         "_deepnote_index_column": 7,
         "id": 8,
         "petallengthcm": 1.5,
         "petalwidthcm": 0.2,
         "species": "Iris-setosa"
        },
        {
         "Id": 9,
         "SepalLengthCm": 4.4,
         "SepalWidthCm": 2.9,
         "Species": "Iris-setosa",
         "_deepnote_index_column": 8,
         "id": 9,
         "petallengthcm": 1.4,
         "petalwidthcm": 0.2,
         "species": "Iris-setosa"
        },
        {
         "Id": 10,
         "SepalLengthCm": 4.9,
         "SepalWidthCm": 3.1,
         "Species": "Iris-setosa",
         "_deepnote_index_column": 9,
         "id": 10,
         "petallengthcm": 1.5,
         "petalwidthcm": 0.1,
         "species": "Iris-setosa"
        }
       ]
      },
      "text/html": [
       "<div>\n",
       "<style scoped>\n",
       "    .dataframe tbody tr th:only-of-type {\n",
       "        vertical-align: middle;\n",
       "    }\n",
       "\n",
       "    .dataframe tbody tr th {\n",
       "        vertical-align: top;\n",
       "    }\n",
       "\n",
       "    .dataframe thead th {\n",
       "        text-align: right;\n",
       "    }\n",
       "</style>\n",
       "<table border=\"1\" class=\"dataframe\">\n",
       "  <thead>\n",
       "    <tr style=\"text-align: right;\">\n",
       "      <th></th>\n",
       "      <th>id</th>\n",
       "      <th>petallengthcm</th>\n",
       "      <th>petalwidthcm</th>\n",
       "      <th>species</th>\n",
       "      <th>Id</th>\n",
       "      <th>SepalLengthCm</th>\n",
       "      <th>SepalWidthCm</th>\n",
       "      <th>Species</th>\n",
       "    </tr>\n",
       "  </thead>\n",
       "  <tbody>\n",
       "    <tr>\n",
       "      <th>0</th>\n",
       "      <td>1</td>\n",
       "      <td>1.4</td>\n",
       "      <td>0.2</td>\n",
       "      <td>Iris-setosa</td>\n",
       "      <td>1</td>\n",
       "      <td>5.1</td>\n",
       "      <td>3.5</td>\n",
       "      <td>Iris-setosa</td>\n",
       "    </tr>\n",
       "    <tr>\n",
       "      <th>1</th>\n",
       "      <td>2</td>\n",
       "      <td>1.4</td>\n",
       "      <td>0.2</td>\n",
       "      <td>Iris-setosa</td>\n",
       "      <td>2</td>\n",
       "      <td>4.9</td>\n",
       "      <td>3.0</td>\n",
       "      <td>Iris-setosa</td>\n",
       "    </tr>\n",
       "    <tr>\n",
       "      <th>2</th>\n",
       "      <td>3</td>\n",
       "      <td>1.3</td>\n",
       "      <td>0.2</td>\n",
       "      <td>Iris-setosa</td>\n",
       "      <td>3</td>\n",
       "      <td>4.7</td>\n",
       "      <td>3.2</td>\n",
       "      <td>Iris-setosa</td>\n",
       "    </tr>\n",
       "    <tr>\n",
       "      <th>3</th>\n",
       "      <td>4</td>\n",
       "      <td>1.5</td>\n",
       "      <td>0.2</td>\n",
       "      <td>Iris-setosa</td>\n",
       "      <td>4</td>\n",
       "      <td>4.6</td>\n",
       "      <td>3.1</td>\n",
       "      <td>Iris-setosa</td>\n",
       "    </tr>\n",
       "    <tr>\n",
       "      <th>4</th>\n",
       "      <td>5</td>\n",
       "      <td>1.4</td>\n",
       "      <td>0.2</td>\n",
       "      <td>Iris-setosa</td>\n",
       "      <td>5</td>\n",
       "      <td>5.0</td>\n",
       "      <td>3.6</td>\n",
       "      <td>Iris-setosa</td>\n",
       "    </tr>\n",
       "    <tr>\n",
       "      <th>...</th>\n",
       "      <td>...</td>\n",
       "      <td>...</td>\n",
       "      <td>...</td>\n",
       "      <td>...</td>\n",
       "      <td>...</td>\n",
       "      <td>...</td>\n",
       "      <td>...</td>\n",
       "      <td>...</td>\n",
       "    </tr>\n",
       "    <tr>\n",
       "      <th>145</th>\n",
       "      <td>104</td>\n",
       "      <td>5.6</td>\n",
       "      <td>1.8</td>\n",
       "      <td>Iris-virginica</td>\n",
       "      <td>104</td>\n",
       "      <td>6.3</td>\n",
       "      <td>2.9</td>\n",
       "      <td>Iris-virginica</td>\n",
       "    </tr>\n",
       "    <tr>\n",
       "      <th>146</th>\n",
       "      <td>115</td>\n",
       "      <td>5.1</td>\n",
       "      <td>2.4</td>\n",
       "      <td>Iris-virginica</td>\n",
       "      <td>115</td>\n",
       "      <td>5.8</td>\n",
       "      <td>2.8</td>\n",
       "      <td>Iris-virginica</td>\n",
       "    </tr>\n",
       "    <tr>\n",
       "      <th>147</th>\n",
       "      <td>142</td>\n",
       "      <td>5.1</td>\n",
       "      <td>2.3</td>\n",
       "      <td>Iris-virginica</td>\n",
       "      <td>142</td>\n",
       "      <td>6.9</td>\n",
       "      <td>3.1</td>\n",
       "      <td>Iris-virginica</td>\n",
       "    </tr>\n",
       "    <tr>\n",
       "      <th>148</th>\n",
       "      <td>143</td>\n",
       "      <td>5.1</td>\n",
       "      <td>1.9</td>\n",
       "      <td>Iris-virginica</td>\n",
       "      <td>143</td>\n",
       "      <td>5.8</td>\n",
       "      <td>2.7</td>\n",
       "      <td>Iris-virginica</td>\n",
       "    </tr>\n",
       "    <tr>\n",
       "      <th>149</th>\n",
       "      <td>74</td>\n",
       "      <td>4.7</td>\n",
       "      <td>1.2</td>\n",
       "      <td>Iris-versicolor</td>\n",
       "      <td>74</td>\n",
       "      <td>6.1</td>\n",
       "      <td>2.8</td>\n",
       "      <td>Iris-versicolor</td>\n",
       "    </tr>\n",
       "  </tbody>\n",
       "</table>\n",
       "<p>150 rows × 8 columns</p>\n",
       "</div>"
      ],
      "text/plain": [
       "      id  petallengthcm  petalwidthcm          species   Id  SepalLengthCm  \\\n",
       "0      1            1.4           0.2      Iris-setosa    1            5.1   \n",
       "1      2            1.4           0.2      Iris-setosa    2            4.9   \n",
       "2      3            1.3           0.2      Iris-setosa    3            4.7   \n",
       "3      4            1.5           0.2      Iris-setosa    4            4.6   \n",
       "4      5            1.4           0.2      Iris-setosa    5            5.0   \n",
       "..   ...            ...           ...              ...  ...            ...   \n",
       "145  104            5.6           1.8   Iris-virginica  104            6.3   \n",
       "146  115            5.1           2.4   Iris-virginica  115            5.8   \n",
       "147  142            5.1           2.3   Iris-virginica  142            6.9   \n",
       "148  143            5.1           1.9   Iris-virginica  143            5.8   \n",
       "149   74            4.7           1.2  Iris-versicolor   74            6.1   \n",
       "\n",
       "     SepalWidthCm          Species  \n",
       "0             3.5      Iris-setosa  \n",
       "1             3.0      Iris-setosa  \n",
       "2             3.2      Iris-setosa  \n",
       "3             3.1      Iris-setosa  \n",
       "4             3.6      Iris-setosa  \n",
       "..            ...              ...  \n",
       "145           2.9   Iris-virginica  \n",
       "146           2.8   Iris-virginica  \n",
       "147           3.1   Iris-virginica  \n",
       "148           2.7   Iris-virginica  \n",
       "149           2.8  Iris-versicolor  \n",
       "\n",
       "[150 rows x 8 columns]"
      ]
     },
     "execution_count": 9,
     "metadata": {},
     "output_type": "execute_result"
    }
   ],
   "outputs_reference": "s3:deepnote-cell-outputs-production/5f096989-6af3-474b-a98d-4f51eafd8708",
   "source": [
    "df_1 = _deepnote_execute_sql('SELECT * FROM data_postgres INNER JOIN data_sql ON data_postgres.id = data_sql.id', 'SQL_DEEPNOTE_DATAFRAME_SQL', audit_sql_comment='', sql_cache_mode='cache_disabled')\n",
    "df_1"
   ]
  },
  {
   "block_group": "9b353012682a434082c43bbbdd9adac2",
   "cell_type": "markdown",
   "metadata": {
    "cell_id": "bd8b6c05938547c7912e79f87799d023",
    "deepnote_cell_type": "text-cell-h1",
    "formattedRanges": []
   },
   "source": [
    "# Identifikasi Missing Value"
   ]
  },
  {
   "block_group": "37a085309159448b86ce53599c1b3326",
   "cell_type": "markdown",
   "metadata": {
    "cell_id": "2fb8d4ad78dd4c0c923ba2ca71b45cc6",
    "deepnote_cell_type": "text-cell-p",
    "formattedRanges": []
   },
   "source": [
    "Missing values, atau nilai yang hilang, adalah keadaan di mana tidak ada data yang tersedia untuk beberapa entri atau variabel dalam dataset. Keberadaan nilai yang hilang dapat menyebabkan masalah serius dalam analisis data dan pemodelan, karena dapat mengganggu statistik deskriptif, membuat analisis tidak akurat, dan mempengaruhi kualitas model yang dibangun. pada missing values kita bisa menemukan beberapa cara mengatasinya yaitu:"
   ]
  },
  {
   "block_group": "185b6d466944403eb4db0781084c1a5e",
   "cell_type": "markdown",
   "metadata": {
    "cell_id": "44af185b42be4fc79abf13213f77baa3",
    "deepnote_cell_type": "text-cell-p",
    "formattedRanges": []
   },
   "source": [
    "1. Identifikasi: Langkah pertama adalah mengidentifikasi di mana nilai yang hilang berada dalam dataset Anda. Ini bisa dilakukan dengan melakukan penelitian visual, statistik deskriptif, atau menggunakan fungsi khusus dalam bahasa pemrograman seperti Python atau R."
   ]
  },
  {
   "block_group": "f66fb50747e34a608a44386965ccbced",
   "cell_type": "markdown",
   "metadata": {
    "cell_id": "bdcc1c503e71498fbe9e19b028718f8d",
    "deepnote_cell_type": "text-cell-p",
    "formattedRanges": []
   },
   "source": [
    "2. Penghapusan: Jika jumlah nilai yang hilang relatif kecil dan distribusinya acak, satu pendekatan yang umum adalah dengan menghapus baris atau kolom yang mengandung nilai yang hilang. Namun, perlu diingat bahwa pendekatan ini bisa mengurangi jumlah data yang tersedia dan mengurangi akurasi model."
   ]
  },
  {
   "block_group": "d17f2d1122a542eda98be9a4d63c0c4f",
   "cell_type": "markdown",
   "metadata": {
    "cell_id": "aeaa5ec0736e439a899e391a5852f3e0",
    "deepnote_cell_type": "text-cell-p",
    "formattedRanges": []
   },
   "source": [
    "3. Imputasi: Imputasi adalah proses mengganti nilai yang hilang dengan nilai yang diestimasi berdasarkan data yang tersedia. Terdapat berbagai metode imputasi yang dapat digunakan, seperti:"
   ]
  },
  {
   "block_group": "9ad369f8bb59499ea620766ee3c31068",
   "cell_type": "markdown",
   "metadata": {
    "cell_id": "622c37be452a4e9ea18fdab716460b34",
    "deepnote_cell_type": "text-cell-p",
    "formattedRanges": []
   },
   "source": [
    "a. Imputasi Mean/Median/Mode: Mengganti nilai yang hilang dengan mean, median, atau mode dari kolom yang bersangkutan.\r\n",
    "b. Imputasi Regresi: Menggunakan regresi untuk memprediksi nilai yang hilang berdasarkan hubungan dengan variabel lain.\r\n",
    "c. Imputasi KNN (K-Nearest Neighbors): Menggunakan nilai dari observasi terdekat untuk mengisi nilai yang hilang.\r\n",
    "d. Imputasi Multivariat: Menggunakan metode seperti MICE (Multiple Imputation by Chained Equations) untuk mengisi nilai yang hilang dengan menggunakan informasi dari variabel lain dalam dataset."
   ]
  },
  {
   "block_group": "e1e703293f92441bbdb218ff4ceac244",
   "cell_type": "markdown",
   "metadata": {
    "cell_id": "dc4fae3e5c4f4d91821c9c6685f26274",
    "deepnote_cell_type": "text-cell-p",
    "formattedRanges": []
   },
   "source": [
    "kita lakukan update supaya terdapat missing value"
   ]
  },
  {
   "block_group": "41bf9665720a4d7fb9999483d6f609a3",
   "cell_type": "code",
   "execution_count": null,
   "metadata": {
    "cell_id": "cbe3d15d8dee4c9db094d192d6396c3d",
    "deepnote_cell_type": "sql",
    "deepnote_sql_source": "UPDATE preminMean set SepalLengthCm = NULL WHERE id = 2",
    "deepnote_to_be_reexecuted": false,
    "deepnote_variable_name": "df_2",
    "execution_millis": 4012,
    "execution_start": 1710936706089,
    "source_hash": null,
    "sql_integration_id": "8cf1e489-1c56-4e18-bf27-c266b7eecff1"
   },
   "outputs": [],
   "outputs_reference": null,
   "source": [
    "df_2 = _deepnote_execute_sql('UPDATE preminMean set SepalLengthCm = NULL WHERE id = 2', 'SQL_8CF1E489_1C56_4E18_BF27_C266B7EECFF1', audit_sql_comment='', sql_cache_mode='cache_disabled')\n",
    "df_2"
   ]
  },
  {
   "block_group": "f0b3ae0fb542400997ef754e6e4f0379",
   "cell_type": "code",
   "execution_count": null,
   "metadata": {
    "cell_id": "716dad24452445bb9a541806fcef099c",
    "deepnote_cell_type": "sql",
    "deepnote_sql_source": "UPDATE preminMean set SepalLengthCm = NULL WHERE id = 4",
    "deepnote_to_be_reexecuted": false,
    "deepnote_variable_name": "df_3",
    "execution_millis": 3232,
    "execution_start": 1710936748256,
    "source_hash": null,
    "sql_integration_id": "8cf1e489-1c56-4e18-bf27-c266b7eecff1"
   },
   "outputs": [],
   "outputs_reference": null,
   "source": [
    "df_3 = _deepnote_execute_sql('UPDATE preminMean set SepalLengthCm = NULL WHERE id = 4', 'SQL_8CF1E489_1C56_4E18_BF27_C266B7EECFF1', audit_sql_comment='', sql_cache_mode='cache_disabled')\n",
    "df_3"
   ]
  },
  {
   "block_group": "4b32b5aa64884b7c8d6863720b4d6ff0",
   "cell_type": "code",
   "execution_count": null,
   "metadata": {
    "cell_id": "06bb6f72949040668a1a9bb6d7b6fbce",
    "deepnote_cell_type": "sql",
    "deepnote_sql_source": "UPDATE preminMean set SepalLengthCm = NULL WHERE id = 5",
    "deepnote_to_be_reexecuted": false,
    "deepnote_variable_name": "df_4",
    "execution_millis": 3290,
    "execution_start": 1710936753072,
    "source_hash": null,
    "sql_integration_id": "8cf1e489-1c56-4e18-bf27-c266b7eecff1"
   },
   "outputs": [],
   "outputs_reference": null,
   "source": [
    "df_4 = _deepnote_execute_sql('UPDATE preminMean set SepalLengthCm = NULL WHERE id = 5', 'SQL_8CF1E489_1C56_4E18_BF27_C266B7EECFF1', audit_sql_comment='', sql_cache_mode='cache_disabled')\n",
    "df_4"
   ]
  },
  {
   "block_group": "34bdd4e23f1e41efbc8edafec49eb987",
   "cell_type": "code",
   "execution_count": null,
   "metadata": {
    "cell_id": "55245350cd6c44ec984f49773734bdf8",
    "deepnote_cell_type": "sql",
    "deepnote_sql_source": "UPDATE preminMean set SepalLengthCm = NULL WHERE id = 7",
    "deepnote_to_be_reexecuted": false,
    "deepnote_variable_name": "df_5",
    "execution_millis": 3233,
    "execution_start": 1710936757333,
    "source_hash": null,
    "sql_integration_id": "8cf1e489-1c56-4e18-bf27-c266b7eecff1"
   },
   "outputs": [],
   "outputs_reference": null,
   "source": [
    "df_5 = _deepnote_execute_sql('UPDATE preminMean set SepalLengthCm = NULL WHERE id = 7', 'SQL_8CF1E489_1C56_4E18_BF27_C266B7EECFF1', audit_sql_comment='', sql_cache_mode='cache_disabled')\n",
    "df_5"
   ]
  },
  {
   "block_group": "21227e9c3546452f82de66d42996facd",
   "cell_type": "code",
   "execution_count": null,
   "metadata": {
    "cell_id": "b44b6aa11e144903aac0b87870d13d62",
    "deepnote_cell_type": "sql",
    "deepnote_sql_source": "UPDATE preminMean set SepalLengthCm = NULL WHERE id = 10",
    "deepnote_to_be_reexecuted": false,
    "deepnote_variable_name": "df_23",
    "execution_millis": 3293,
    "execution_start": 1710936761908,
    "source_hash": null,
    "sql_integration_id": "8cf1e489-1c56-4e18-bf27-c266b7eecff1"
   },
   "outputs": [],
   "outputs_reference": null,
   "source": [
    "df_23 = _deepnote_execute_sql('UPDATE preminMean set SepalLengthCm = NULL WHERE id = 10', 'SQL_8CF1E489_1C56_4E18_BF27_C266B7EECFF1', audit_sql_comment='', sql_cache_mode='cache_disabled')\n",
    "df_23"
   ]
  },
  {
   "block_group": "5aa5b014e50f4ec0800e8a181d506353",
   "cell_type": "markdown",
   "metadata": {
    "cell_id": "40c020fc402147208f87041f60b15858",
    "deepnote_cell_type": "text-cell-p",
    "formattedRanges": []
   },
   "source": [
    "setelah itu kita tampilkan data yang sudah kita hilangkan, lakukan update juga pada dataframe untuk mean"
   ]
  },
  {
   "block_group": "a4e991f047d74d9885576320204551ca",
   "cell_type": "code",
   "execution_count": null,
   "metadata": {
    "cell_id": "91e7cd1eb66347a2afd2c21c99c99515",
    "deepnote_cell_type": "code",
    "deepnote_to_be_reexecuted": false,
    "execution_millis": 3920,
    "execution_start": 1710936795943,
    "source_hash": null
   },
   "outputs": [
    {
     "name": "stderr",
     "output_type": "stream",
     "text": [
      "/tmp/ipykernel_37/1215738741.py:22: UserWarning: pandas only supports SQLAlchemy connectable (engine/connection) or database string URI or sqlite3 DBAPI2 connection. Other DBAPI2 objects are not tested. Please consider using SQLAlchemy.\n",
      "  data_sql_mean = pd.read_sql(sql_query1, sql_connection)\n",
      "/tmp/ipykernel_37/1215738741.py:25: UserWarning: pandas only supports SQLAlchemy connectable (engine/connection) or database string URI or sqlite3 DBAPI2 connection. Other DBAPI2 objects are not tested. Please consider using SQLAlchemy.\n",
      "  data_postgres_mean = pd.read_sql(postgres_query1, postgres_connection)\n"
     ]
    }
   ],
   "outputs_reference": "dbtable:cell_outputs/3db8f98a-42d1-412c-96e2-b5606f2f76ce",
   "source": [
    "import pandas as pd\n",
    "import mysql.connector\n",
    "import psycopg2\n",
    "\n",
    "sql_connection = mysql.connector.connect(\n",
    "    host=\"datamining1-malik22168.a.aivencloud.com\",\n",
    "    user=\"avnadmin\",\n",
    "    password=\"AVNS_Gg1SZZ0NgVgxwWB3wP1\",\n",
    "    port = \"12594\",\n",
    "    database=\"tugas2\"\n",
    ")\n",
    "\n",
    "postgres_connection = psycopg2.connect(\n",
    "    host=\"datamining-malik22168.a.aivencloud.com\",\n",
    "    database=\"datamining\",\n",
    "    user=\"avnadmin\",\n",
    "    port=\"12594\",\n",
    "    password=\"AVNS_tqWcxfR1VAydjtcENIn\"\n",
    ")\n",
    "\n",
    "sql_query1 = \"SELECT * FROM preminMean\"\n",
    "data_sql_mean = pd.read_sql(sql_query1, sql_connection)\n",
    "\n",
    "postgres_query1 = \"SELECT * FROM preminmean\"\n",
    "data_postgres_mean = pd.read_sql(postgres_query1, postgres_connection)"
   ]
  },
  {
   "block_group": "fbc0a84911a549b18b93059eb30a45ca",
   "cell_type": "code",
   "execution_count": null,
   "metadata": {
    "cell_id": "f209cbd49ac642998b1e633c89336a47",
    "deepnote_cell_type": "sql",
    "deepnote_sql_source": "SELECT * FROM data_postgres_mean INNER JOIN data_sql_mean ON data_postgres_mean.id = data_sql_mean.id WHERE data_sql_mean.SepalLengthCm is NULL",
    "deepnote_to_be_reexecuted": false,
    "deepnote_variable_name": "df_6",
    "execution_millis": 2298,
    "execution_start": 1710936834473,
    "source_hash": null,
    "sql_integration_id": "deepnote-dataframe-sql"
   },
   "outputs": [
    {
     "data": {
      "application/vnd.deepnote.dataframe.v3+json": {
       "column_count": 8,
       "columns": [
        {
         "dtype": "int64",
         "name": "id",
         "stats": {
          "histogram": [
           {
            "bin_end": 2.8,
            "bin_start": 2,
            "count": 1
           },
           {
            "bin_end": 3.6,
            "bin_start": 2.8,
            "count": 0
           },
           {
            "bin_end": 4.4,
            "bin_start": 3.6,
            "count": 1
           },
           {
            "bin_end": 5.2,
            "bin_start": 4.4,
            "count": 1
           },
           {
            "bin_end": 6,
            "bin_start": 5.2,
            "count": 0
           },
           {
            "bin_end": 6.800000000000001,
            "bin_start": 6,
            "count": 0
           },
           {
            "bin_end": 7.6000000000000005,
            "bin_start": 6.800000000000001,
            "count": 1
           },
           {
            "bin_end": 8.4,
            "bin_start": 7.6000000000000005,
            "count": 0
           },
           {
            "bin_end": 9.2,
            "bin_start": 8.4,
            "count": 0
           },
           {
            "bin_end": 10,
            "bin_start": 9.2,
            "count": 1
           }
          ],
          "max": "10",
          "min": "2",
          "nan_count": 0,
          "unique_count": 5
         }
        },
        {
         "dtype": "float64",
         "name": "petallengthcm",
         "stats": {
          "histogram": [
           {
            "bin_end": 1.41,
            "bin_start": 1.4,
            "count": 3
           },
           {
            "bin_end": 1.42,
            "bin_start": 1.41,
            "count": 0
           },
           {
            "bin_end": 1.43,
            "bin_start": 1.42,
            "count": 0
           },
           {
            "bin_end": 1.44,
            "bin_start": 1.43,
            "count": 0
           },
           {
            "bin_end": 1.45,
            "bin_start": 1.44,
            "count": 0
           },
           {
            "bin_end": 1.46,
            "bin_start": 1.45,
            "count": 0
           },
           {
            "bin_end": 1.47,
            "bin_start": 1.46,
            "count": 0
           },
           {
            "bin_end": 1.48,
            "bin_start": 1.47,
            "count": 0
           },
           {
            "bin_end": 1.49,
            "bin_start": 1.48,
            "count": 0
           },
           {
            "bin_end": 1.5,
            "bin_start": 1.49,
            "count": 2
           }
          ],
          "max": "1.5",
          "min": "1.4",
          "nan_count": 0,
          "unique_count": 2
         }
        },
        {
         "dtype": "float64",
         "name": "petalwidthcm",
         "stats": {
          "histogram": [
           {
            "bin_end": 0.12,
            "bin_start": 0.1,
            "count": 1
           },
           {
            "bin_end": 0.14,
            "bin_start": 0.12,
            "count": 0
           },
           {
            "bin_end": 0.16,
            "bin_start": 0.14,
            "count": 0
           },
           {
            "bin_end": 0.18,
            "bin_start": 0.16,
            "count": 0
           },
           {
            "bin_end": 0.19999999999999998,
            "bin_start": 0.18,
            "count": 0
           },
           {
            "bin_end": 0.21999999999999997,
            "bin_start": 0.19999999999999998,
            "count": 3
           },
           {
            "bin_end": 0.24,
            "bin_start": 0.21999999999999997,
            "count": 0
           },
           {
            "bin_end": 0.26,
            "bin_start": 0.24,
            "count": 0
           },
           {
            "bin_end": 0.27999999999999997,
            "bin_start": 0.26,
            "count": 0
           },
           {
            "bin_end": 0.3,
            "bin_start": 0.27999999999999997,
            "count": 1
           }
          ],
          "max": "0.3",
          "min": "0.1",
          "nan_count": 0,
          "unique_count": 3
         }
        },
        {
         "dtype": "object",
         "name": "species",
         "stats": {
          "categories": [
           {
            "count": 5,
            "name": "Iris-setosa"
           }
          ],
          "nan_count": 0,
          "unique_count": 1
         }
        },
        {
         "dtype": "int64",
         "name": "Id",
         "stats": {
          "histogram": [
           {
            "bin_end": 2.8,
            "bin_start": 2,
            "count": 1
           },
           {
            "bin_end": 3.6,
            "bin_start": 2.8,
            "count": 0
           },
           {
            "bin_end": 4.4,
            "bin_start": 3.6,
            "count": 1
           },
           {
            "bin_end": 5.2,
            "bin_start": 4.4,
            "count": 1
           },
           {
            "bin_end": 6,
            "bin_start": 5.2,
            "count": 0
           },
           {
            "bin_end": 6.800000000000001,
            "bin_start": 6,
            "count": 0
           },
           {
            "bin_end": 7.6000000000000005,
            "bin_start": 6.800000000000001,
            "count": 1
           },
           {
            "bin_end": 8.4,
            "bin_start": 7.6000000000000005,
            "count": 0
           },
           {
            "bin_end": 9.2,
            "bin_start": 8.4,
            "count": 0
           },
           {
            "bin_end": 10,
            "bin_start": 9.2,
            "count": 1
           }
          ],
          "max": "10",
          "min": "2",
          "nan_count": 0,
          "unique_count": 5
         }
        },
        {
         "dtype": "float64",
         "name": "SepalLengthCm",
         "stats": {
          "histogram": [
           {
            "bin_end": 0.1,
            "bin_start": 0,
            "count": 0
           },
           {
            "bin_end": 0.2,
            "bin_start": 0.1,
            "count": 0
           },
           {
            "bin_end": 0.30000000000000004,
            "bin_start": 0.2,
            "count": 0
           },
           {
            "bin_end": 0.4,
            "bin_start": 0.30000000000000004,
            "count": 0
           },
           {
            "bin_end": 0.5,
            "bin_start": 0.4,
            "count": 0
           },
           {
            "bin_end": 0.6000000000000001,
            "bin_start": 0.5,
            "count": 0
           },
           {
            "bin_end": 0.7000000000000001,
            "bin_start": 0.6000000000000001,
            "count": 0
           },
           {
            "bin_end": 0.8,
            "bin_start": 0.7000000000000001,
            "count": 0
           },
           {
            "bin_end": 0.9,
            "bin_start": 0.8,
            "count": 0
           },
           {
            "bin_end": 1,
            "bin_start": 0.9,
            "count": 0
           }
          ],
          "max": null,
          "min": null,
          "nan_count": 5,
          "unique_count": 0
         }
        },
        {
         "dtype": "float64",
         "name": "SepalWidthCm",
         "stats": {
          "histogram": [
           {
            "bin_end": 3.06,
            "bin_start": 3,
            "count": 1
           },
           {
            "bin_end": 3.12,
            "bin_start": 3.06,
            "count": 2
           },
           {
            "bin_end": 3.18,
            "bin_start": 3.12,
            "count": 0
           },
           {
            "bin_end": 3.24,
            "bin_start": 3.18,
            "count": 0
           },
           {
            "bin_end": 3.3,
            "bin_start": 3.24,
            "count": 0
           },
           {
            "bin_end": 3.3600000000000003,
            "bin_start": 3.3,
            "count": 0
           },
           {
            "bin_end": 3.42,
            "bin_start": 3.3600000000000003,
            "count": 1
           },
           {
            "bin_end": 3.48,
            "bin_start": 3.42,
            "count": 0
           },
           {
            "bin_end": 3.54,
            "bin_start": 3.48,
            "count": 0
           },
           {
            "bin_end": 3.6,
            "bin_start": 3.54,
            "count": 1
           }
          ],
          "max": "3.6",
          "min": "3.0",
          "nan_count": 0,
          "unique_count": 4
         }
        },
        {
         "dtype": "object",
         "name": "Species",
         "stats": {
          "categories": [
           {
            "count": 5,
            "name": "Iris-setosa"
           }
          ],
          "nan_count": 0,
          "unique_count": 1
         }
        },
        {
         "dtype": "int64",
         "name": "_deepnote_index_column"
        }
       ],
       "row_count": 5,
       "rows": [
        {
         "Id": 2,
         "SepalLengthCm": "nan",
         "SepalWidthCm": 3,
         "Species": "Iris-setosa",
         "_deepnote_index_column": 0,
         "id": 2,
         "petallengthcm": 1.4,
         "petalwidthcm": 0.2,
         "species": "Iris-setosa"
        },
        {
         "Id": 4,
         "SepalLengthCm": "nan",
         "SepalWidthCm": 3.1,
         "Species": "Iris-setosa",
         "_deepnote_index_column": 1,
         "id": 4,
         "petallengthcm": 1.5,
         "petalwidthcm": 0.2,
         "species": "Iris-setosa"
        },
        {
         "Id": 5,
         "SepalLengthCm": "nan",
         "SepalWidthCm": 3.6,
         "Species": "Iris-setosa",
         "_deepnote_index_column": 2,
         "id": 5,
         "petallengthcm": 1.4,
         "petalwidthcm": 0.2,
         "species": "Iris-setosa"
        },
        {
         "Id": 7,
         "SepalLengthCm": "nan",
         "SepalWidthCm": 3.4,
         "Species": "Iris-setosa",
         "_deepnote_index_column": 3,
         "id": 7,
         "petallengthcm": 1.4,
         "petalwidthcm": 0.3,
         "species": "Iris-setosa"
        },
        {
         "Id": 10,
         "SepalLengthCm": "nan",
         "SepalWidthCm": 3.1,
         "Species": "Iris-setosa",
         "_deepnote_index_column": 4,
         "id": 10,
         "petallengthcm": 1.5,
         "petalwidthcm": 0.1,
         "species": "Iris-setosa"
        }
       ]
      },
      "text/html": [
       "<div>\n",
       "<style scoped>\n",
       "    .dataframe tbody tr th:only-of-type {\n",
       "        vertical-align: middle;\n",
       "    }\n",
       "\n",
       "    .dataframe tbody tr th {\n",
       "        vertical-align: top;\n",
       "    }\n",
       "\n",
       "    .dataframe thead th {\n",
       "        text-align: right;\n",
       "    }\n",
       "</style>\n",
       "<table border=\"1\" class=\"dataframe\">\n",
       "  <thead>\n",
       "    <tr style=\"text-align: right;\">\n",
       "      <th></th>\n",
       "      <th>id</th>\n",
       "      <th>petallengthcm</th>\n",
       "      <th>petalwidthcm</th>\n",
       "      <th>species</th>\n",
       "      <th>Id</th>\n",
       "      <th>SepalLengthCm</th>\n",
       "      <th>SepalWidthCm</th>\n",
       "      <th>Species</th>\n",
       "    </tr>\n",
       "  </thead>\n",
       "  <tbody>\n",
       "    <tr>\n",
       "      <th>0</th>\n",
       "      <td>2</td>\n",
       "      <td>1.4</td>\n",
       "      <td>0.2</td>\n",
       "      <td>Iris-setosa</td>\n",
       "      <td>2</td>\n",
       "      <td>NaN</td>\n",
       "      <td>3.0</td>\n",
       "      <td>Iris-setosa</td>\n",
       "    </tr>\n",
       "    <tr>\n",
       "      <th>1</th>\n",
       "      <td>4</td>\n",
       "      <td>1.5</td>\n",
       "      <td>0.2</td>\n",
       "      <td>Iris-setosa</td>\n",
       "      <td>4</td>\n",
       "      <td>NaN</td>\n",
       "      <td>3.1</td>\n",
       "      <td>Iris-setosa</td>\n",
       "    </tr>\n",
       "    <tr>\n",
       "      <th>2</th>\n",
       "      <td>5</td>\n",
       "      <td>1.4</td>\n",
       "      <td>0.2</td>\n",
       "      <td>Iris-setosa</td>\n",
       "      <td>5</td>\n",
       "      <td>NaN</td>\n",
       "      <td>3.6</td>\n",
       "      <td>Iris-setosa</td>\n",
       "    </tr>\n",
       "    <tr>\n",
       "      <th>3</th>\n",
       "      <td>7</td>\n",
       "      <td>1.4</td>\n",
       "      <td>0.3</td>\n",
       "      <td>Iris-setosa</td>\n",
       "      <td>7</td>\n",
       "      <td>NaN</td>\n",
       "      <td>3.4</td>\n",
       "      <td>Iris-setosa</td>\n",
       "    </tr>\n",
       "    <tr>\n",
       "      <th>4</th>\n",
       "      <td>10</td>\n",
       "      <td>1.5</td>\n",
       "      <td>0.1</td>\n",
       "      <td>Iris-setosa</td>\n",
       "      <td>10</td>\n",
       "      <td>NaN</td>\n",
       "      <td>3.1</td>\n",
       "      <td>Iris-setosa</td>\n",
       "    </tr>\n",
       "  </tbody>\n",
       "</table>\n",
       "</div>"
      ],
      "text/plain": [
       "   id  petallengthcm  petalwidthcm      species  Id  SepalLengthCm  \\\n",
       "0   2            1.4           0.2  Iris-setosa   2            NaN   \n",
       "1   4            1.5           0.2  Iris-setosa   4            NaN   \n",
       "2   5            1.4           0.2  Iris-setosa   5            NaN   \n",
       "3   7            1.4           0.3  Iris-setosa   7            NaN   \n",
       "4  10            1.5           0.1  Iris-setosa  10            NaN   \n",
       "\n",
       "   SepalWidthCm      Species  \n",
       "0           3.0  Iris-setosa  \n",
       "1           3.1  Iris-setosa  \n",
       "2           3.6  Iris-setosa  \n",
       "3           3.4  Iris-setosa  \n",
       "4           3.1  Iris-setosa  "
      ]
     },
     "execution_count": 10,
     "metadata": {},
     "output_type": "execute_result"
    }
   ],
   "outputs_reference": "s3:deepnote-cell-outputs-production/8f1689b0-3181-43be-a5fb-6fd486a5e393",
   "source": [
    "df_6 = _deepnote_execute_sql('SELECT * FROM data_postgres_mean INNER JOIN data_sql_mean ON data_postgres_mean.id = data_sql_mean.id WHERE data_sql_mean.SepalLengthCm is NULL', 'SQL_DEEPNOTE_DATAFRAME_SQL', audit_sql_comment='', sql_cache_mode='cache_disabled')\n",
    "df_6"
   ]
  },
  {
   "block_group": "4a46b7ea72774fcf866a292569f202fa",
   "cell_type": "markdown",
   "metadata": {
    "cell_id": "451f55a0dca045b58f5d0cb927d4d99b",
    "deepnote_cell_type": "text-cell-p",
    "formattedRanges": []
   },
   "source": [
    "terdapat missing values pada database kita yaitu pada SepalLengthCm yaitu 5 data dan 5 data tersebut ada pada species Iris-setosa"
   ]
  },
  {
   "block_group": "14fb0c2438894833a7c9c1dcbce00a67",
   "cell_type": "markdown",
   "metadata": {
    "cell_id": "bd9dc4f590274af0b046a3754057e39b",
    "deepnote_cell_type": "text-cell-h1",
    "formattedRanges": []
   },
   "source": [
    "# Metode Mean"
   ]
  },
  {
   "block_group": "2b38972b99ba426a8c29a78f421a27b5",
   "cell_type": "markdown",
   "metadata": {
    "cell_id": "528302422ef240d796846b5851d7e695",
    "deepnote_cell_type": "text-cell-p",
    "formattedRanges": []
   },
   "source": [
    "untuk melakukan metode mean maka kita harus lihat apa yang sama pada data yang hilang, ternyata setelah kita telurusi kita menemukan data yang hilang itu ada pada species iris-setosa, maka kita akan mencari rata-rata dari data yang hilang, disini data yang hilang terdapat pada sepallenght, maka kita akan cari rata-rata pada data sepallength lalu akan melakukan update pada data yang hilang"
   ]
  },
  {
   "block_group": "3c3b8aabe6de4d4aaeb0261f1c31e6ac",
   "cell_type": "markdown",
   "metadata": {
    "cell_id": "e016cede122044bfae85862154283593",
    "deepnote_cell_type": "text-cell-h1",
    "formattedRanges": []
   },
   "source": [
    "# Mencari rata-rata pada SepalLengthCm"
   ]
  },
  {
   "block_group": "3317958b82f64f81b7375df109f868ef",
   "cell_type": "code",
   "execution_count": null,
   "metadata": {
    "cell_id": "201ae88152044fca96ffa0094d7f14a1",
    "deepnote_cell_type": "sql",
    "deepnote_sql_source": "SELECT avg(SepalLengthCm) from preminMean where Species = 'Iris-setosa' and SepalLengthCm IS NOT NULL",
    "deepnote_to_be_reexecuted": false,
    "deepnote_variable_name": "df_7",
    "execution_millis": 3246,
    "execution_start": 1710936947928,
    "source_hash": null,
    "sql_integration_id": "8cf1e489-1c56-4e18-bf27-c266b7eecff1"
   },
   "outputs": [
    {
     "data": {
      "application/vnd.deepnote.sql-output-metadata+json": {
       "size_in_bytes": 136,
       "status": "success_no_cache"
      }
     },
     "metadata": {},
     "output_type": "display_data"
    },
    {
     "data": {
      "application/vnd.deepnote.dataframe.v3+json": {
       "column_count": 1,
       "columns": [
        {
         "dtype": "float64",
         "name": "avg(SepalLengthCm)",
         "stats": {
          "histogram": [
           {
            "bin_end": 4.628888893127441,
            "bin_start": 4.528888893127442,
            "count": 0
           },
           {
            "bin_end": 4.728888893127442,
            "bin_start": 4.628888893127441,
            "count": 0
           },
           {
            "bin_end": 4.828888893127441,
            "bin_start": 4.728888893127442,
            "count": 0
           },
           {
            "bin_end": 4.928888893127442,
            "bin_start": 4.828888893127441,
            "count": 0
           },
           {
            "bin_end": 5.028888893127442,
            "bin_start": 4.928888893127442,
            "count": 0
           },
           {
            "bin_end": 5.128888893127442,
            "bin_start": 5.028888893127442,
            "count": 1
           },
           {
            "bin_end": 5.228888893127442,
            "bin_start": 5.128888893127442,
            "count": 0
           },
           {
            "bin_end": 5.328888893127441,
            "bin_start": 5.228888893127442,
            "count": 0
           },
           {
            "bin_end": 5.428888893127442,
            "bin_start": 5.328888893127441,
            "count": 0
           },
           {
            "bin_end": 5.528888893127442,
            "bin_start": 5.428888893127442,
            "count": 0
           }
          ],
          "max": "5.028888893127442",
          "min": "5.028888893127442",
          "nan_count": 0,
          "unique_count": 1
         }
        },
        {
         "dtype": "int64",
         "name": "_deepnote_index_column"
        }
       ],
       "row_count": 1,
       "rows": [
        {
         "_deepnote_index_column": 0,
         "avg(SepalLengthCm)": 5.028888893127442
        }
       ]
      },
      "text/html": [
       "<div>\n",
       "<style scoped>\n",
       "    .dataframe tbody tr th:only-of-type {\n",
       "        vertical-align: middle;\n",
       "    }\n",
       "\n",
       "    .dataframe tbody tr th {\n",
       "        vertical-align: top;\n",
       "    }\n",
       "\n",
       "    .dataframe thead th {\n",
       "        text-align: right;\n",
       "    }\n",
       "</style>\n",
       "<table border=\"1\" class=\"dataframe\">\n",
       "  <thead>\n",
       "    <tr style=\"text-align: right;\">\n",
       "      <th></th>\n",
       "      <th>avg(SepalLengthCm)</th>\n",
       "    </tr>\n",
       "  </thead>\n",
       "  <tbody>\n",
       "    <tr>\n",
       "      <th>0</th>\n",
       "      <td>5.028889</td>\n",
       "    </tr>\n",
       "  </tbody>\n",
       "</table>\n",
       "</div>"
      ],
      "text/plain": [
       "   avg(SepalLengthCm)\n",
       "0            5.028889"
      ]
     },
     "execution_count": 11,
     "metadata": {},
     "output_type": "execute_result"
    }
   ],
   "outputs_reference": "s3:deepnote-cell-outputs-production/3fedbf47-865c-488e-8b81-d15ca49d026f",
   "source": [
    "df_7 = _deepnote_execute_sql('SELECT avg(SepalLengthCm) from preminMean where Species = \\'Iris-setosa\\' and SepalLengthCm IS NOT NULL', 'SQL_8CF1E489_1C56_4E18_BF27_C266B7EECFF1', audit_sql_comment='', sql_cache_mode='cache_disabled')\n",
    "df_7"
   ]
  },
  {
   "block_group": "e66d8d9820aa4f0ba1884084fd7e77ef",
   "cell_type": "markdown",
   "metadata": {
    "cell_id": "8cfc2bc66feb428ca35fc2b07351461e",
    "deepnote_cell_type": "text-cell-p",
    "formattedRanges": []
   },
   "source": [
    "maka kita menemukan rata-rata pada sepallength, lalu kita tinggal melakukan update data yang hilang dengan rata-rata yang sudah kita cari tadi dan lakukan update juga pada dataframe yang kita punya tadi"
   ]
  },
  {
   "block_group": "8a68277bc41548e680f6f56d33bc2988",
   "cell_type": "markdown",
   "metadata": {
    "cell_id": "992e208505ff46e4b8e088327ae1b79a",
    "deepnote_cell_type": "text-cell-h1",
    "formattedRanges": []
   },
   "source": [
    "# Melakukan imputasi pada missing values"
   ]
  },
  {
   "block_group": "4ace47e90d31491680d6304550e45c23",
   "cell_type": "code",
   "execution_count": null,
   "metadata": {
    "cell_id": "69066a23ba8742a9b7d709d90b8d85a0",
    "deepnote_cell_type": "sql",
    "deepnote_sql_source": "UPDATE preminMean set SepalLengthCm = 5 WHERE SepalLengthCm is NULL",
    "deepnote_to_be_reexecuted": false,
    "deepnote_variable_name": "df_8",
    "execution_millis": 3305,
    "execution_start": 1710936993939,
    "source_hash": null,
    "sql_integration_id": "8cf1e489-1c56-4e18-bf27-c266b7eecff1"
   },
   "outputs": [],
   "outputs_reference": null,
   "source": [
    "df_8 = _deepnote_execute_sql('UPDATE preminMean set SepalLengthCm = 5 WHERE SepalLengthCm is NULL', 'SQL_8CF1E489_1C56_4E18_BF27_C266B7EECFF1', audit_sql_comment='', sql_cache_mode='cache_disabled')\n",
    "df_8"
   ]
  },
  {
   "block_group": "7c51b311ef924ca79003d475abdadcb0",
   "cell_type": "code",
   "execution_count": null,
   "metadata": {
    "cell_id": "d3ce2431fc814860a678eaf5e76d8e1d",
    "deepnote_cell_type": "code",
    "deepnote_to_be_reexecuted": false,
    "execution_millis": 4164,
    "execution_start": 1710937004364,
    "source_hash": null
   },
   "outputs": [
    {
     "name": "stderr",
     "output_type": "stream",
     "text": [
      "/tmp/ipykernel_37/1215738741.py:22: UserWarning: pandas only supports SQLAlchemy connectable (engine/connection) or database string URI or sqlite3 DBAPI2 connection. Other DBAPI2 objects are not tested. Please consider using SQLAlchemy.\n",
      "  data_sql_mean = pd.read_sql(sql_query1, sql_connection)\n",
      "/tmp/ipykernel_37/1215738741.py:25: UserWarning: pandas only supports SQLAlchemy connectable (engine/connection) or database string URI or sqlite3 DBAPI2 connection. Other DBAPI2 objects are not tested. Please consider using SQLAlchemy.\n",
      "  data_postgres_mean = pd.read_sql(postgres_query1, postgres_connection)\n"
     ]
    }
   ],
   "outputs_reference": "dbtable:cell_outputs/b5a682ac-3dea-451f-8c02-c7c932e3bf55",
   "source": [
    "import pandas as pd\n",
    "import mysql.connector\n",
    "import psycopg2\n",
    "\n",
    "sql_connection = mysql.connector.connect(\n",
    "    host=\"datamining1-malik22168.a.aivencloud.com\",\n",
    "    user=\"avnadmin\",\n",
    "    password=\"AVNS_Gg1SZZ0NgVgxwWB3wP1\",\n",
    "    port = \"12594\",\n",
    "    database=\"tugas2\"\n",
    ")\n",
    "\n",
    "postgres_connection = psycopg2.connect(\n",
    "    host=\"datamining-malik22168.a.aivencloud.com\",\n",
    "    database=\"datamining\",\n",
    "    user=\"avnadmin\",\n",
    "    port=\"12594\",\n",
    "    password=\"AVNS_tqWcxfR1VAydjtcENIn\"\n",
    ")\n",
    "\n",
    "sql_query1 = \"SELECT * FROM preminMean\"\n",
    "data_sql_mean = pd.read_sql(sql_query1, sql_connection)\n",
    "\n",
    "postgres_query1 = \"SELECT * FROM preminmean\"\n",
    "data_postgres_mean = pd.read_sql(postgres_query1, postgres_connection)"
   ]
  },
  {
   "block_group": "5634b5d515b648e29a3b61e9dc5744a9",
   "cell_type": "markdown",
   "metadata": {
    "cell_id": "4fd51e3932884bfaba523f5bb4a25105",
    "deepnote_cell_type": "text-cell-p",
    "formattedRanges": []
   },
   "source": [
    "setelah itu kita tampilkan data apakah missing value tersebut sudah teratasi atau belum."
   ]
  },
  {
   "block_group": "86510539dd9e464290149bcd6139ced1",
   "cell_type": "code",
   "execution_count": null,
   "metadata": {
    "cell_id": "459c4e70a03f4ef49527c2b4f048a72f",
    "deepnote_cell_type": "sql",
    "deepnote_sql_source": "SELECT * FROM data_postgres_mean INNER JOIN data_sql_mean ON data_postgres_mean.id = data_sql_mean.id",
    "deepnote_to_be_reexecuted": false,
    "deepnote_variable_name": "df_9",
    "execution_millis": 208,
    "execution_start": 1710937016340,
    "source_hash": null,
    "sql_integration_id": "deepnote-dataframe-sql"
   },
   "outputs": [
    {
     "data": {
      "application/vnd.deepnote.dataframe.v3+json": {
       "column_count": 8,
       "columns": [
        {
         "dtype": "int64",
         "name": "id",
         "stats": {
          "histogram": [
           {
            "bin_end": 15.9,
            "bin_start": 1,
            "count": 15
           },
           {
            "bin_end": 30.8,
            "bin_start": 15.9,
            "count": 15
           },
           {
            "bin_end": 45.7,
            "bin_start": 30.8,
            "count": 15
           },
           {
            "bin_end": 60.6,
            "bin_start": 45.7,
            "count": 15
           },
           {
            "bin_end": 75.5,
            "bin_start": 60.6,
            "count": 15
           },
           {
            "bin_end": 90.4,
            "bin_start": 75.5,
            "count": 15
           },
           {
            "bin_end": 105.3,
            "bin_start": 90.4,
            "count": 15
           },
           {
            "bin_end": 120.2,
            "bin_start": 105.3,
            "count": 15
           },
           {
            "bin_end": 135.1,
            "bin_start": 120.2,
            "count": 15
           },
           {
            "bin_end": 150,
            "bin_start": 135.1,
            "count": 15
           }
          ],
          "max": "150",
          "min": "1",
          "nan_count": 0,
          "unique_count": 150
         }
        },
        {
         "dtype": "float64",
         "name": "petallengthcm",
         "stats": {
          "histogram": [
           {
            "bin_end": 1.59,
            "bin_start": 1,
            "count": 37
           },
           {
            "bin_end": 2.18,
            "bin_start": 1.59,
            "count": 13
           },
           {
            "bin_end": 2.7700000000000005,
            "bin_start": 2.18,
            "count": 0
           },
           {
            "bin_end": 3.3600000000000003,
            "bin_start": 2.7700000000000005,
            "count": 3
           },
           {
            "bin_end": 3.95,
            "bin_start": 3.3600000000000003,
            "count": 8
           },
           {
            "bin_end": 4.540000000000001,
            "bin_start": 3.95,
            "count": 26
           },
           {
            "bin_end": 5.130000000000001,
            "bin_start": 4.540000000000001,
            "count": 29
           },
           {
            "bin_end": 5.720000000000001,
            "bin_start": 5.130000000000001,
            "count": 18
           },
           {
            "bin_end": 6.3100000000000005,
            "bin_start": 5.720000000000001,
            "count": 11
           },
           {
            "bin_end": 6.9,
            "bin_start": 6.3100000000000005,
            "count": 5
           }
          ],
          "max": "6.9",
          "min": "1.0",
          "nan_count": 0,
          "unique_count": 43
         }
        },
        {
         "dtype": "float64",
         "name": "petalwidthcm",
         "stats": {
          "histogram": [
           {
            "bin_end": 0.33999999999999997,
            "bin_start": 0.1,
            "count": 41
           },
           {
            "bin_end": 0.58,
            "bin_start": 0.33999999999999997,
            "count": 8
           },
           {
            "bin_end": 0.82,
            "bin_start": 0.58,
            "count": 1
           },
           {
            "bin_end": 1.06,
            "bin_start": 0.82,
            "count": 7
           },
           {
            "bin_end": 1.3,
            "bin_start": 1.06,
            "count": 8
           },
           {
            "bin_end": 1.54,
            "bin_start": 1.3,
            "count": 33
           },
           {
            "bin_end": 1.78,
            "bin_start": 1.54,
            "count": 6
           },
           {
            "bin_end": 2.02,
            "bin_start": 1.78,
            "count": 23
           },
           {
            "bin_end": 2.2600000000000002,
            "bin_start": 2.02,
            "count": 9
           },
           {
            "bin_end": 2.5,
            "bin_start": 2.2600000000000002,
            "count": 14
           }
          ],
          "max": "2.5",
          "min": "0.1",
          "nan_count": 0,
          "unique_count": 22
         }
        },
        {
         "dtype": "object",
         "name": "species",
         "stats": {
          "categories": [
           {
            "count": 50,
            "name": "Iris-setosa"
           },
           {
            "count": 50,
            "name": "Iris-versicolor"
           },
           {
            "count": 50,
            "name": "Iris-virginica"
           }
          ],
          "nan_count": 0,
          "unique_count": 3
         }
        },
        {
         "dtype": "int64",
         "name": "Id",
         "stats": {
          "histogram": [
           {
            "bin_end": 15.9,
            "bin_start": 1,
            "count": 15
           },
           {
            "bin_end": 30.8,
            "bin_start": 15.9,
            "count": 15
           },
           {
            "bin_end": 45.7,
            "bin_start": 30.8,
            "count": 15
           },
           {
            "bin_end": 60.6,
            "bin_start": 45.7,
            "count": 15
           },
           {
            "bin_end": 75.5,
            "bin_start": 60.6,
            "count": 15
           },
           {
            "bin_end": 90.4,
            "bin_start": 75.5,
            "count": 15
           },
           {
            "bin_end": 105.3,
            "bin_start": 90.4,
            "count": 15
           },
           {
            "bin_end": 120.2,
            "bin_start": 105.3,
            "count": 15
           },
           {
            "bin_end": 135.1,
            "bin_start": 120.2,
            "count": 15
           },
           {
            "bin_end": 150,
            "bin_start": 135.1,
            "count": 15
           }
          ],
          "max": "150",
          "min": "1",
          "nan_count": 0,
          "unique_count": 150
         }
        },
        {
         "dtype": "float64",
         "name": "SepalLengthCm",
         "stats": {
          "histogram": [
           {
            "bin_end": 4.66,
            "bin_start": 4.3,
            "count": 7
           },
           {
            "bin_end": 5.02,
            "bin_start": 4.66,
            "count": 25
           },
           {
            "bin_end": 5.38,
            "bin_start": 5.02,
            "count": 14
           },
           {
            "bin_end": 5.74,
            "bin_start": 5.38,
            "count": 27
           },
           {
            "bin_end": 6.1,
            "bin_start": 5.74,
            "count": 16
           },
           {
            "bin_end": 6.46,
            "bin_start": 6.1,
            "count": 26
           },
           {
            "bin_end": 6.82,
            "bin_start": 6.46,
            "count": 18
           },
           {
            "bin_end": 7.18,
            "bin_start": 6.82,
            "count": 6
           },
           {
            "bin_end": 7.54,
            "bin_start": 7.18,
            "count": 5
           },
           {
            "bin_end": 7.9,
            "bin_start": 7.54,
            "count": 6
           }
          ],
          "max": "7.9",
          "min": "4.3",
          "nan_count": 0,
          "unique_count": 35
         }
        },
        {
         "dtype": "float64",
         "name": "SepalWidthCm",
         "stats": {
          "histogram": [
           {
            "bin_end": 2.24,
            "bin_start": 2,
            "count": 4
           },
           {
            "bin_end": 2.48,
            "bin_start": 2.24,
            "count": 7
           },
           {
            "bin_end": 2.72,
            "bin_start": 2.48,
            "count": 22
           },
           {
            "bin_end": 2.96,
            "bin_start": 2.72,
            "count": 24
           },
           {
            "bin_end": 3.2,
            "bin_start": 2.96,
            "count": 38
           },
           {
            "bin_end": 3.4400000000000004,
            "bin_start": 3.2,
            "count": 31
           },
           {
            "bin_end": 3.6800000000000006,
            "bin_start": 3.4400000000000004,
            "count": 9
           },
           {
            "bin_end": 3.9200000000000004,
            "bin_start": 3.6800000000000006,
            "count": 11
           },
           {
            "bin_end": 4.16,
            "bin_start": 3.9200000000000004,
            "count": 2
           },
           {
            "bin_end": 4.4,
            "bin_start": 4.16,
            "count": 2
           }
          ],
          "max": "4.4",
          "min": "2.0",
          "nan_count": 0,
          "unique_count": 23
         }
        },
        {
         "dtype": "object",
         "name": "Species",
         "stats": {
          "categories": [
           {
            "count": 50,
            "name": "Iris-setosa"
           },
           {
            "count": 50,
            "name": "Iris-versicolor"
           },
           {
            "count": 50,
            "name": "Iris-virginica"
           }
          ],
          "nan_count": 0,
          "unique_count": 3
         }
        },
        {
         "dtype": "int64",
         "name": "_deepnote_index_column"
        }
       ],
       "row_count": 150,
       "rows": [
        {
         "Id": 1,
         "SepalLengthCm": 5.1,
         "SepalWidthCm": 3.5,
         "Species": "Iris-setosa",
         "_deepnote_index_column": 0,
         "id": 1,
         "petallengthcm": 1.4,
         "petalwidthcm": 0.2,
         "species": "Iris-setosa"
        },
        {
         "Id": 2,
         "SepalLengthCm": 5,
         "SepalWidthCm": 3,
         "Species": "Iris-setosa",
         "_deepnote_index_column": 1,
         "id": 2,
         "petallengthcm": 1.4,
         "petalwidthcm": 0.2,
         "species": "Iris-setosa"
        },
        {
         "Id": 3,
         "SepalLengthCm": 4.7,
         "SepalWidthCm": 3.2,
         "Species": "Iris-setosa",
         "_deepnote_index_column": 2,
         "id": 3,
         "petallengthcm": 1.3,
         "petalwidthcm": 0.2,
         "species": "Iris-setosa"
        },
        {
         "Id": 4,
         "SepalLengthCm": 5,
         "SepalWidthCm": 3.1,
         "Species": "Iris-setosa",
         "_deepnote_index_column": 3,
         "id": 4,
         "petallengthcm": 1.5,
         "petalwidthcm": 0.2,
         "species": "Iris-setosa"
        },
        {
         "Id": 5,
         "SepalLengthCm": 5,
         "SepalWidthCm": 3.6,
         "Species": "Iris-setosa",
         "_deepnote_index_column": 4,
         "id": 5,
         "petallengthcm": 1.4,
         "petalwidthcm": 0.2,
         "species": "Iris-setosa"
        },
        {
         "Id": 6,
         "SepalLengthCm": 5.4,
         "SepalWidthCm": 3.9,
         "Species": "Iris-setosa",
         "_deepnote_index_column": 5,
         "id": 6,
         "petallengthcm": 1.7,
         "petalwidthcm": 0.4,
         "species": "Iris-setosa"
        },
        {
         "Id": 7,
         "SepalLengthCm": 5,
         "SepalWidthCm": 3.4,
         "Species": "Iris-setosa",
         "_deepnote_index_column": 6,
         "id": 7,
         "petallengthcm": 1.4,
         "petalwidthcm": 0.3,
         "species": "Iris-setosa"
        },
        {
         "Id": 8,
         "SepalLengthCm": 5,
         "SepalWidthCm": 3.4,
         "Species": "Iris-setosa",
         "_deepnote_index_column": 7,
         "id": 8,
         "petallengthcm": 1.5,
         "petalwidthcm": 0.2,
         "species": "Iris-setosa"
        },
        {
         "Id": 9,
         "SepalLengthCm": 4.4,
         "SepalWidthCm": 2.9,
         "Species": "Iris-setosa",
         "_deepnote_index_column": 8,
         "id": 9,
         "petallengthcm": 1.4,
         "petalwidthcm": 0.2,
         "species": "Iris-setosa"
        },
        {
         "Id": 10,
         "SepalLengthCm": 5,
         "SepalWidthCm": 3.1,
         "Species": "Iris-setosa",
         "_deepnote_index_column": 9,
         "id": 10,
         "petallengthcm": 1.5,
         "petalwidthcm": 0.1,
         "species": "Iris-setosa"
        }
       ]
      },
      "text/html": [
       "<div>\n",
       "<style scoped>\n",
       "    .dataframe tbody tr th:only-of-type {\n",
       "        vertical-align: middle;\n",
       "    }\n",
       "\n",
       "    .dataframe tbody tr th {\n",
       "        vertical-align: top;\n",
       "    }\n",
       "\n",
       "    .dataframe thead th {\n",
       "        text-align: right;\n",
       "    }\n",
       "</style>\n",
       "<table border=\"1\" class=\"dataframe\">\n",
       "  <thead>\n",
       "    <tr style=\"text-align: right;\">\n",
       "      <th></th>\n",
       "      <th>id</th>\n",
       "      <th>petallengthcm</th>\n",
       "      <th>petalwidthcm</th>\n",
       "      <th>species</th>\n",
       "      <th>Id</th>\n",
       "      <th>SepalLengthCm</th>\n",
       "      <th>SepalWidthCm</th>\n",
       "      <th>Species</th>\n",
       "    </tr>\n",
       "  </thead>\n",
       "  <tbody>\n",
       "    <tr>\n",
       "      <th>0</th>\n",
       "      <td>1</td>\n",
       "      <td>1.4</td>\n",
       "      <td>0.2</td>\n",
       "      <td>Iris-setosa</td>\n",
       "      <td>1</td>\n",
       "      <td>5.1</td>\n",
       "      <td>3.5</td>\n",
       "      <td>Iris-setosa</td>\n",
       "    </tr>\n",
       "    <tr>\n",
       "      <th>1</th>\n",
       "      <td>2</td>\n",
       "      <td>1.4</td>\n",
       "      <td>0.2</td>\n",
       "      <td>Iris-setosa</td>\n",
       "      <td>2</td>\n",
       "      <td>5.0</td>\n",
       "      <td>3.0</td>\n",
       "      <td>Iris-setosa</td>\n",
       "    </tr>\n",
       "    <tr>\n",
       "      <th>2</th>\n",
       "      <td>3</td>\n",
       "      <td>1.3</td>\n",
       "      <td>0.2</td>\n",
       "      <td>Iris-setosa</td>\n",
       "      <td>3</td>\n",
       "      <td>4.7</td>\n",
       "      <td>3.2</td>\n",
       "      <td>Iris-setosa</td>\n",
       "    </tr>\n",
       "    <tr>\n",
       "      <th>3</th>\n",
       "      <td>4</td>\n",
       "      <td>1.5</td>\n",
       "      <td>0.2</td>\n",
       "      <td>Iris-setosa</td>\n",
       "      <td>4</td>\n",
       "      <td>5.0</td>\n",
       "      <td>3.1</td>\n",
       "      <td>Iris-setosa</td>\n",
       "    </tr>\n",
       "    <tr>\n",
       "      <th>4</th>\n",
       "      <td>5</td>\n",
       "      <td>1.4</td>\n",
       "      <td>0.2</td>\n",
       "      <td>Iris-setosa</td>\n",
       "      <td>5</td>\n",
       "      <td>5.0</td>\n",
       "      <td>3.6</td>\n",
       "      <td>Iris-setosa</td>\n",
       "    </tr>\n",
       "    <tr>\n",
       "      <th>...</th>\n",
       "      <td>...</td>\n",
       "      <td>...</td>\n",
       "      <td>...</td>\n",
       "      <td>...</td>\n",
       "      <td>...</td>\n",
       "      <td>...</td>\n",
       "      <td>...</td>\n",
       "      <td>...</td>\n",
       "    </tr>\n",
       "    <tr>\n",
       "      <th>145</th>\n",
       "      <td>104</td>\n",
       "      <td>5.6</td>\n",
       "      <td>1.8</td>\n",
       "      <td>Iris-virginica</td>\n",
       "      <td>104</td>\n",
       "      <td>6.3</td>\n",
       "      <td>2.9</td>\n",
       "      <td>Iris-virginica</td>\n",
       "    </tr>\n",
       "    <tr>\n",
       "      <th>146</th>\n",
       "      <td>115</td>\n",
       "      <td>5.1</td>\n",
       "      <td>2.4</td>\n",
       "      <td>Iris-virginica</td>\n",
       "      <td>115</td>\n",
       "      <td>5.8</td>\n",
       "      <td>2.8</td>\n",
       "      <td>Iris-virginica</td>\n",
       "    </tr>\n",
       "    <tr>\n",
       "      <th>147</th>\n",
       "      <td>142</td>\n",
       "      <td>5.1</td>\n",
       "      <td>2.3</td>\n",
       "      <td>Iris-virginica</td>\n",
       "      <td>142</td>\n",
       "      <td>6.9</td>\n",
       "      <td>3.1</td>\n",
       "      <td>Iris-virginica</td>\n",
       "    </tr>\n",
       "    <tr>\n",
       "      <th>148</th>\n",
       "      <td>143</td>\n",
       "      <td>5.1</td>\n",
       "      <td>1.9</td>\n",
       "      <td>Iris-virginica</td>\n",
       "      <td>143</td>\n",
       "      <td>5.8</td>\n",
       "      <td>2.7</td>\n",
       "      <td>Iris-virginica</td>\n",
       "    </tr>\n",
       "    <tr>\n",
       "      <th>149</th>\n",
       "      <td>74</td>\n",
       "      <td>4.7</td>\n",
       "      <td>1.2</td>\n",
       "      <td>Iris-versicolor</td>\n",
       "      <td>74</td>\n",
       "      <td>6.1</td>\n",
       "      <td>2.8</td>\n",
       "      <td>Iris-versicolor</td>\n",
       "    </tr>\n",
       "  </tbody>\n",
       "</table>\n",
       "<p>150 rows × 8 columns</p>\n",
       "</div>"
      ],
      "text/plain": [
       "      id  petallengthcm  petalwidthcm          species   Id  SepalLengthCm  \\\n",
       "0      1            1.4           0.2      Iris-setosa    1            5.1   \n",
       "1      2            1.4           0.2      Iris-setosa    2            5.0   \n",
       "2      3            1.3           0.2      Iris-setosa    3            4.7   \n",
       "3      4            1.5           0.2      Iris-setosa    4            5.0   \n",
       "4      5            1.4           0.2      Iris-setosa    5            5.0   \n",
       "..   ...            ...           ...              ...  ...            ...   \n",
       "145  104            5.6           1.8   Iris-virginica  104            6.3   \n",
       "146  115            5.1           2.4   Iris-virginica  115            5.8   \n",
       "147  142            5.1           2.3   Iris-virginica  142            6.9   \n",
       "148  143            5.1           1.9   Iris-virginica  143            5.8   \n",
       "149   74            4.7           1.2  Iris-versicolor   74            6.1   \n",
       "\n",
       "     SepalWidthCm          Species  \n",
       "0             3.5      Iris-setosa  \n",
       "1             3.0      Iris-setosa  \n",
       "2             3.2      Iris-setosa  \n",
       "3             3.1      Iris-setosa  \n",
       "4             3.6      Iris-setosa  \n",
       "..            ...              ...  \n",
       "145           2.9   Iris-virginica  \n",
       "146           2.8   Iris-virginica  \n",
       "147           3.1   Iris-virginica  \n",
       "148           2.7   Iris-virginica  \n",
       "149           2.8  Iris-versicolor  \n",
       "\n",
       "[150 rows x 8 columns]"
      ]
     },
     "execution_count": 14,
     "metadata": {},
     "output_type": "execute_result"
    }
   ],
   "outputs_reference": "s3:deepnote-cell-outputs-production/e58bb7d0-5bf0-43aa-aa92-dfa8eac158a3",
   "source": [
    "df_9 = _deepnote_execute_sql('SELECT * FROM data_postgres_mean INNER JOIN data_sql_mean ON data_postgres_mean.id = data_sql_mean.id', 'SQL_DEEPNOTE_DATAFRAME_SQL', audit_sql_comment='', sql_cache_mode='cache_disabled')\n",
    "df_9"
   ]
  },
  {
   "block_group": "76fb6e028ff84bc7ba633668c8b653a7",
   "cell_type": "markdown",
   "metadata": {
    "cell_id": "076abce88b264c2a9a0344fdedf72d3f",
    "deepnote_cell_type": "text-cell-p",
    "formattedRanges": []
   },
   "source": [
    "maka kita sudah selesai melakukan imputasi data menggunakan metode mean."
   ]
  },
  {
   "block_group": "f850fa7814114a098f8ecfdc6f2c668e",
   "cell_type": "markdown",
   "metadata": {
    "cell_id": "d3c48de70a0a460580e6fdb0da01fed8",
    "deepnote_cell_type": "text-cell-h1",
    "formattedRanges": []
   },
   "source": [
    "# Metode KNN"
   ]
  },
  {
   "block_group": "2cd1cee7815b4077bd11579a85b2cab8",
   "cell_type": "markdown",
   "metadata": {
    "cell_id": "c3a051e2989b4128b42affce69bfb660",
    "deepnote_cell_type": "text-cell-p",
    "formattedRanges": []
   },
   "source": [
    "KNN adalah algoritma yang digunakan untuk klasifikasi dan regresi. Ide dasar di balik KNN adalah mencari sejumlah k tetangga terdekat dari suatu titik data dan menggunakan informasi dari tetangga-tetangga ini untuk membuat perkiraan atau keputusan tentang titik data tersebut."
   ]
  },
  {
   "block_group": "2a8a850c85974ff4a5cc86fa2c444812",
   "cell_type": "markdown",
   "metadata": {
    "cell_id": "eeea9d7f81e24ed1aa6941e9604193ae",
    "deepnote_cell_type": "text-cell-h3",
    "formattedRanges": []
   },
   "source": [
    "### Langkah-langkah imputasi"
   ]
  },
  {
   "block_group": "65215648da6f46aba7258b20c4ea929f",
   "cell_type": "markdown",
   "metadata": {
    "cell_id": "349f77aa3b7f4734a37c7bbaaae81b3b",
    "deepnote_cell_type": "text-cell-p",
    "formattedRanges": []
   },
   "source": [
    "1. Pertama, kita tentukan nilai k (jumlah tetangga terdekat yang akan digunakan).\r\n",
    "2. Kemudian, untuk setiap titik data yang memiliki nilai yang hilang, kita cari k tetangga terdekat dari titik tersebut berdasarkan atribut-atribut yang relevan.\r\n",
    "3. Selanjutnya, kita hitung rata-rata atau median dari nilai-nilai atribut yang relevan dari tetangga-tetangga ini.\r\n",
    "4. Nilai tersebut kemudian digunakan untuk mengisi nilai yang hilang pada titik data tersebut."
   ]
  },
  {
   "block_group": "2587151c53b5447582838037579b4ac8",
   "cell_type": "markdown",
   "metadata": {
    "cell_id": "5406cd06d0014eb6885bdebda1bea9a1",
    "deepnote_cell_type": "text-cell-p",
    "formattedRanges": []
   },
   "source": [
    "Pemilihan Jarak: Dalam KNN, pemilihan jarak atau metrik jarak adalah faktor penting. Anda dapat menggunakan berbagai metrik jarak, seperti jarak Euclidean, Manhattan, atau lainnya, tergantung pada jenis data dan distribusi variabel."
   ]
  },
  {
   "block_group": "d0b83d391516491eb8e2afb98ae66617",
   "cell_type": "markdown",
   "metadata": {
    "cell_id": "8d815874c55e469fb76590145f92be66",
    "deepnote_cell_type": "text-cell-p",
    "formattedRanges": []
   },
   "source": [
    "Pemilihan K: Pemilihan nilai k juga penting. K yang terlalu kecil dapat menyebabkan hasil yang tidak stabil, sedangkan K yang terlalu besar dapat menyebabkan pemusatan yang berlebihan pada nilai rata-rata."
   ]
  },
  {
   "block_group": "8717b44cfae144b6b4a71f56a91da8ff",
   "cell_type": "markdown",
   "metadata": {
    "cell_id": "4f79998c16fb475381eab303b8d51d24",
    "deepnote_cell_type": "text-cell-h1",
    "formattedRanges": []
   },
   "source": [
    "# Rumus Euclidean Distance"
   ]
  },
  {
   "block_group": "84b6c1ed74ac4b32ab00a78122c46103",
   "cell_type": "markdown",
   "metadata": {
    "cell_id": "f15b54a0123d4e40847e54d14d9de154",
    "deepnote_cell_type": "image",
    "deepnote_img_src": "image-20240320-191803.png"
   },
   "source": [
    "<img src=\"image-20240320-191803.png\" width=\"\" align=\"\" />"
   ]
  },
  {
   "block_group": "6801deb9c09d4064b20edb383ead7331",
   "cell_type": "markdown",
   "metadata": {
    "cell_id": "794ed4e89611477c992e086f31db4e9b",
    "deepnote_cell_type": "text-cell-h1",
    "formattedRanges": []
   },
   "source": [
    "# Indentifikasi Masalah"
   ]
  },
  {
   "block_group": "c5f841786a1d49ee842ae65ee7e99167",
   "cell_type": "markdown",
   "metadata": {
    "cell_id": "2b1a41824a3749d8831f255d7396fe2c",
    "deepnote_cell_type": "text-cell-p",
    "formattedRanges": []
   },
   "source": [
    "Kita lakukan update supaya terdapat missing values"
   ]
  },
  {
   "block_group": "d570ee42a96e4f359dfd6e5a9b30ff36",
   "cell_type": "code",
   "execution_count": null,
   "metadata": {
    "cell_id": "a035a376b5ba48e6aa130e3d4f40e0f0",
    "deepnote_cell_type": "sql",
    "deepnote_sql_source": "UPDATE preminKnn set Species = NULL where id = 7",
    "deepnote_to_be_reexecuted": false,
    "deepnote_variable_name": "df_22",
    "execution_millis": 3118,
    "execution_start": 1710244283471,
    "source_hash": null,
    "sql_integration_id": "8cf1e489-1c56-4e18-bf27-c266b7eecff1"
   },
   "outputs": [],
   "outputs_reference": null,
   "source": [
    "df_22 = _deepnote_execute_sql('UPDATE preminKnn set Species = NULL where id = 7', 'SQL_8CF1E489_1C56_4E18_BF27_C266B7EECFF1', audit_sql_comment='', sql_cache_mode='cache_disabled')\n",
    "df_22"
   ]
  },
  {
   "block_group": "1b06325726b14d0fb04ddb8ea83863f4",
   "cell_type": "code",
   "execution_count": null,
   "metadata": {
    "cell_id": "12d30179071543dc829545b715fb46b2",
    "deepnote_cell_type": "sql",
    "deepnote_sql_source": "UPDATE preminknn set species = NULL WHERE id = 7",
    "deepnote_to_be_reexecuted": false,
    "deepnote_variable_name": "df_23",
    "execution_millis": 3746,
    "execution_start": 1710244278520,
    "source_hash": null,
    "sql_integration_id": "5853bb35-05f0-4604-b406-1dfa6d0a92da"
   },
   "outputs": [],
   "outputs_reference": null,
   "source": [
    "df_23 = _deepnote_execute_sql('UPDATE preminknn set species = NULL WHERE id = 7', 'SQL_5853BB35_05F0_4604_B406_1DFA6D0A92DA', audit_sql_comment='', sql_cache_mode='cache_disabled')\n",
    "df_23"
   ]
  },
  {
   "block_group": "da0260a2f51f4566a09db29005c1f8dd",
   "cell_type": "markdown",
   "metadata": {
    "cell_id": "4de9523763da471d9f78822d63608f9e",
    "deepnote_cell_type": "text-cell-p",
    "formattedRanges": []
   },
   "source": [
    "setelah itu kita lakukan update juga terhadap dataframe pada tabel yang akan kita gunakan dengan metode knn"
   ]
  },
  {
   "block_group": "3fe5e726dd9142d7871dcebd784d1805",
   "cell_type": "code",
   "execution_count": null,
   "metadata": {
    "cell_id": "d100c75d2cf74c3a98c047f373c77010",
    "deepnote_cell_type": "code",
    "deepnote_to_be_reexecuted": false,
    "execution_millis": 3577,
    "execution_start": 1710244288187,
    "source_hash": null
   },
   "outputs": [
    {
     "name": "stderr",
     "output_type": "stream",
     "text": [
      "/tmp/ipykernel_37/2132435963.py:22: UserWarning: pandas only supports SQLAlchemy connectable (engine/connection) or database string URI or sqlite3 DBAPI2 connection. Other DBAPI2 objects are not tested. Please consider using SQLAlchemy.\n",
      "  data_sql_knn = pd.read_sql(sql_query1, sql_connection)\n",
      "/tmp/ipykernel_37/2132435963.py:25: UserWarning: pandas only supports SQLAlchemy connectable (engine/connection) or database string URI or sqlite3 DBAPI2 connection. Other DBAPI2 objects are not tested. Please consider using SQLAlchemy.\n",
      "  data_postgres_knn = pd.read_sql(postgres_query1, postgres_connection)\n"
     ]
    }
   ],
   "outputs_reference": "dbtable:cell_outputs/dcb5b08a-70e3-4ce7-9c72-cf4bf4c5ecd4",
   "source": [
    "import pandas as pd\n",
    "import mysql.connector\n",
    "import psycopg2\n",
    "\n",
    "sql_connection = mysql.connector.connect(\n",
    "    host=\"datamining1-malik22168.a.aivencloud.com\",\n",
    "    user=\"avnadmin\",\n",
    "    password=\"AVNS_Gg1SZZ0NgVgxwWB3wP1\",\n",
    "    port = \"12594\",\n",
    "    database=\"tugas2\"\n",
    ")\n",
    "\n",
    "postgres_connection = psycopg2.connect(\n",
    "    host=\"datamining-malik22168.a.aivencloud.com\",\n",
    "    database=\"datamining\",\n",
    "    user=\"avnadmin\",\n",
    "    port=\"12594\",\n",
    "    password=\"AVNS_tqWcxfR1VAydjtcENIn\"\n",
    ")\n",
    "\n",
    "sql_query2 = \"SELECT * FROM preminKnn\"\n",
    "data_sql_knn = pd.read_sql(sql_query2, sql_connection)\n",
    "\n",
    "postgres_query2 = \"SELECT * FROM preminknn\"\n",
    "data_postgres_knn = pd.read_sql(postgres_query2, postgres_connection)"
   ]
  },
  {
   "block_group": "c68918348a9e452c8d07fb535da8ead7",
   "cell_type": "markdown",
   "metadata": {
    "cell_id": "8eaa5f8a994c42dba6c4f57bc62c3150",
    "deepnote_cell_type": "text-cell-p",
    "formattedRanges": []
   },
   "source": [
    "setelah itu kita tampilkan dataframe kita apakah terdapat missing values"
   ]
  },
  {
   "block_group": "6ef1645d2f684667805df1c00711dfad",
   "cell_type": "code",
   "execution_count": null,
   "metadata": {
    "cell_id": "cbd5eab821ed4954943427b4116fde8d",
    "deepnote_cell_type": "sql",
    "deepnote_sql_source": "SELECT * FROM data_postgres_knn INNER JOIN data_sql_knn ON data_postgres_knn.id = data_sql_knn.id",
    "deepnote_table_loading": false,
    "deepnote_table_state": {
     "filters": [],
     "pageIndex": 13,
     "pageSize": 10,
     "sortBy": []
    },
    "deepnote_to_be_reexecuted": false,
    "deepnote_variable_name": "df_24",
    "execution_millis": 252,
    "execution_start": 1710244358898,
    "source_hash": null,
    "sql_integration_id": "deepnote-dataframe-sql"
   },
   "outputs": [
    {
     "data": {
      "application/vnd.deepnote.dataframe.v3+json": {
       "column_count": 8,
       "columns": [
        {
         "dtype": "int64",
         "name": "id",
         "stats": {
          "histogram": [
           {
            "bin_end": 15.9,
            "bin_start": 1,
            "count": 15
           },
           {
            "bin_end": 30.8,
            "bin_start": 15.9,
            "count": 15
           },
           {
            "bin_end": 45.7,
            "bin_start": 30.8,
            "count": 15
           },
           {
            "bin_end": 60.6,
            "bin_start": 45.7,
            "count": 15
           },
           {
            "bin_end": 75.5,
            "bin_start": 60.6,
            "count": 15
           },
           {
            "bin_end": 90.4,
            "bin_start": 75.5,
            "count": 15
           },
           {
            "bin_end": 105.3,
            "bin_start": 90.4,
            "count": 15
           },
           {
            "bin_end": 120.2,
            "bin_start": 105.3,
            "count": 15
           },
           {
            "bin_end": 135.1,
            "bin_start": 120.2,
            "count": 15
           },
           {
            "bin_end": 150,
            "bin_start": 135.1,
            "count": 15
           }
          ],
          "max": "150",
          "min": "1",
          "nan_count": 0,
          "unique_count": 150
         }
        },
        {
         "dtype": "float64",
         "name": "petallengthcm",
         "stats": {
          "histogram": [
           {
            "bin_end": 1.59,
            "bin_start": 1,
            "count": 37
           },
           {
            "bin_end": 2.18,
            "bin_start": 1.59,
            "count": 13
           },
           {
            "bin_end": 2.7700000000000005,
            "bin_start": 2.18,
            "count": 0
           },
           {
            "bin_end": 3.3600000000000003,
            "bin_start": 2.7700000000000005,
            "count": 3
           },
           {
            "bin_end": 3.95,
            "bin_start": 3.3600000000000003,
            "count": 8
           },
           {
            "bin_end": 4.540000000000001,
            "bin_start": 3.95,
            "count": 26
           },
           {
            "bin_end": 5.130000000000001,
            "bin_start": 4.540000000000001,
            "count": 29
           },
           {
            "bin_end": 5.720000000000001,
            "bin_start": 5.130000000000001,
            "count": 18
           },
           {
            "bin_end": 6.3100000000000005,
            "bin_start": 5.720000000000001,
            "count": 11
           },
           {
            "bin_end": 6.9,
            "bin_start": 6.3100000000000005,
            "count": 5
           }
          ],
          "max": "6.9",
          "min": "1.0",
          "nan_count": 0,
          "unique_count": 43
         }
        },
        {
         "dtype": "float64",
         "name": "petalwidthcm",
         "stats": {
          "histogram": [
           {
            "bin_end": 0.33999999999999997,
            "bin_start": 0.1,
            "count": 41
           },
           {
            "bin_end": 0.58,
            "bin_start": 0.33999999999999997,
            "count": 8
           },
           {
            "bin_end": 0.82,
            "bin_start": 0.58,
            "count": 1
           },
           {
            "bin_end": 1.06,
            "bin_start": 0.82,
            "count": 7
           },
           {
            "bin_end": 1.3,
            "bin_start": 1.06,
            "count": 8
           },
           {
            "bin_end": 1.54,
            "bin_start": 1.3,
            "count": 33
           },
           {
            "bin_end": 1.78,
            "bin_start": 1.54,
            "count": 6
           },
           {
            "bin_end": 2.02,
            "bin_start": 1.78,
            "count": 23
           },
           {
            "bin_end": 2.2600000000000002,
            "bin_start": 2.02,
            "count": 9
           },
           {
            "bin_end": 2.5,
            "bin_start": 2.2600000000000002,
            "count": 14
           }
          ],
          "max": "2.5",
          "min": "0.1",
          "nan_count": 0,
          "unique_count": 22
         }
        },
        {
         "dtype": "object",
         "name": "species",
         "stats": {
          "categories": [
           {
            "count": 50,
            "name": "Iris-versicolor"
           },
           {
            "count": 99,
            "name": "2 others"
           },
           {
            "count": 1,
            "name": "Missing"
           }
          ],
          "nan_count": 1,
          "unique_count": 3
         }
        },
        {
         "dtype": "int64",
         "name": "Id",
         "stats": {
          "histogram": [
           {
            "bin_end": 15.9,
            "bin_start": 1,
            "count": 15
           },
           {
            "bin_end": 30.8,
            "bin_start": 15.9,
            "count": 15
           },
           {
            "bin_end": 45.7,
            "bin_start": 30.8,
            "count": 15
           },
           {
            "bin_end": 60.6,
            "bin_start": 45.7,
            "count": 15
           },
           {
            "bin_end": 75.5,
            "bin_start": 60.6,
            "count": 15
           },
           {
            "bin_end": 90.4,
            "bin_start": 75.5,
            "count": 15
           },
           {
            "bin_end": 105.3,
            "bin_start": 90.4,
            "count": 15
           },
           {
            "bin_end": 120.2,
            "bin_start": 105.3,
            "count": 15
           },
           {
            "bin_end": 135.1,
            "bin_start": 120.2,
            "count": 15
           },
           {
            "bin_end": 150,
            "bin_start": 135.1,
            "count": 15
           }
          ],
          "max": "150",
          "min": "1",
          "nan_count": 0,
          "unique_count": 150
         }
        },
        {
         "dtype": "float64",
         "name": "SepalLengthCm",
         "stats": {
          "histogram": [
           {
            "bin_end": 4.66,
            "bin_start": 4.3,
            "count": 9
           },
           {
            "bin_end": 5.02,
            "bin_start": 4.66,
            "count": 23
           },
           {
            "bin_end": 5.38,
            "bin_start": 5.02,
            "count": 14
           },
           {
            "bin_end": 5.74,
            "bin_start": 5.38,
            "count": 27
           },
           {
            "bin_end": 6.1,
            "bin_start": 5.74,
            "count": 16
           },
           {
            "bin_end": 6.46,
            "bin_start": 6.1,
            "count": 26
           },
           {
            "bin_end": 6.82,
            "bin_start": 6.46,
            "count": 18
           },
           {
            "bin_end": 7.18,
            "bin_start": 6.82,
            "count": 6
           },
           {
            "bin_end": 7.54,
            "bin_start": 7.18,
            "count": 5
           },
           {
            "bin_end": 7.9,
            "bin_start": 7.54,
            "count": 6
           }
          ],
          "max": "7.9",
          "min": "4.3",
          "nan_count": 0,
          "unique_count": 35
         }
        },
        {
         "dtype": "float64",
         "name": "SepalWidthCm",
         "stats": {
          "histogram": [
           {
            "bin_end": 2.24,
            "bin_start": 2,
            "count": 4
           },
           {
            "bin_end": 2.48,
            "bin_start": 2.24,
            "count": 7
           },
           {
            "bin_end": 2.72,
            "bin_start": 2.48,
            "count": 22
           },
           {
            "bin_end": 2.96,
            "bin_start": 2.72,
            "count": 24
           },
           {
            "bin_end": 3.2,
            "bin_start": 2.96,
            "count": 38
           },
           {
            "bin_end": 3.4400000000000004,
            "bin_start": 3.2,
            "count": 31
           },
           {
            "bin_end": 3.6800000000000006,
            "bin_start": 3.4400000000000004,
            "count": 9
           },
           {
            "bin_end": 3.9200000000000004,
            "bin_start": 3.6800000000000006,
            "count": 11
           },
           {
            "bin_end": 4.16,
            "bin_start": 3.9200000000000004,
            "count": 2
           },
           {
            "bin_end": 4.4,
            "bin_start": 4.16,
            "count": 2
           }
          ],
          "max": "4.4",
          "min": "2.0",
          "nan_count": 0,
          "unique_count": 23
         }
        },
        {
         "dtype": "object",
         "name": "Species",
         "stats": {
          "categories": [
           {
            "count": 50,
            "name": "Iris-versicolor"
           },
           {
            "count": 99,
            "name": "2 others"
           },
           {
            "count": 1,
            "name": "Missing"
           }
          ],
          "nan_count": 1,
          "unique_count": 3
         }
        },
        {
         "dtype": "int64",
         "name": "_deepnote_index_column"
        }
       ],
       "row_count": 150,
       "rows": [
        {
         "Id": 140,
         "SepalLengthCm": 6.9,
         "SepalWidthCm": 3.1,
         "Species": "Iris-virginica",
         "_deepnote_index_column": 130,
         "id": 140,
         "petallengthcm": 5.4,
         "petalwidthcm": 2.1,
         "species": "Iris-virginica"
        },
        {
         "Id": 141,
         "SepalLengthCm": 6.7,
         "SepalWidthCm": 3.1,
         "Species": "Iris-virginica",
         "_deepnote_index_column": 131,
         "id": 141,
         "petallengthcm": 5.6,
         "petalwidthcm": 2.4,
         "species": "Iris-virginica"
        },
        {
         "Id": 144,
         "SepalLengthCm": 6.8,
         "SepalWidthCm": 3.2,
         "Species": "Iris-virginica",
         "_deepnote_index_column": 132,
         "id": 144,
         "petallengthcm": 5.9,
         "petalwidthcm": 2.3,
         "species": "Iris-virginica"
        },
        {
         "Id": 145,
         "SepalLengthCm": 6.7,
         "SepalWidthCm": 3.3,
         "Species": "Iris-virginica",
         "_deepnote_index_column": 133,
         "id": 145,
         "petallengthcm": 5.7,
         "petalwidthcm": 2.5,
         "species": "Iris-virginica"
        },
        {
         "Id": 146,
         "SepalLengthCm": 6.7,
         "SepalWidthCm": 3,
         "Species": "Iris-virginica",
         "_deepnote_index_column": 134,
         "id": 146,
         "petallengthcm": 5.2,
         "petalwidthcm": 2.3,
         "species": "Iris-virginica"
        },
        {
         "Id": 147,
         "SepalLengthCm": 6.3,
         "SepalWidthCm": 2.5,
         "Species": "Iris-virginica",
         "_deepnote_index_column": 135,
         "id": 147,
         "petallengthcm": 5,
         "petalwidthcm": 1.9,
         "species": "Iris-virginica"
        },
        {
         "Id": 148,
         "SepalLengthCm": 6.5,
         "SepalWidthCm": 3,
         "Species": "Iris-virginica",
         "_deepnote_index_column": 136,
         "id": 148,
         "petallengthcm": 5.2,
         "petalwidthcm": 2,
         "species": "Iris-virginica"
        },
        {
         "Id": 149,
         "SepalLengthCm": 6.2,
         "SepalWidthCm": 3.4,
         "Species": "Iris-virginica",
         "_deepnote_index_column": 137,
         "id": 149,
         "petallengthcm": 5.4,
         "petalwidthcm": 2.3,
         "species": "Iris-virginica"
        },
        {
         "Id": 150,
         "SepalLengthCm": 5.9,
         "SepalWidthCm": 3,
         "Species": "Iris-virginica",
         "_deepnote_index_column": 138,
         "id": 150,
         "petallengthcm": 5.1,
         "petalwidthcm": 1.8,
         "species": "Iris-virginica"
        },
        {
         "Id": 7,
         "SepalLengthCm": 4.6,
         "SepalWidthCm": 3.4,
         "Species": "None",
         "_deepnote_index_column": 139,
         "id": 7,
         "petallengthcm": 1.4,
         "petalwidthcm": 0.3,
         "species": "None"
        }
       ]
      },
      "text/html": [
       "<div>\n",
       "<style scoped>\n",
       "    .dataframe tbody tr th:only-of-type {\n",
       "        vertical-align: middle;\n",
       "    }\n",
       "\n",
       "    .dataframe tbody tr th {\n",
       "        vertical-align: top;\n",
       "    }\n",
       "\n",
       "    .dataframe thead th {\n",
       "        text-align: right;\n",
       "    }\n",
       "</style>\n",
       "<table border=\"1\" class=\"dataframe\">\n",
       "  <thead>\n",
       "    <tr style=\"text-align: right;\">\n",
       "      <th></th>\n",
       "      <th>id</th>\n",
       "      <th>petallengthcm</th>\n",
       "      <th>petalwidthcm</th>\n",
       "      <th>species</th>\n",
       "      <th>Id</th>\n",
       "      <th>SepalLengthCm</th>\n",
       "      <th>SepalWidthCm</th>\n",
       "      <th>Species</th>\n",
       "    </tr>\n",
       "  </thead>\n",
       "  <tbody>\n",
       "    <tr>\n",
       "      <th>0</th>\n",
       "      <td>1</td>\n",
       "      <td>1.4</td>\n",
       "      <td>0.2</td>\n",
       "      <td>Iris-setosa</td>\n",
       "      <td>1</td>\n",
       "      <td>5.1</td>\n",
       "      <td>3.5</td>\n",
       "      <td>Iris-setosa</td>\n",
       "    </tr>\n",
       "    <tr>\n",
       "      <th>1</th>\n",
       "      <td>2</td>\n",
       "      <td>1.4</td>\n",
       "      <td>0.2</td>\n",
       "      <td>Iris-setosa</td>\n",
       "      <td>2</td>\n",
       "      <td>4.9</td>\n",
       "      <td>3.0</td>\n",
       "      <td>Iris-setosa</td>\n",
       "    </tr>\n",
       "    <tr>\n",
       "      <th>2</th>\n",
       "      <td>3</td>\n",
       "      <td>1.3</td>\n",
       "      <td>0.2</td>\n",
       "      <td>Iris-setosa</td>\n",
       "      <td>3</td>\n",
       "      <td>4.7</td>\n",
       "      <td>3.2</td>\n",
       "      <td>Iris-setosa</td>\n",
       "    </tr>\n",
       "    <tr>\n",
       "      <th>3</th>\n",
       "      <td>4</td>\n",
       "      <td>1.5</td>\n",
       "      <td>0.2</td>\n",
       "      <td>Iris-setosa</td>\n",
       "      <td>4</td>\n",
       "      <td>4.6</td>\n",
       "      <td>3.1</td>\n",
       "      <td>Iris-setosa</td>\n",
       "    </tr>\n",
       "    <tr>\n",
       "      <th>4</th>\n",
       "      <td>5</td>\n",
       "      <td>1.4</td>\n",
       "      <td>0.2</td>\n",
       "      <td>Iris-setosa</td>\n",
       "      <td>5</td>\n",
       "      <td>5.0</td>\n",
       "      <td>3.6</td>\n",
       "      <td>Iris-setosa</td>\n",
       "    </tr>\n",
       "    <tr>\n",
       "      <th>...</th>\n",
       "      <td>...</td>\n",
       "      <td>...</td>\n",
       "      <td>...</td>\n",
       "      <td>...</td>\n",
       "      <td>...</td>\n",
       "      <td>...</td>\n",
       "      <td>...</td>\n",
       "      <td>...</td>\n",
       "    </tr>\n",
       "    <tr>\n",
       "      <th>145</th>\n",
       "      <td>104</td>\n",
       "      <td>5.6</td>\n",
       "      <td>1.8</td>\n",
       "      <td>Iris-virginica</td>\n",
       "      <td>104</td>\n",
       "      <td>6.3</td>\n",
       "      <td>2.9</td>\n",
       "      <td>Iris-virginica</td>\n",
       "    </tr>\n",
       "    <tr>\n",
       "      <th>146</th>\n",
       "      <td>115</td>\n",
       "      <td>5.1</td>\n",
       "      <td>2.4</td>\n",
       "      <td>Iris-virginica</td>\n",
       "      <td>115</td>\n",
       "      <td>5.8</td>\n",
       "      <td>2.8</td>\n",
       "      <td>Iris-virginica</td>\n",
       "    </tr>\n",
       "    <tr>\n",
       "      <th>147</th>\n",
       "      <td>142</td>\n",
       "      <td>5.1</td>\n",
       "      <td>2.3</td>\n",
       "      <td>Iris-virginica</td>\n",
       "      <td>142</td>\n",
       "      <td>6.9</td>\n",
       "      <td>3.1</td>\n",
       "      <td>Iris-virginica</td>\n",
       "    </tr>\n",
       "    <tr>\n",
       "      <th>148</th>\n",
       "      <td>143</td>\n",
       "      <td>5.1</td>\n",
       "      <td>1.9</td>\n",
       "      <td>Iris-virginica</td>\n",
       "      <td>143</td>\n",
       "      <td>5.8</td>\n",
       "      <td>2.7</td>\n",
       "      <td>Iris-virginica</td>\n",
       "    </tr>\n",
       "    <tr>\n",
       "      <th>149</th>\n",
       "      <td>74</td>\n",
       "      <td>4.7</td>\n",
       "      <td>1.2</td>\n",
       "      <td>Iris-versicolor</td>\n",
       "      <td>74</td>\n",
       "      <td>6.1</td>\n",
       "      <td>2.8</td>\n",
       "      <td>Iris-versicolor</td>\n",
       "    </tr>\n",
       "  </tbody>\n",
       "</table>\n",
       "<p>150 rows × 8 columns</p>\n",
       "</div>"
      ],
      "text/plain": [
       "      id  petallengthcm  petalwidthcm          species   Id  SepalLengthCm  \\\n",
       "0      1            1.4           0.2      Iris-setosa    1            5.1   \n",
       "1      2            1.4           0.2      Iris-setosa    2            4.9   \n",
       "2      3            1.3           0.2      Iris-setosa    3            4.7   \n",
       "3      4            1.5           0.2      Iris-setosa    4            4.6   \n",
       "4      5            1.4           0.2      Iris-setosa    5            5.0   \n",
       "..   ...            ...           ...              ...  ...            ...   \n",
       "145  104            5.6           1.8   Iris-virginica  104            6.3   \n",
       "146  115            5.1           2.4   Iris-virginica  115            5.8   \n",
       "147  142            5.1           2.3   Iris-virginica  142            6.9   \n",
       "148  143            5.1           1.9   Iris-virginica  143            5.8   \n",
       "149   74            4.7           1.2  Iris-versicolor   74            6.1   \n",
       "\n",
       "     SepalWidthCm          Species  \n",
       "0             3.5      Iris-setosa  \n",
       "1             3.0      Iris-setosa  \n",
       "2             3.2      Iris-setosa  \n",
       "3             3.1      Iris-setosa  \n",
       "4             3.6      Iris-setosa  \n",
       "..            ...              ...  \n",
       "145           2.9   Iris-virginica  \n",
       "146           2.8   Iris-virginica  \n",
       "147           3.1   Iris-virginica  \n",
       "148           2.7   Iris-virginica  \n",
       "149           2.8  Iris-versicolor  \n",
       "\n",
       "[150 rows x 8 columns]"
      ]
     },
     "execution_count": 26,
     "metadata": {},
     "output_type": "execute_result"
    }
   ],
   "outputs_reference": "s3:deepnote-cell-outputs-production/1d46fde0-de13-4b48-897c-c7bca6eea37b",
   "source": [
    "df_24 = _deepnote_execute_sql('SELECT * FROM data_postgres_knn INNER JOIN data_sql_knn ON data_postgres_knn.id = data_sql_knn.id', 'SQL_DEEPNOTE_DATAFRAME_SQL', audit_sql_comment='', sql_cache_mode='cache_disabled')\n",
    "df_24"
   ]
  },
  {
   "block_group": "b37379303b6046c6882ddb3a199f9d99",
   "cell_type": "markdown",
   "metadata": {
    "cell_id": "81238a930c554df19f3237edea977e2a",
    "deepnote_cell_type": "text-cell-h1",
    "formattedRanges": []
   },
   "source": [
    "# Mencari KNN"
   ]
  },
  {
   "block_group": "bada5f9a0cde464db11055eb22c53595",
   "cell_type": "markdown",
   "metadata": {
    "cell_id": "457798d1e1234e61922466980668cb10",
    "deepnote_cell_type": "text-cell-p",
    "formattedRanges": []
   },
   "source": [
    "dalam pencarian knn disini saya menggunakan bantuan alat lain yaitu dari excel, lalu hasil perhitungan excel tersebut saya export kedalam database hingga akan menampilkan data-data dengan menggunakan metode knn"
   ]
  },
  {
   "block_group": "82ec07126cdc496f86bce425efaa2c2c",
   "cell_type": "code",
   "execution_count": null,
   "metadata": {
    "cell_id": "7cfdc96bfb8c4b09bcd5d28d7fbf8828",
    "deepnote_cell_type": "sql",
    "deepnote_sql_source": "SELECT * FROM perhitunganKnn ORDER BY ranking ASC",
    "deepnote_table_loading": false,
    "deepnote_table_state": {
     "filters": [],
     "pageIndex": 0,
     "pageSize": 5,
     "sortBy": []
    },
    "deepnote_to_be_reexecuted": false,
    "deepnote_variable_name": "df_25",
    "execution_millis": 3225,
    "execution_start": 1710246177487,
    "source_hash": null,
    "sql_integration_id": "8cf1e489-1c56-4e18-bf27-c266b7eecff1"
   },
   "outputs": [
    {
     "data": {
      "application/vnd.deepnote.sql-output-metadata+json": {
       "size_in_bytes": 18954,
       "status": "success_no_cache"
      }
     },
     "metadata": {},
     "output_type": "display_data"
    },
    {
     "data": {
      "application/vnd.deepnote.dataframe.v3+json": {
       "column_count": 8,
       "columns": [
        {
         "dtype": "int64",
         "name": "Id",
         "stats": {
          "histogram": [
           {
            "bin_end": 15.9,
            "bin_start": 1,
            "count": 14
           },
           {
            "bin_end": 30.8,
            "bin_start": 15.9,
            "count": 15
           },
           {
            "bin_end": 45.7,
            "bin_start": 30.8,
            "count": 15
           },
           {
            "bin_end": 60.6,
            "bin_start": 45.7,
            "count": 15
           },
           {
            "bin_end": 75.5,
            "bin_start": 60.6,
            "count": 15
           },
           {
            "bin_end": 90.4,
            "bin_start": 75.5,
            "count": 15
           },
           {
            "bin_end": 105.3,
            "bin_start": 90.4,
            "count": 15
           },
           {
            "bin_end": 120.2,
            "bin_start": 105.3,
            "count": 15
           },
           {
            "bin_end": 135.1,
            "bin_start": 120.2,
            "count": 15
           },
           {
            "bin_end": 150,
            "bin_start": 135.1,
            "count": 15
           }
          ],
          "max": "150",
          "min": "1",
          "nan_count": 0,
          "unique_count": 149
         }
        },
        {
         "dtype": "float64",
         "name": "SepalLengthCm",
         "stats": {
          "histogram": [
           {
            "bin_end": 4.66,
            "bin_start": 4.3,
            "count": 8
           },
           {
            "bin_end": 5.02,
            "bin_start": 4.66,
            "count": 23
           },
           {
            "bin_end": 5.38,
            "bin_start": 5.02,
            "count": 14
           },
           {
            "bin_end": 5.74,
            "bin_start": 5.38,
            "count": 27
           },
           {
            "bin_end": 6.1,
            "bin_start": 5.74,
            "count": 16
           },
           {
            "bin_end": 6.46,
            "bin_start": 6.1,
            "count": 26
           },
           {
            "bin_end": 6.82,
            "bin_start": 6.46,
            "count": 18
           },
           {
            "bin_end": 7.18,
            "bin_start": 6.82,
            "count": 6
           },
           {
            "bin_end": 7.54,
            "bin_start": 7.18,
            "count": 5
           },
           {
            "bin_end": 7.9,
            "bin_start": 7.54,
            "count": 6
           }
          ],
          "max": "7.9",
          "min": "4.3",
          "nan_count": 0,
          "unique_count": 35
         }
        },
        {
         "dtype": "float64",
         "name": "SepalWidthCm",
         "stats": {
          "histogram": [
           {
            "bin_end": 2.24,
            "bin_start": 2,
            "count": 4
           },
           {
            "bin_end": 2.48,
            "bin_start": 2.24,
            "count": 7
           },
           {
            "bin_end": 2.72,
            "bin_start": 2.48,
            "count": 22
           },
           {
            "bin_end": 2.96,
            "bin_start": 2.72,
            "count": 24
           },
           {
            "bin_end": 3.2,
            "bin_start": 2.96,
            "count": 38
           },
           {
            "bin_end": 3.4400000000000004,
            "bin_start": 3.2,
            "count": 30
           },
           {
            "bin_end": 3.6800000000000006,
            "bin_start": 3.4400000000000004,
            "count": 9
           },
           {
            "bin_end": 3.9200000000000004,
            "bin_start": 3.6800000000000006,
            "count": 11
           },
           {
            "bin_end": 4.16,
            "bin_start": 3.9200000000000004,
            "count": 2
           },
           {
            "bin_end": 4.4,
            "bin_start": 4.16,
            "count": 2
           }
          ],
          "max": "4.4",
          "min": "2.0",
          "nan_count": 0,
          "unique_count": 23
         }
        },
        {
         "dtype": "float64",
         "name": "PetalLengthCm",
         "stats": {
          "histogram": [
           {
            "bin_end": 1.59,
            "bin_start": 1,
            "count": 36
           },
           {
            "bin_end": 2.18,
            "bin_start": 1.59,
            "count": 13
           },
           {
            "bin_end": 2.7700000000000005,
            "bin_start": 2.18,
            "count": 0
           },
           {
            "bin_end": 3.3600000000000003,
            "bin_start": 2.7700000000000005,
            "count": 3
           },
           {
            "bin_end": 3.95,
            "bin_start": 3.3600000000000003,
            "count": 8
           },
           {
            "bin_end": 4.540000000000001,
            "bin_start": 3.95,
            "count": 26
           },
           {
            "bin_end": 5.130000000000001,
            "bin_start": 4.540000000000001,
            "count": 29
           },
           {
            "bin_end": 5.720000000000001,
            "bin_start": 5.130000000000001,
            "count": 18
           },
           {
            "bin_end": 6.3100000000000005,
            "bin_start": 5.720000000000001,
            "count": 11
           },
           {
            "bin_end": 6.9,
            "bin_start": 6.3100000000000005,
            "count": 5
           }
          ],
          "max": "6.9",
          "min": "1.0",
          "nan_count": 0,
          "unique_count": 43
         }
        },
        {
         "dtype": "float64",
         "name": "PetalWidthCm",
         "stats": {
          "histogram": [
           {
            "bin_end": 0.33999999999999997,
            "bin_start": 0.1,
            "count": 40
           },
           {
            "bin_end": 0.58,
            "bin_start": 0.33999999999999997,
            "count": 8
           },
           {
            "bin_end": 0.82,
            "bin_start": 0.58,
            "count": 1
           },
           {
            "bin_end": 1.06,
            "bin_start": 0.82,
            "count": 7
           },
           {
            "bin_end": 1.3,
            "bin_start": 1.06,
            "count": 8
           },
           {
            "bin_end": 1.54,
            "bin_start": 1.3,
            "count": 33
           },
           {
            "bin_end": 1.78,
            "bin_start": 1.54,
            "count": 6
           },
           {
            "bin_end": 2.02,
            "bin_start": 1.78,
            "count": 23
           },
           {
            "bin_end": 2.2600000000000002,
            "bin_start": 2.02,
            "count": 9
           },
           {
            "bin_end": 2.5,
            "bin_start": 2.2600000000000002,
            "count": 14
           }
          ],
          "max": "2.5",
          "min": "0.1",
          "nan_count": 0,
          "unique_count": 22
         }
        },
        {
         "dtype": "object",
         "name": "Species",
         "stats": {
          "categories": [
           {
            "count": 50,
            "name": "Iris-versicolor"
           },
           {
            "count": 50,
            "name": "Iris-virginica"
           },
           {
            "count": 49,
            "name": "Iris-setosa"
           }
          ],
          "nan_count": 0,
          "unique_count": 3
         }
        },
        {
         "dtype": "float64",
         "name": "Euclidean",
         "stats": {
          "histogram": [
           {
            "bin_end": 0.8683293,
            "bin_start": 0.223607,
            "count": 40
           },
           {
            "bin_end": 1.5130515999999998,
            "bin_start": 0.8683293,
            "count": 9
           },
           {
            "bin_end": 2.1577739,
            "bin_start": 1.5130515999999998,
            "count": 1
           },
           {
            "bin_end": 2.8024961999999998,
            "bin_start": 2.1577739,
            "count": 6
           },
           {
            "bin_end": 3.4472184999999995,
            "bin_start": 2.8024961999999998,
            "count": 18
           },
           {
            "bin_end": 4.0919408,
            "bin_start": 3.4472184999999995,
            "count": 22
           },
           {
            "bin_end": 4.7366631,
            "bin_start": 4.0919408,
            "count": 22
           },
           {
            "bin_end": 5.3813854,
            "bin_start": 4.7366631,
            "count": 19
           },
           {
            "bin_end": 6.0261077,
            "bin_start": 5.3813854,
            "count": 7
           },
           {
            "bin_end": 6.67083,
            "bin_start": 6.0261077,
            "count": 5
           }
          ],
          "max": "6.67083",
          "min": "0.223607",
          "nan_count": 0,
          "unique_count": 132
         }
        },
        {
         "dtype": "int64",
         "name": "ranking",
         "stats": {
          "histogram": [
           {
            "bin_end": 15.8,
            "bin_start": 1,
            "count": 15
           },
           {
            "bin_end": 30.6,
            "bin_start": 15.8,
            "count": 15
           },
           {
            "bin_end": 45.400000000000006,
            "bin_start": 30.6,
            "count": 15
           },
           {
            "bin_end": 60.2,
            "bin_start": 45.400000000000006,
            "count": 15
           },
           {
            "bin_end": 75,
            "bin_start": 60.2,
            "count": 14
           },
           {
            "bin_end": 89.80000000000001,
            "bin_start": 75,
            "count": 15
           },
           {
            "bin_end": 104.60000000000001,
            "bin_start": 89.80000000000001,
            "count": 15
           },
           {
            "bin_end": 119.4,
            "bin_start": 104.60000000000001,
            "count": 15
           },
           {
            "bin_end": 134.20000000000002,
            "bin_start": 119.4,
            "count": 15
           },
           {
            "bin_end": 149,
            "bin_start": 134.20000000000002,
            "count": 15
           }
          ],
          "max": "149",
          "min": "1",
          "nan_count": 0,
          "unique_count": 140
         }
        },
        {
         "dtype": "int64",
         "name": "_deepnote_index_column"
        }
       ],
       "row_count": 149,
       "rows": [
        {
         "Euclidean": 0.223607,
         "Id": 48,
         "PetalLengthCm": 1.4,
         "PetalWidthCm": 0.2,
         "SepalLengthCm": 4.6,
         "SepalWidthCm": 3.2,
         "Species": "Iris-setosa",
         "_deepnote_index_column": 0,
         "ranking": 1
        },
        {
         "Euclidean": 0.264575,
         "Id": 3,
         "PetalLengthCm": 1.3,
         "PetalWidthCm": 0.2,
         "SepalLengthCm": 4.7,
         "SepalWidthCm": 3.2,
         "Species": "Iris-setosa",
         "_deepnote_index_column": 1,
         "ranking": 2
        },
        {
         "Euclidean": 0.3,
         "Id": 12,
         "PetalLengthCm": 1.6,
         "PetalWidthCm": 0.2,
         "SepalLengthCm": 4.8,
         "SepalWidthCm": 3.4,
         "Species": "Iris-setosa",
         "_deepnote_index_column": 2,
         "ranking": 3
        },
        {
         "Euclidean": 0.316228,
         "Id": 43,
         "PetalLengthCm": 1.3,
         "PetalWidthCm": 0.2,
         "SepalLengthCm": 4.4,
         "SepalWidthCm": 3.2,
         "Species": "Iris-setosa",
         "_deepnote_index_column": 3,
         "ranking": 4
        },
        {
         "Euclidean": 0.316228,
         "Id": 30,
         "PetalLengthCm": 1.6,
         "PetalWidthCm": 0.2,
         "SepalLengthCm": 4.7,
         "SepalWidthCm": 3.2,
         "Species": "Iris-setosa",
         "_deepnote_index_column": 4,
         "ranking": 5
        }
       ]
      },
      "text/html": [
       "<div>\n",
       "<style scoped>\n",
       "    .dataframe tbody tr th:only-of-type {\n",
       "        vertical-align: middle;\n",
       "    }\n",
       "\n",
       "    .dataframe tbody tr th {\n",
       "        vertical-align: top;\n",
       "    }\n",
       "\n",
       "    .dataframe thead th {\n",
       "        text-align: right;\n",
       "    }\n",
       "</style>\n",
       "<table border=\"1\" class=\"dataframe\">\n",
       "  <thead>\n",
       "    <tr style=\"text-align: right;\">\n",
       "      <th></th>\n",
       "      <th>Id</th>\n",
       "      <th>SepalLengthCm</th>\n",
       "      <th>SepalWidthCm</th>\n",
       "      <th>PetalLengthCm</th>\n",
       "      <th>PetalWidthCm</th>\n",
       "      <th>Species</th>\n",
       "      <th>Euclidean</th>\n",
       "      <th>ranking</th>\n",
       "    </tr>\n",
       "  </thead>\n",
       "  <tbody>\n",
       "    <tr>\n",
       "      <th>0</th>\n",
       "      <td>48</td>\n",
       "      <td>4.6</td>\n",
       "      <td>3.2</td>\n",
       "      <td>1.4</td>\n",
       "      <td>0.2</td>\n",
       "      <td>Iris-setosa</td>\n",
       "      <td>0.223607</td>\n",
       "      <td>1</td>\n",
       "    </tr>\n",
       "    <tr>\n",
       "      <th>1</th>\n",
       "      <td>3</td>\n",
       "      <td>4.7</td>\n",
       "      <td>3.2</td>\n",
       "      <td>1.3</td>\n",
       "      <td>0.2</td>\n",
       "      <td>Iris-setosa</td>\n",
       "      <td>0.264575</td>\n",
       "      <td>2</td>\n",
       "    </tr>\n",
       "    <tr>\n",
       "      <th>2</th>\n",
       "      <td>12</td>\n",
       "      <td>4.8</td>\n",
       "      <td>3.4</td>\n",
       "      <td>1.6</td>\n",
       "      <td>0.2</td>\n",
       "      <td>Iris-setosa</td>\n",
       "      <td>0.300000</td>\n",
       "      <td>3</td>\n",
       "    </tr>\n",
       "    <tr>\n",
       "      <th>3</th>\n",
       "      <td>43</td>\n",
       "      <td>4.4</td>\n",
       "      <td>3.2</td>\n",
       "      <td>1.3</td>\n",
       "      <td>0.2</td>\n",
       "      <td>Iris-setosa</td>\n",
       "      <td>0.316228</td>\n",
       "      <td>4</td>\n",
       "    </tr>\n",
       "    <tr>\n",
       "      <th>4</th>\n",
       "      <td>30</td>\n",
       "      <td>4.7</td>\n",
       "      <td>3.2</td>\n",
       "      <td>1.6</td>\n",
       "      <td>0.2</td>\n",
       "      <td>Iris-setosa</td>\n",
       "      <td>0.316228</td>\n",
       "      <td>5</td>\n",
       "    </tr>\n",
       "    <tr>\n",
       "      <th>...</th>\n",
       "      <td>...</td>\n",
       "      <td>...</td>\n",
       "      <td>...</td>\n",
       "      <td>...</td>\n",
       "      <td>...</td>\n",
       "      <td>...</td>\n",
       "      <td>...</td>\n",
       "      <td>...</td>\n",
       "    </tr>\n",
       "    <tr>\n",
       "      <th>144</th>\n",
       "      <td>132</td>\n",
       "      <td>7.9</td>\n",
       "      <td>3.8</td>\n",
       "      <td>6.4</td>\n",
       "      <td>2.0</td>\n",
       "      <td>Iris-virginica</td>\n",
       "      <td>6.240190</td>\n",
       "      <td>145</td>\n",
       "    </tr>\n",
       "    <tr>\n",
       "      <th>145</th>\n",
       "      <td>106</td>\n",
       "      <td>7.6</td>\n",
       "      <td>3.0</td>\n",
       "      <td>6.6</td>\n",
       "      <td>2.1</td>\n",
       "      <td>Iris-virginica</td>\n",
       "      <td>6.280130</td>\n",
       "      <td>146</td>\n",
       "    </tr>\n",
       "    <tr>\n",
       "      <th>146</th>\n",
       "      <td>123</td>\n",
       "      <td>7.7</td>\n",
       "      <td>2.8</td>\n",
       "      <td>6.7</td>\n",
       "      <td>2.0</td>\n",
       "      <td>Iris-virginica</td>\n",
       "      <td>6.399220</td>\n",
       "      <td>147</td>\n",
       "    </tr>\n",
       "    <tr>\n",
       "      <th>147</th>\n",
       "      <td>118</td>\n",
       "      <td>7.7</td>\n",
       "      <td>3.8</td>\n",
       "      <td>6.7</td>\n",
       "      <td>2.2</td>\n",
       "      <td>Iris-virginica</td>\n",
       "      <td>6.439720</td>\n",
       "      <td>148</td>\n",
       "    </tr>\n",
       "    <tr>\n",
       "      <th>148</th>\n",
       "      <td>119</td>\n",
       "      <td>7.7</td>\n",
       "      <td>2.6</td>\n",
       "      <td>6.9</td>\n",
       "      <td>2.3</td>\n",
       "      <td>Iris-virginica</td>\n",
       "      <td>6.670830</td>\n",
       "      <td>149</td>\n",
       "    </tr>\n",
       "  </tbody>\n",
       "</table>\n",
       "<p>149 rows × 8 columns</p>\n",
       "</div>"
      ],
      "text/plain": [
       "      Id  SepalLengthCm  SepalWidthCm  PetalLengthCm  PetalWidthCm  \\\n",
       "0     48            4.6           3.2            1.4           0.2   \n",
       "1      3            4.7           3.2            1.3           0.2   \n",
       "2     12            4.8           3.4            1.6           0.2   \n",
       "3     43            4.4           3.2            1.3           0.2   \n",
       "4     30            4.7           3.2            1.6           0.2   \n",
       "..   ...            ...           ...            ...           ...   \n",
       "144  132            7.9           3.8            6.4           2.0   \n",
       "145  106            7.6           3.0            6.6           2.1   \n",
       "146  123            7.7           2.8            6.7           2.0   \n",
       "147  118            7.7           3.8            6.7           2.2   \n",
       "148  119            7.7           2.6            6.9           2.3   \n",
       "\n",
       "            Species  Euclidean  ranking  \n",
       "0       Iris-setosa   0.223607        1  \n",
       "1       Iris-setosa   0.264575        2  \n",
       "2       Iris-setosa   0.300000        3  \n",
       "3       Iris-setosa   0.316228        4  \n",
       "4       Iris-setosa   0.316228        5  \n",
       "..              ...        ...      ...  \n",
       "144  Iris-virginica   6.240190      145  \n",
       "145  Iris-virginica   6.280130      146  \n",
       "146  Iris-virginica   6.399220      147  \n",
       "147  Iris-virginica   6.439720      148  \n",
       "148  Iris-virginica   6.670830      149  \n",
       "\n",
       "[149 rows x 8 columns]"
      ]
     },
     "execution_count": 38,
     "metadata": {},
     "output_type": "execute_result"
    }
   ],
   "outputs_reference": "s3:deepnote-cell-outputs-production/b376ca10-4e3a-4737-b378-65fe914993cc",
   "source": [
    "df_25 = _deepnote_execute_sql('SELECT * FROM perhitunganKnn ORDER BY ranking ASC', 'SQL_8CF1E489_1C56_4E18_BF27_C266B7EECFF1', audit_sql_comment='', sql_cache_mode='cache_disabled')\n",
    "df_25"
   ]
  },
  {
   "block_group": "a257114f3dd042339283b0e2fd09aaab",
   "cell_type": "markdown",
   "metadata": {
    "cell_id": "ed132fa8e0254244a6aa0af618f6aefe",
    "deepnote_cell_type": "text-cell-p",
    "formattedRanges": []
   },
   "source": [
    "pada tabel tersebut kita dapat melihat hasil perhitungan dengan menggunakan metode Euclidean Distance sehingga akan menampilkan tetangga terdekat dari missing values yaitu iris-setosa dengan rank terdekat. maka kita akan mengisikan species yang terdapat missing values dengan tetangga terdekatnya"
   ]
  },
  {
   "block_group": "78c24592dd2548198d5863f490530ee6",
   "cell_type": "markdown",
   "metadata": {
    "cell_id": "2bf5013dfe194ec389c24e81cae7d5e9",
    "deepnote_cell_type": "text-cell-h1",
    "formattedRanges": []
   },
   "source": [
    "# Melakukan Imputasi Missing Values"
   ]
  },
  {
   "block_group": "52e0215ae63044a4875a8e6e59c3233e",
   "cell_type": "code",
   "execution_count": null,
   "metadata": {
    "cell_id": "85df6497e009403b8c1d8ba63c2d6235",
    "deepnote_cell_type": "sql",
    "deepnote_sql_source": "UPDATE preminknn set species = 'Iris-setosa' where species is NULL",
    "deepnote_to_be_reexecuted": false,
    "deepnote_variable_name": "df_26",
    "execution_millis": 3918,
    "execution_start": 1710244900730,
    "source_hash": null,
    "sql_integration_id": "5853bb35-05f0-4604-b406-1dfa6d0a92da"
   },
   "outputs": [],
   "outputs_reference": null,
   "source": [
    "df_26 = _deepnote_execute_sql('UPDATE preminknn set species = \\'Iris-setosa\\' where species is NULL', 'SQL_5853BB35_05F0_4604_B406_1DFA6D0A92DA', audit_sql_comment='', sql_cache_mode='cache_disabled')\n",
    "df_26"
   ]
  },
  {
   "block_group": "69637027a35b4a54afa4ea6dae7350ed",
   "cell_type": "code",
   "execution_count": null,
   "metadata": {
    "cell_id": "7682d32745414181a5d5c836cb06e3d3",
    "deepnote_cell_type": "sql",
    "deepnote_sql_source": "UPDATE preminKnn set species = 'Iris-setosa' where Species is NULL",
    "deepnote_to_be_reexecuted": false,
    "deepnote_variable_name": "df_27",
    "execution_millis": 3243,
    "execution_start": 1710244905978,
    "source_hash": null,
    "sql_integration_id": "8cf1e489-1c56-4e18-bf27-c266b7eecff1"
   },
   "outputs": [],
   "outputs_reference": null,
   "source": [
    "df_27 = _deepnote_execute_sql('UPDATE preminKnn set species = \\'Iris-setosa\\' where Species is NULL', 'SQL_8CF1E489_1C56_4E18_BF27_C266B7EECFF1', audit_sql_comment='', sql_cache_mode='cache_disabled')\n",
    "df_27"
   ]
  },
  {
   "block_group": "18d7938e521647cf98d09d444708753e",
   "cell_type": "markdown",
   "metadata": {
    "cell_id": "ec194934389a49b3876fd631316bae88",
    "deepnote_cell_type": "text-cell-p",
    "formattedRanges": []
   },
   "source": [
    "lakukan update juga pada dataframe kita"
   ]
  },
  {
   "block_group": "c58641412c454ca68288a0fe70eed9cb",
   "cell_type": "code",
   "execution_count": null,
   "metadata": {
    "cell_id": "5d4ff01c5d0f43c5b80f290c4b31660b",
    "deepnote_cell_type": "code",
    "deepnote_to_be_reexecuted": false,
    "execution_millis": 3606,
    "execution_start": 1710244933121,
    "source_hash": null
   },
   "outputs": [
    {
     "name": "stderr",
     "output_type": "stream",
     "text": [
      "/tmp/ipykernel_37/2132435963.py:22: UserWarning: pandas only supports SQLAlchemy connectable (engine/connection) or database string URI or sqlite3 DBAPI2 connection. Other DBAPI2 objects are not tested. Please consider using SQLAlchemy.\n",
      "  data_sql_knn = pd.read_sql(sql_query1, sql_connection)\n",
      "/tmp/ipykernel_37/2132435963.py:25: UserWarning: pandas only supports SQLAlchemy connectable (engine/connection) or database string URI or sqlite3 DBAPI2 connection. Other DBAPI2 objects are not tested. Please consider using SQLAlchemy.\n",
      "  data_postgres_knn = pd.read_sql(postgres_query1, postgres_connection)\n"
     ]
    }
   ],
   "outputs_reference": "dbtable:cell_outputs/628279cd-f886-45d9-ae60-67242b787da9",
   "source": [
    "import pandas as pd\n",
    "import mysql.connector\n",
    "import psycopg2\n",
    "\n",
    "sql_connection = mysql.connector.connect(\n",
    "    host=\"datamining1-malik22168.a.aivencloud.com\",\n",
    "    user=\"avnadmin\",\n",
    "    password=\"AVNS_Gg1SZZ0NgVgxwWB3wP1\",\n",
    "    port = \"12594\",\n",
    "    database=\"tugas2\"\n",
    ")\n",
    "\n",
    "postgres_connection = psycopg2.connect(\n",
    "    host=\"datamining-malik22168.a.aivencloud.com\",\n",
    "    database=\"datamining\",\n",
    "    user=\"avnadmin\",\n",
    "    port=\"12594\",\n",
    "    password=\"AVNS_tqWcxfR1VAydjtcENIn\"\n",
    ")\n",
    "\n",
    "sql_query1 = \"SELECT * FROM preminKnn\"\n",
    "data_sql_knn = pd.read_sql(sql_query1, sql_connection)\n",
    "\n",
    "postgres_query1 = \"SELECT * FROM preminknn\"\n",
    "data_postgres_knn = pd.read_sql(postgres_query1, postgres_connection)"
   ]
  },
  {
   "block_group": "2585f2a52e134d3fa189e472e81f871c",
   "cell_type": "markdown",
   "metadata": {
    "cell_id": "7fd6989787384e39b227bd49f5d30fbc",
    "deepnote_cell_type": "text-cell-p",
    "formattedRanges": []
   },
   "source": [
    "setelah itu kita tampilkan dataframe kita apakah masih terdapat missing values atau tidak"
   ]
  },
  {
   "block_group": "b20bbcf9af244091ae105132221c7e54",
   "cell_type": "code",
   "execution_count": null,
   "metadata": {
    "cell_id": "df8c3ac9c73a429a90b93f9c1adaa5f1",
    "deepnote_cell_type": "sql",
    "deepnote_sql_source": "SELECT * FROM data_postgres_knn INNER JOIN data_sql_knn ON data_postgres_knn.id = data_sql_knn.id",
    "deepnote_to_be_reexecuted": false,
    "deepnote_variable_name": "df_28",
    "execution_millis": 60,
    "execution_start": 1710244989823,
    "source_hash": null,
    "sql_integration_id": "deepnote-dataframe-sql"
   },
   "outputs": [
    {
     "data": {
      "application/vnd.deepnote.dataframe.v3+json": {
       "column_count": 8,
       "columns": [
        {
         "dtype": "int64",
         "name": "id",
         "stats": {
          "histogram": [
           {
            "bin_end": 15.9,
            "bin_start": 1,
            "count": 15
           },
           {
            "bin_end": 30.8,
            "bin_start": 15.9,
            "count": 15
           },
           {
            "bin_end": 45.7,
            "bin_start": 30.8,
            "count": 15
           },
           {
            "bin_end": 60.6,
            "bin_start": 45.7,
            "count": 15
           },
           {
            "bin_end": 75.5,
            "bin_start": 60.6,
            "count": 15
           },
           {
            "bin_end": 90.4,
            "bin_start": 75.5,
            "count": 15
           },
           {
            "bin_end": 105.3,
            "bin_start": 90.4,
            "count": 15
           },
           {
            "bin_end": 120.2,
            "bin_start": 105.3,
            "count": 15
           },
           {
            "bin_end": 135.1,
            "bin_start": 120.2,
            "count": 15
           },
           {
            "bin_end": 150,
            "bin_start": 135.1,
            "count": 15
           }
          ],
          "max": "150",
          "min": "1",
          "nan_count": 0,
          "unique_count": 150
         }
        },
        {
         "dtype": "float64",
         "name": "petallengthcm",
         "stats": {
          "histogram": [
           {
            "bin_end": 1.59,
            "bin_start": 1,
            "count": 37
           },
           {
            "bin_end": 2.18,
            "bin_start": 1.59,
            "count": 13
           },
           {
            "bin_end": 2.7700000000000005,
            "bin_start": 2.18,
            "count": 0
           },
           {
            "bin_end": 3.3600000000000003,
            "bin_start": 2.7700000000000005,
            "count": 3
           },
           {
            "bin_end": 3.95,
            "bin_start": 3.3600000000000003,
            "count": 8
           },
           {
            "bin_end": 4.540000000000001,
            "bin_start": 3.95,
            "count": 26
           },
           {
            "bin_end": 5.130000000000001,
            "bin_start": 4.540000000000001,
            "count": 29
           },
           {
            "bin_end": 5.720000000000001,
            "bin_start": 5.130000000000001,
            "count": 18
           },
           {
            "bin_end": 6.3100000000000005,
            "bin_start": 5.720000000000001,
            "count": 11
           },
           {
            "bin_end": 6.9,
            "bin_start": 6.3100000000000005,
            "count": 5
           }
          ],
          "max": "6.9",
          "min": "1.0",
          "nan_count": 0,
          "unique_count": 43
         }
        },
        {
         "dtype": "float64",
         "name": "petalwidthcm",
         "stats": {
          "histogram": [
           {
            "bin_end": 0.33999999999999997,
            "bin_start": 0.1,
            "count": 41
           },
           {
            "bin_end": 0.58,
            "bin_start": 0.33999999999999997,
            "count": 8
           },
           {
            "bin_end": 0.82,
            "bin_start": 0.58,
            "count": 1
           },
           {
            "bin_end": 1.06,
            "bin_start": 0.82,
            "count": 7
           },
           {
            "bin_end": 1.3,
            "bin_start": 1.06,
            "count": 8
           },
           {
            "bin_end": 1.54,
            "bin_start": 1.3,
            "count": 33
           },
           {
            "bin_end": 1.78,
            "bin_start": 1.54,
            "count": 6
           },
           {
            "bin_end": 2.02,
            "bin_start": 1.78,
            "count": 23
           },
           {
            "bin_end": 2.2600000000000002,
            "bin_start": 2.02,
            "count": 9
           },
           {
            "bin_end": 2.5,
            "bin_start": 2.2600000000000002,
            "count": 14
           }
          ],
          "max": "2.5",
          "min": "0.1",
          "nan_count": 0,
          "unique_count": 22
         }
        },
        {
         "dtype": "object",
         "name": "species",
         "stats": {
          "categories": [
           {
            "count": 50,
            "name": "Iris-setosa"
           },
           {
            "count": 50,
            "name": "Iris-versicolor"
           },
           {
            "count": 50,
            "name": "Iris-virginica"
           }
          ],
          "nan_count": 0,
          "unique_count": 3
         }
        },
        {
         "dtype": "int64",
         "name": "Id",
         "stats": {
          "histogram": [
           {
            "bin_end": 15.9,
            "bin_start": 1,
            "count": 15
           },
           {
            "bin_end": 30.8,
            "bin_start": 15.9,
            "count": 15
           },
           {
            "bin_end": 45.7,
            "bin_start": 30.8,
            "count": 15
           },
           {
            "bin_end": 60.6,
            "bin_start": 45.7,
            "count": 15
           },
           {
            "bin_end": 75.5,
            "bin_start": 60.6,
            "count": 15
           },
           {
            "bin_end": 90.4,
            "bin_start": 75.5,
            "count": 15
           },
           {
            "bin_end": 105.3,
            "bin_start": 90.4,
            "count": 15
           },
           {
            "bin_end": 120.2,
            "bin_start": 105.3,
            "count": 15
           },
           {
            "bin_end": 135.1,
            "bin_start": 120.2,
            "count": 15
           },
           {
            "bin_end": 150,
            "bin_start": 135.1,
            "count": 15
           }
          ],
          "max": "150",
          "min": "1",
          "nan_count": 0,
          "unique_count": 150
         }
        },
        {
         "dtype": "float64",
         "name": "SepalLengthCm",
         "stats": {
          "histogram": [
           {
            "bin_end": 4.66,
            "bin_start": 4.3,
            "count": 9
           },
           {
            "bin_end": 5.02,
            "bin_start": 4.66,
            "count": 23
           },
           {
            "bin_end": 5.38,
            "bin_start": 5.02,
            "count": 14
           },
           {
            "bin_end": 5.74,
            "bin_start": 5.38,
            "count": 27
           },
           {
            "bin_end": 6.1,
            "bin_start": 5.74,
            "count": 16
           },
           {
            "bin_end": 6.46,
            "bin_start": 6.1,
            "count": 26
           },
           {
            "bin_end": 6.82,
            "bin_start": 6.46,
            "count": 18
           },
           {
            "bin_end": 7.18,
            "bin_start": 6.82,
            "count": 6
           },
           {
            "bin_end": 7.54,
            "bin_start": 7.18,
            "count": 5
           },
           {
            "bin_end": 7.9,
            "bin_start": 7.54,
            "count": 6
           }
          ],
          "max": "7.9",
          "min": "4.3",
          "nan_count": 0,
          "unique_count": 35
         }
        },
        {
         "dtype": "float64",
         "name": "SepalWidthCm",
         "stats": {
          "histogram": [
           {
            "bin_end": 2.24,
            "bin_start": 2,
            "count": 4
           },
           {
            "bin_end": 2.48,
            "bin_start": 2.24,
            "count": 7
           },
           {
            "bin_end": 2.72,
            "bin_start": 2.48,
            "count": 22
           },
           {
            "bin_end": 2.96,
            "bin_start": 2.72,
            "count": 24
           },
           {
            "bin_end": 3.2,
            "bin_start": 2.96,
            "count": 38
           },
           {
            "bin_end": 3.4400000000000004,
            "bin_start": 3.2,
            "count": 31
           },
           {
            "bin_end": 3.6800000000000006,
            "bin_start": 3.4400000000000004,
            "count": 9
           },
           {
            "bin_end": 3.9200000000000004,
            "bin_start": 3.6800000000000006,
            "count": 11
           },
           {
            "bin_end": 4.16,
            "bin_start": 3.9200000000000004,
            "count": 2
           },
           {
            "bin_end": 4.4,
            "bin_start": 4.16,
            "count": 2
           }
          ],
          "max": "4.4",
          "min": "2.0",
          "nan_count": 0,
          "unique_count": 23
         }
        },
        {
         "dtype": "object",
         "name": "Species",
         "stats": {
          "categories": [
           {
            "count": 50,
            "name": "Iris-setosa"
           },
           {
            "count": 50,
            "name": "Iris-versicolor"
           },
           {
            "count": 50,
            "name": "Iris-virginica"
           }
          ],
          "nan_count": 0,
          "unique_count": 3
         }
        },
        {
         "dtype": "int64",
         "name": "_deepnote_index_column"
        }
       ],
       "row_count": 150,
       "rows": [
        {
         "Id": 1,
         "SepalLengthCm": 5.1,
         "SepalWidthCm": 3.5,
         "Species": "Iris-setosa",
         "_deepnote_index_column": 0,
         "id": 1,
         "petallengthcm": 1.4,
         "petalwidthcm": 0.2,
         "species": "Iris-setosa"
        },
        {
         "Id": 2,
         "SepalLengthCm": 4.9,
         "SepalWidthCm": 3,
         "Species": "Iris-setosa",
         "_deepnote_index_column": 1,
         "id": 2,
         "petallengthcm": 1.4,
         "petalwidthcm": 0.2,
         "species": "Iris-setosa"
        },
        {
         "Id": 3,
         "SepalLengthCm": 4.7,
         "SepalWidthCm": 3.2,
         "Species": "Iris-setosa",
         "_deepnote_index_column": 2,
         "id": 3,
         "petallengthcm": 1.3,
         "petalwidthcm": 0.2,
         "species": "Iris-setosa"
        },
        {
         "Id": 4,
         "SepalLengthCm": 4.6,
         "SepalWidthCm": 3.1,
         "Species": "Iris-setosa",
         "_deepnote_index_column": 3,
         "id": 4,
         "petallengthcm": 1.5,
         "petalwidthcm": 0.2,
         "species": "Iris-setosa"
        },
        {
         "Id": 5,
         "SepalLengthCm": 5,
         "SepalWidthCm": 3.6,
         "Species": "Iris-setosa",
         "_deepnote_index_column": 4,
         "id": 5,
         "petallengthcm": 1.4,
         "petalwidthcm": 0.2,
         "species": "Iris-setosa"
        },
        {
         "Id": 6,
         "SepalLengthCm": 5.4,
         "SepalWidthCm": 3.9,
         "Species": "Iris-setosa",
         "_deepnote_index_column": 5,
         "id": 6,
         "petallengthcm": 1.7,
         "petalwidthcm": 0.4,
         "species": "Iris-setosa"
        },
        {
         "Id": 8,
         "SepalLengthCm": 5,
         "SepalWidthCm": 3.4,
         "Species": "Iris-setosa",
         "_deepnote_index_column": 6,
         "id": 8,
         "petallengthcm": 1.5,
         "petalwidthcm": 0.2,
         "species": "Iris-setosa"
        },
        {
         "Id": 9,
         "SepalLengthCm": 4.4,
         "SepalWidthCm": 2.9,
         "Species": "Iris-setosa",
         "_deepnote_index_column": 7,
         "id": 9,
         "petallengthcm": 1.4,
         "petalwidthcm": 0.2,
         "species": "Iris-setosa"
        },
        {
         "Id": 10,
         "SepalLengthCm": 4.9,
         "SepalWidthCm": 3.1,
         "Species": "Iris-setosa",
         "_deepnote_index_column": 8,
         "id": 10,
         "petallengthcm": 1.5,
         "petalwidthcm": 0.1,
         "species": "Iris-setosa"
        },
        {
         "Id": 11,
         "SepalLengthCm": 5.4,
         "SepalWidthCm": 3.7,
         "Species": "Iris-setosa",
         "_deepnote_index_column": 9,
         "id": 11,
         "petallengthcm": 1.5,
         "petalwidthcm": 0.2,
         "species": "Iris-setosa"
        }
       ]
      },
      "text/html": [
       "<div>\n",
       "<style scoped>\n",
       "    .dataframe tbody tr th:only-of-type {\n",
       "        vertical-align: middle;\n",
       "    }\n",
       "\n",
       "    .dataframe tbody tr th {\n",
       "        vertical-align: top;\n",
       "    }\n",
       "\n",
       "    .dataframe thead th {\n",
       "        text-align: right;\n",
       "    }\n",
       "</style>\n",
       "<table border=\"1\" class=\"dataframe\">\n",
       "  <thead>\n",
       "    <tr style=\"text-align: right;\">\n",
       "      <th></th>\n",
       "      <th>id</th>\n",
       "      <th>petallengthcm</th>\n",
       "      <th>petalwidthcm</th>\n",
       "      <th>species</th>\n",
       "      <th>Id</th>\n",
       "      <th>SepalLengthCm</th>\n",
       "      <th>SepalWidthCm</th>\n",
       "      <th>Species</th>\n",
       "    </tr>\n",
       "  </thead>\n",
       "  <tbody>\n",
       "    <tr>\n",
       "      <th>0</th>\n",
       "      <td>1</td>\n",
       "      <td>1.4</td>\n",
       "      <td>0.2</td>\n",
       "      <td>Iris-setosa</td>\n",
       "      <td>1</td>\n",
       "      <td>5.1</td>\n",
       "      <td>3.5</td>\n",
       "      <td>Iris-setosa</td>\n",
       "    </tr>\n",
       "    <tr>\n",
       "      <th>1</th>\n",
       "      <td>2</td>\n",
       "      <td>1.4</td>\n",
       "      <td>0.2</td>\n",
       "      <td>Iris-setosa</td>\n",
       "      <td>2</td>\n",
       "      <td>4.9</td>\n",
       "      <td>3.0</td>\n",
       "      <td>Iris-setosa</td>\n",
       "    </tr>\n",
       "    <tr>\n",
       "      <th>2</th>\n",
       "      <td>3</td>\n",
       "      <td>1.3</td>\n",
       "      <td>0.2</td>\n",
       "      <td>Iris-setosa</td>\n",
       "      <td>3</td>\n",
       "      <td>4.7</td>\n",
       "      <td>3.2</td>\n",
       "      <td>Iris-setosa</td>\n",
       "    </tr>\n",
       "    <tr>\n",
       "      <th>3</th>\n",
       "      <td>4</td>\n",
       "      <td>1.5</td>\n",
       "      <td>0.2</td>\n",
       "      <td>Iris-setosa</td>\n",
       "      <td>4</td>\n",
       "      <td>4.6</td>\n",
       "      <td>3.1</td>\n",
       "      <td>Iris-setosa</td>\n",
       "    </tr>\n",
       "    <tr>\n",
       "      <th>4</th>\n",
       "      <td>5</td>\n",
       "      <td>1.4</td>\n",
       "      <td>0.2</td>\n",
       "      <td>Iris-setosa</td>\n",
       "      <td>5</td>\n",
       "      <td>5.0</td>\n",
       "      <td>3.6</td>\n",
       "      <td>Iris-setosa</td>\n",
       "    </tr>\n",
       "    <tr>\n",
       "      <th>...</th>\n",
       "      <td>...</td>\n",
       "      <td>...</td>\n",
       "      <td>...</td>\n",
       "      <td>...</td>\n",
       "      <td>...</td>\n",
       "      <td>...</td>\n",
       "      <td>...</td>\n",
       "      <td>...</td>\n",
       "    </tr>\n",
       "    <tr>\n",
       "      <th>145</th>\n",
       "      <td>104</td>\n",
       "      <td>5.6</td>\n",
       "      <td>1.8</td>\n",
       "      <td>Iris-virginica</td>\n",
       "      <td>104</td>\n",
       "      <td>6.3</td>\n",
       "      <td>2.9</td>\n",
       "      <td>Iris-virginica</td>\n",
       "    </tr>\n",
       "    <tr>\n",
       "      <th>146</th>\n",
       "      <td>115</td>\n",
       "      <td>5.1</td>\n",
       "      <td>2.4</td>\n",
       "      <td>Iris-virginica</td>\n",
       "      <td>115</td>\n",
       "      <td>5.8</td>\n",
       "      <td>2.8</td>\n",
       "      <td>Iris-virginica</td>\n",
       "    </tr>\n",
       "    <tr>\n",
       "      <th>147</th>\n",
       "      <td>142</td>\n",
       "      <td>5.1</td>\n",
       "      <td>2.3</td>\n",
       "      <td>Iris-virginica</td>\n",
       "      <td>142</td>\n",
       "      <td>6.9</td>\n",
       "      <td>3.1</td>\n",
       "      <td>Iris-virginica</td>\n",
       "    </tr>\n",
       "    <tr>\n",
       "      <th>148</th>\n",
       "      <td>143</td>\n",
       "      <td>5.1</td>\n",
       "      <td>1.9</td>\n",
       "      <td>Iris-virginica</td>\n",
       "      <td>143</td>\n",
       "      <td>5.8</td>\n",
       "      <td>2.7</td>\n",
       "      <td>Iris-virginica</td>\n",
       "    </tr>\n",
       "    <tr>\n",
       "      <th>149</th>\n",
       "      <td>74</td>\n",
       "      <td>4.7</td>\n",
       "      <td>1.2</td>\n",
       "      <td>Iris-versicolor</td>\n",
       "      <td>74</td>\n",
       "      <td>6.1</td>\n",
       "      <td>2.8</td>\n",
       "      <td>Iris-versicolor</td>\n",
       "    </tr>\n",
       "  </tbody>\n",
       "</table>\n",
       "<p>150 rows × 8 columns</p>\n",
       "</div>"
      ],
      "text/plain": [
       "      id  petallengthcm  petalwidthcm          species   Id  SepalLengthCm  \\\n",
       "0      1            1.4           0.2      Iris-setosa    1            5.1   \n",
       "1      2            1.4           0.2      Iris-setosa    2            4.9   \n",
       "2      3            1.3           0.2      Iris-setosa    3            4.7   \n",
       "3      4            1.5           0.2      Iris-setosa    4            4.6   \n",
       "4      5            1.4           0.2      Iris-setosa    5            5.0   \n",
       "..   ...            ...           ...              ...  ...            ...   \n",
       "145  104            5.6           1.8   Iris-virginica  104            6.3   \n",
       "146  115            5.1           2.4   Iris-virginica  115            5.8   \n",
       "147  142            5.1           2.3   Iris-virginica  142            6.9   \n",
       "148  143            5.1           1.9   Iris-virginica  143            5.8   \n",
       "149   74            4.7           1.2  Iris-versicolor   74            6.1   \n",
       "\n",
       "     SepalWidthCm          Species  \n",
       "0             3.5      Iris-setosa  \n",
       "1             3.0      Iris-setosa  \n",
       "2             3.2      Iris-setosa  \n",
       "3             3.1      Iris-setosa  \n",
       "4             3.6      Iris-setosa  \n",
       "..            ...              ...  \n",
       "145           2.9   Iris-virginica  \n",
       "146           2.8   Iris-virginica  \n",
       "147           3.1   Iris-virginica  \n",
       "148           2.7   Iris-virginica  \n",
       "149           2.8  Iris-versicolor  \n",
       "\n",
       "[150 rows x 8 columns]"
      ]
     },
     "execution_count": 33,
     "metadata": {},
     "output_type": "execute_result"
    }
   ],
   "outputs_reference": "s3:deepnote-cell-outputs-production/7468c341-5f5c-4db6-a90c-5889889e7462",
   "source": [
    "df_28 = _deepnote_execute_sql('SELECT * FROM data_postgres_knn INNER JOIN data_sql_knn ON data_postgres_knn.id = data_sql_knn.id', 'SQL_DEEPNOTE_DATAFRAME_SQL', audit_sql_comment='', sql_cache_mode='cache_disabled')\n",
    "df_28"
   ]
  },
  {
   "block_group": "12cdc082af21471a89e0bb53c54cd9fd",
   "cell_type": "markdown",
   "metadata": {
    "cell_id": "a3894972f9de44fd828f59ea49710c1f",
    "deepnote_cell_type": "text-cell-h1",
    "formattedRanges": []
   },
   "source": [
    "# Mendeteksi outlier (local outlier factor)"
   ]
  },
  {
   "block_group": "ccb740297a0b4304b3fea4fb0ae39919",
   "cell_type": "markdown",
   "metadata": {
    "cell_id": "e8f7c3c070584bb9bf81ce35f3d5cee1",
    "deepnote_cell_type": "text-cell-p",
    "formattedRanges": []
   },
   "source": [
    "\r",
    "\r",
    "Outlier adalah titik data yang secara signifikan berbeda dari mayoritas data lainnya dalam dataset. Outlier sering kali merupakan hasil dari kesalahan pengukuran, anomali, atau perbedaan yang sah dalam fenomena yang diamati. Dalam analisis data, outlier dapat memiliki dampak yang signifikan pada hasil analisis, termasuk mempengaruhi statistik deskriptif, estimasi parameter, dan kinerja model prediktif. Local Outlier Factor (LOF) adalah metode yang digunakan untuk mendeteksi outlier dalam data multidimensional. Outlier adalah titik data yang secara signifikan berbeda dari sebagian besar data lainnya dalam dataset. LOF memperkirakan tingkat lokal anomali untuk setiap titik data dengan membandingkan kepadatan titik data di sekitarnya dengan kepadatan titik data di sekitar tetangga-tetangganya. Jika tingkat kepadatan titik data relatif rendah dibandingkan dengan tetangga-tetangganya, maka titik data tersebut mungkin merupakan outlier."
   ]
  },
  {
   "block_group": "1d317b18406a435295ee78ba1862342d",
   "cell_type": "markdown",
   "metadata": {
    "cell_id": "95840926f621498f840047013f7b629b",
    "deepnote_cell_type": "text-cell-p",
    "formattedRanges": []
   },
   "source": [
    "Untuk memahami LOF kita harus paham untuk beberapa konsep diantara berikut:"
   ]
  },
  {
   "block_group": "71dd498534634fd2ac110b801016f6cb",
   "cell_type": "markdown",
   "metadata": {
    "cell_id": "2397a568320c42a783575894d23ef77a",
    "deepnote_app_block_visible": false,
    "deepnote_cell_type": "text-cell-p",
    "formattedRanges": [],
    "is_collapsed": false
   },
   "source": [
    "1. K-distance dan K-neighbors\n",
    "\r",
    "2. Reachability Distance (RD)\r\n",
    "3. Local Reachability Density (LRD)\r\n",
    "4. Local Outlier Factor (LOF)"
   ]
  },
  {
   "block_group": "bf07f43c4d724cf8be88603ef1210d30",
   "cell_type": "markdown",
   "metadata": {
    "cell_id": "89a458b3ad5d429586a3028372f1cfa3",
    "deepnote_cell_type": "text-cell-p",
    "formattedRanges": []
   },
   "source": [
    "berikut penjelasan tentang konsep-konsep tersebut"
   ]
  },
  {
   "block_group": "0ad76b6f7c644bbbbceeb170d97a0528",
   "cell_type": "markdown",
   "metadata": {
    "cell_id": "dadd5e167d864b288209250358a50789",
    "deepnote_cell_type": "text-cell-h1",
    "formattedRanges": []
   },
   "source": [
    "# K-distance dan K-neighbors"
   ]
  },
  {
   "block_group": "d3b39b19e949416c8546e12df87af67c",
   "cell_type": "markdown",
   "metadata": {
    "cell_id": "7989005c82fa4e698c6693b128a7897e",
    "deepnote_cell_type": "text-cell-p",
    "formattedRanges": []
   },
   "source": [
    "K-distance adalah jarak antara sebuah titik data dengan titik data terdekat ke-k, di mana k adalah parameter yang ditentukan sebelumnya. Tujuan dari perhitungan k-distance adalah untuk menentukan tingkat kepadatan lokal atau kerapatan dari sebuah titik data, dengan mengukur jaraknya terhadap tetangga-tetangganya. Semakin besar nilai k-distance, semakin rendah tingkat kepadatan atau kerapatan lokal titik data tersebut.       K-neighbors adalah sekelompok titik data yang terdekat dengan sebuah titik data tertentu. Dalam konteks LOF, K-neighbors digunakan untuk menghitung Local Reachability Density (LRD) dan Local Outlier Factor (LOF). Jumlah K-neighbors yang ditentukan akan memengaruhi kualitas deteksi outlier. Semakin besar nilai k, semakin banyak tetangga yang akan dipertimbangkan dalam perhitungan LRD dan LOF, yang dapat menghasilkan estimasi yang lebih stabil namun memakan waktu lebih lama dalam proses komputasi. "
   ]
  },
  {
   "block_group": "6e253ec866824d9ab474c0aab40864c4",
   "cell_type": "markdown",
   "metadata": {
    "cell_id": "1276e49d12f44f63bb483dbac0ba31ad",
    "deepnote_cell_type": "image",
    "deepnote_img_src": "image-20240320-214900.png"
   },
   "source": [
    "<img src=\"image-20240320-214900.png\" width=\"\" align=\"\" />"
   ]
  },
  {
   "block_group": "0053203fc1c044008769f69750e8f726",
   "cell_type": "markdown",
   "metadata": {
    "cell_id": "eed3a53c1a5a4f229464319cb3568f17",
    "deepnote_cell_type": "text-cell-p",
    "formattedRanges": []
   },
   "source": [
    "pada contoh tersebut jika K = 3 maka tetangga terdekatnya terdapat 2 class B dan satu kelas A, dan jika K = 6 maka tetangga terdekatnya yaitu 4 class A dan 3 class B."
   ]
  },
  {
   "block_group": "2ac1006fa126456c8eff95d6746bad19",
   "cell_type": "markdown",
   "metadata": {
    "cell_id": "470efbdc82234d42921f395816ab1be3",
    "deepnote_cell_type": "text-cell-h1",
    "formattedRanges": []
   },
   "source": [
    "# Reachability Distance (RD)"
   ]
  },
  {
   "block_group": "a682c1fa14a942a3a6f51e819f556f52",
   "cell_type": "markdown",
   "metadata": {
    "cell_id": "14ef79fc40c24503b1fb2f3f4dd6a3e1",
    "deepnote_cell_type": "image",
    "deepnote_img_src": "image-20240320-215805.png"
   },
   "source": [
    "<img src=\"image-20240320-215805.png\" width=\"\" align=\"\" />"
   ]
  },
  {
   "block_group": "a682c1fa14a942a3a6f51e819f556f52",
   "cell_type": "markdown",
   "metadata": {
    "cell_id": "b5e48eb616d044dd8e4511e2a271b92f",
    "deepnote_cell_type": "text-cell-p",
    "formattedRanges": [
     {
      "fromCodePoint": 178,
      "marks": {
       "bold": true
      },
      "toCodePoint": 217,
      "type": "marks"
     }
    ]
   },
   "source": [
    "Ini didefinisikan sebagai jarak k maksimum dari titik tetangga dan jarak antara dua titik. berarti dimana titik tertentu memiliki berapa jarak dengan titik tetangga terdekatnya.\n",
    "RD = max(k-distance(B), distance(A, B))"
   ]
  },
  {
   "block_group": "f8d169d0a7a54d0087f1683ac50aac31",
   "cell_type": "markdown",
   "metadata": {
    "cell_id": "e92e0abe6b054c4b837b1a736dad1c19",
    "deepnote_cell_type": "text-cell-h1",
    "formattedRanges": []
   },
   "source": [
    "# Local Reachability Density (LRD)"
   ]
  },
  {
   "block_group": "6c745e1c831745db9ce3c4b5f9687101",
   "cell_type": "markdown",
   "metadata": {
    "cell_id": "ffbf33eba8fe4e9bbd6427c938c6d928",
    "deepnote_cell_type": "text-cell-p",
    "formattedRanges": []
   },
   "source": [
    " LRD dari titik data tersebut dihitung sebagai kebalikan dari rata-rata dari RD dari tetangga-tetangganya. Rumus umumnya adalah:"
   ]
  },
  {
   "block_group": "bb14ca5f64bd409799d561c62c72e8a9",
   "cell_type": "markdown",
   "metadata": {
    "cell_id": "cc60ab38a720481ca18424f4a0e25d41",
    "deepnote_cell_type": "image",
    "deepnote_img_src": "image-20240320-215922.png"
   },
   "source": [
    "<img src=\"image-20240320-215922.png\" width=\"\" align=\"\" />"
   ]
  },
  {
   "block_group": "724a7b63055e479486398bf5c8555040",
   "cell_type": "markdown",
   "metadata": {
    "cell_id": "43c6bdd68a6f4dba833f80d7356d9cbf",
    "deepnote_cell_type": "text-cell-p",
    "formattedRanges": []
   },
   "source": [
    "Disini Semakin, x adalah titik data yang sedang dievaluasi, y adalah salah satu dari K tetangga terdekat dari x, dan RD(x,y) adalah Reachability Distance atanra x dan y tinggi nilai LRD sebuah titik data, semakin padat atau dekat titik data tersebut dengan tetangga-tetangganya. Nilai LRD yang tinggi menunjukkan bahwa titik data tersebut terletak dalam wilayah dengan kepadatan tinggi, sedangkan nilai LRD yang rendah menunjukkan bahwa titik data tersebut terletak dalam wilayah dengan kepadatan rendah."
   ]
  },
  {
   "block_group": "7f379b2c96e94bcd831a86fda8dc5c8c",
   "cell_type": "markdown",
   "metadata": {
    "cell_id": "861c766def1545bf8ba288f506625c79",
    "deepnote_cell_type": "text-cell-h1",
    "formattedRanges": []
   },
   "source": [
    "# Local Outlier Factor (LOF)"
   ]
  },
  {
   "block_group": "9e9562c7a8534793bd0f5de64d00921f",
   "cell_type": "markdown",
   "metadata": {
    "cell_id": "0bb320fce4f1429fb3ebc175ce8d761c",
    "deepnote_cell_type": "image",
    "deepnote_img_src": "image-20240320-220450.png"
   },
   "source": [
    "<img src=\"image-20240320-220450.png\" width=\"\" align=\"\" />"
   ]
  },
  {
   "block_group": "0bfcc68207624601ada139c1a1f595cf",
   "cell_type": "markdown",
   "metadata": {
    "cell_id": "6e10c763100e44c59e179bded34403e9",
    "deepnote_cell_type": "text-cell-p",
    "formattedRanges": []
   },
   "source": [
    "LRD tiap titik digunakan untuk membandingkan dengan rata-rata LRD K tetangganya. LOF adalah perbandingan rata-rata LRD K tetangga A terhadap LRD A."
   ]
  },
  {
   "block_group": "bce24c2cded440358c819c408adcde5d",
   "cell_type": "markdown",
   "metadata": {
    "cell_id": "d0ea616c09c948999a10ef41c2a23c1c",
    "deepnote_cell_type": "text-cell-p",
    "formattedRanges": []
   },
   "source": [
    "jika suatu titik bukan merupakan pencilan (inlier), rasio rata-rata LRD tetangganya kira-kira sama dengan LRD suatu titik (karena kepadatan suatu titik dan tetangganya kira-kira sama). Dalam hal ini, LOF hampir sama dengan 1. Sebaliknya, jika suatu titik merupakan outlier, LRD suatu titik lebih kecil dari rata-rata LRD tetangganya. Maka nilai LOF akan tinggi."
   ]
  },
  {
   "block_group": "0134707c67914048b53469518ea243d5",
   "cell_type": "markdown",
   "metadata": {
    "cell_id": "e20cd76d861c440c8d01b9393c318e77",
    "deepnote_cell_type": "text-cell-p",
    "formattedRanges": []
   },
   "source": [
    "jika LOF > 1 maka dianggap outlier, namun hal tersebut tidak selalu benar. Katakanlah kita mengetahui bahwa kita hanya memiliki satu outlier dalam data, lalu kita ambil nilai LOF maksimum di antara semua nilai LOF, dan titik yang sesuai dengan nilai LOF maksimum akan dianggap sebagai outlier."
   ]
  },
  {
   "block_group": "3fe36359075d446e9ffa10956cdf0da9",
   "cell_type": "markdown",
   "metadata": {
    "cell_id": "3f8aaf74bbc94eb0a6f9e470724848f7",
    "deepnote_cell_type": "text-cell-h1",
    "formattedRanges": []
   },
   "source": [
    "# Menghitung manual local outlier factor"
   ]
  },
  {
   "block_group": "d5071903ca164682bc722c97e993cca9",
   "cell_type": "markdown",
   "metadata": {
    "cell_id": "e760b7520c4841e9a85a02cbbfb333dd",
    "deepnote_cell_type": "text-cell-p",
    "formattedRanges": []
   },
   "source": [
    "Buat data dengan tipe numerik 3 fitur jumlah data 10, k=3, p=2 (eulidian distance)"
   ]
  },
  {
   "block_group": "daadacd33b5c4196913e934966c4e717",
   "cell_type": "markdown",
   "metadata": {
    "cell_id": "008eaf528c5442f682b8e161f67e4a98",
    "deepnote_cell_type": "text-cell-p",
    "formattedRanges": []
   },
   "source": [
    "Berikut langkah-langkah mendeteksi outlier dengan metode LOF \n",
    "\n",
    " 1. Menghitung jarak dan menentukan tetangga\r\n",
    " 2. Menghitung Reachability Distance (RD)\r\n",
    " 3. Menghitung Local Reachability Distance (LRD)\r\n",
    " 4. Menghitung Local Outlier Factor (LOF)\n",
    "\n",
    "\r",
    "Mari kita tentukan data yang akan kita gunakan untuk melakukan perhitungan manual. Contoh data handphone (HP) murah memiliki 4 fitur yaitu harga, tinggi, lebar yang masing masing bertipe data numeric, dan berjumlah 10."
   ]
  },
  {
   "block_group": "94c210264c75430dbbf6d8d2b724d502",
   "cell_type": "markdown",
   "metadata": {
    "cell_id": "96afed4f05d24e4fb230c95c64c588a3",
    "deepnote_cell_type": "image",
    "deepnote_img_src": "image-20240320-222612.png"
   },
   "source": [
    "<img src=\"image-20240320-222612.png\" width=\"\" align=\"\" />"
   ]
  },
  {
   "block_group": "60d1eb19ca9b4fa0a8d3377348014e52",
   "cell_type": "markdown",
   "metadata": {
    "cell_id": "712c91fa4b754a60b754b0edc7c87a96",
    "deepnote_cell_type": "text-cell-h3",
    "formattedRanges": []
   },
   "source": [
    "### Menghitung jarak dan menentukan tetangga"
   ]
  },
  {
   "block_group": "1d3be4820bda4afe93ce1f1a33c1a77b",
   "cell_type": "markdown",
   "metadata": {
    "cell_id": "e1553527eac64e88a076182bd02f2300",
    "deepnote_cell_type": "text-cell-p",
    "formattedRanges": []
   },
   "source": [
    "pada perhitungan KNN akan menggunakan metode euclidean dengan menggunakan K = 3"
   ]
  },
  {
   "block_group": "b00eeb1705064390ad9fe73b1f6798d3",
   "cell_type": "markdown",
   "metadata": {
    "cell_id": "84c0edd79523460992c08557b55c171a",
    "deepnote_cell_type": "image",
    "deepnote_img_src": "image-20240320-230620.png"
   },
   "source": [
    "<img src=\"image-20240320-230620.png\" width=\"\" align=\"\" />"
   ]
  },
  {
   "block_group": "bc3c14128a3149c3bdfb4fddabb7af19",
   "cell_type": "markdown",
   "metadata": {
    "cell_id": "295792968a3447a39038bd944fac1ff5",
    "deepnote_cell_type": "text-cell-h3",
    "formattedRanges": []
   },
   "source": [
    "### Menghitung Reachability Distance (RD)"
   ]
  },
  {
   "block_group": "1106f481ca9341bbb9fb50d64ae1f468",
   "cell_type": "markdown",
   "metadata": {
    "cell_id": "5b757766a1e646dab5c96b9902025835",
    "deepnote_cell_type": "text-cell-p",
    "formattedRanges": []
   },
   "source": [
    "Selanjutnya kita hitung nilai Reachability Distance dari masing-masing objek. Tapi sebelum itu kita harus menentukan berapa banyak objek yang masuk ke dalam ruang lingkup tetangga ke-n dari suatu objek. Secara matematis bisa dituliskan seperti di bawah ini :"
   ]
  },
  {
   "block_group": "444045da3c444e6a8a8cd640dd31dff8",
   "cell_type": "markdown",
   "metadata": {
    "cell_id": "a39dc2db02ea4d2ca77039bfcb6861c1",
    "deepnote_cell_type": "text-cell-p",
    "formattedRanges": []
   },
   "source": [
    "k-distance neighborhood of o, Nk(o) = {o’| o’ in D, dist(o, o’) ≤ distk(o)}"
   ]
  },
  {
   "block_group": "91d6b9e76bb24017b6e73771f64cf7a5",
   "cell_type": "markdown",
   "metadata": {
    "cell_id": "10d482a74eea481ea9863170fcd9b7dd",
    "deepnote_cell_type": "text-cell-p",
    "formattedRanges": []
   },
   "source": [
    "Untuk contohnya pada objek HP A memiliki nilai jarak tetangga ke-3 yaitu 1,414213562\r",
    " berarti objek lain yang masuk ke dalam lingkupnya yaitu yang nilainya kurang atau sama dengan 1,414213562\r",
    "yang berarti berisikan {B, C, E}. Mari kita lakukan untuk objek yang lain."
   ]
  },
  {
   "block_group": "1a1ecde751714911b4f82e8788517cbc",
   "cell_type": "markdown",
   "metadata": {
    "cell_id": "e9733514b3554a23937705a3f1024cf8",
    "deepnote_cell_type": "image",
    "deepnote_img_src": "image-20240321-000937.png"
   },
   "source": [
    "<img src=\"image-20240321-000937.png\" width=\"\" align=\"\" />"
   ]
  },
  {
   "block_group": "b9f2f9c4f14a436ba04a188bcb971f5b",
   "cell_type": "markdown",
   "metadata": {
    "cell_id": "b32ec0b84482485fb76e126efad2b7a5",
    "deepnote_cell_type": "text-cell-p",
    "formattedRanges": []
   },
   "source": [
    "Selanjutnya hitung Reachability Distance dari maring-masing objek, untuk rumusnya yaitu :"
   ]
  },
  {
   "block_group": "ef70844871684c079275c510b2274c80",
   "cell_type": "markdown",
   "metadata": {
    "cell_id": "fc519937af754300a1d7e3e8db3cf5f7",
    "deepnote_cell_type": "image",
    "deepnote_img_src": "image-20240320-232727.png"
   },
   "source": [
    "<img src=\"image-20240320-232727.png\" width=\"\" align=\"\" />"
   ]
  },
  {
   "block_group": "f47f362e399a4beca154f00a8f84d6ae",
   "cell_type": "markdown",
   "metadata": {
    "cell_id": "2f7d20c09e074df59c62ae93de597719",
    "deepnote_cell_type": "text-cell-p",
    "formattedRanges": []
   },
   "source": [
    "Maka RD dari keseluruhan object:"
   ]
  },
  {
   "block_group": "4f25e509068d4e5eb2c4777fbd470247",
   "cell_type": "markdown",
   "metadata": {
    "cell_id": "2bc0d1432cc14ddb80559ca3fe887691",
    "deepnote_cell_type": "image",
    "deepnote_img_src": "image-20240321-001340.png"
   },
   "source": [
    "<img src=\"image-20240321-001340.png\" width=\"\" align=\"\" />"
   ]
  },
  {
   "block_group": "b8275858060444968c0e14c64ab5677d",
   "cell_type": "markdown",
   "metadata": {
    "cell_id": "a9d790978fd7440ebc57ee7040a95da7",
    "deepnote_cell_type": "text-cell-h3",
    "formattedRanges": []
   },
   "source": [
    "### Menghitung Local Reachability Distance (LRD)"
   ]
  },
  {
   "block_group": "d74821b309a04a649b8bfadcd71ea696",
   "cell_type": "markdown",
   "metadata": {
    "cell_id": "9b4efa957fd24ed394e4152a9633b4e8",
    "deepnote_cell_type": "text-cell-p",
    "formattedRanges": []
   },
   "source": [
    "Selanjutnya melakukan perhitungan Local Reachability Distance (LRD), LRD dirumuskan seperti di bawah ini :"
   ]
  },
  {
   "block_group": "0dde193824d9409d97129118c6e4b1a0",
   "cell_type": "markdown",
   "metadata": {
    "cell_id": "01b140aff6034659bc7bd5a536dbd24d",
    "deepnote_cell_type": "image",
    "deepnote_img_src": "image-20240321-001459.png"
   },
   "source": [
    "<img src=\"image-20240321-001459.png\" width=\"\" align=\"\" />"
   ]
  },
  {
   "block_group": "8fa46c4bb04e4951bdadcc969b3eb8d1",
   "cell_type": "markdown",
   "metadata": {
    "cell_id": "2ac3d04b45e8468ebff019fad1f64768",
    "deepnote_cell_type": "text-cell-p",
    "formattedRanges": []
   },
   "source": [
    "Berdasarkan rumus diatas bisa dideskripsikan bahwa LRD merupakan hasil dari pembagian banyak jumlah tetangga ke-n dari suatu objek dibagi dengan total dari reachdistance ability objek tersebut.\n",
    "\n",
    "Sehinga jika dilakukan perhitungan untuk setiap objek didapatkan hasil"
   ]
  },
  {
   "block_group": "75f5baa48e67418692cf2f25bd1f4f38",
   "cell_type": "markdown",
   "metadata": {
    "cell_id": "fd774c40c1d447fc98847ed4b07d9844",
    "deepnote_cell_type": "image",
    "deepnote_img_src": "image-20240321-003448.png"
   },
   "source": [
    "<img src=\"image-20240321-003448.png\" width=\"\" align=\"\" />"
   ]
  },
  {
   "block_group": "ad1d5a5676124674a503a7aae72b776e",
   "cell_type": "markdown",
   "metadata": {
    "cell_id": "cd2649aadd974212afb729c6763f0aa7",
    "deepnote_cell_type": "text-cell-h3",
    "formattedRanges": []
   },
   "source": [
    "### Menghitung Local Outlier Factor (LOF)"
   ]
  },
  {
   "block_group": "d2c53e7fa5a54fd39ed395e56d1c9017",
   "cell_type": "markdown",
   "metadata": {
    "cell_id": "61595a9c3b034744a9ae6259f169d653",
    "deepnote_cell_type": "text-cell-p",
    "formattedRanges": []
   },
   "source": [
    "Selanjutnya yang terakhir yaitu menghitung Local Outlier Factor (LOF), dirumuskan sebagai berikut :"
   ]
  },
  {
   "block_group": "8cb02d5ecb944193b684385f5ccaf2d0",
   "cell_type": "markdown",
   "metadata": {
    "cell_id": "c411e5f6c1784188a84ad87828e69c28",
    "deepnote_cell_type": "image",
    "deepnote_img_src": "image-20240321-003558.png"
   },
   "source": [
    "<img src=\"image-20240321-003558.png\" width=\"\" align=\"\" />"
   ]
  },
  {
   "block_group": "bcb0c6a075284076a936222ffd5d1d7f",
   "cell_type": "markdown",
   "metadata": {
    "cell_id": "b9979d9e491942ac9c2591c76a2648a5",
    "deepnote_cell_type": "text-cell-p",
    "formattedRanges": []
   },
   "source": [
    "Berdasarkan rumus diatas diketahui jika LOF didapat dari hasil perkalian jumlah nilai lrd suatu objek dikali dengan jumlah reachability distance suatu objek. \n",
    "\n",
    "Sehinga jika dilakukan perhitungan untuk setiap objek didapatkan hasil"
   ]
  },
  {
   "block_group": "0dae2e3f1cd94061b25f9e7726b7244f",
   "cell_type": "markdown",
   "metadata": {
    "cell_id": "3bf0813c097b4778a020a40635b044a1",
    "deepnote_cell_type": "image",
    "deepnote_img_src": "image-20240321-004628.png"
   },
   "source": [
    "<img src=\"image-20240321-004628.png\" width=\"\" align=\"\" />"
   ]
  },
  {
   "block_group": "14b58812eb054acba659b0ce65595331",
   "cell_type": "markdown",
   "metadata": {
    "cell_id": "f3b48ad7c8c64aaaabd3f904d3b7831c",
    "deepnote_cell_type": "text-cell-p",
    "formattedRanges": []
   },
   "source": [
    "dapat disimpulkan bahwa pada lof3(F) merupakan outlier karena rentang nilainya sangat jauh yaitu 23,45744"
   ]
  },
  {
   "block_group": "983ba5c9d6574a6ca76f4f81c78085b4",
   "cell_type": "markdown",
   "metadata": {
    "cell_id": "ff596f6fa311472d8aacf2d83ddf930e",
    "deepnote_cell_type": "text-cell-h3",
    "formattedRanges": []
   },
   "source": [
    "### Menghitung menggunakan python (scikit-learn)"
   ]
  },
  {
   "block_group": "387f72315e4143bf9dedbf0bb3db6934",
   "cell_type": "markdown",
   "metadata": {
    "cell_id": "55d040976732435180b3e247b4c92190",
    "deepnote_cell_type": "text-cell-p",
    "formattedRanges": []
   },
   "source": [
    "Setelah menentukan outlier manual menggunakan excel, berikutnya kita akan menguji hasil tersebut menggunakan scikit-learn."
   ]
  },
  {
   "block_group": "bf2bdda5fe104ff1bac5c30061a29f26",
   "cell_type": "code",
   "execution_count": null,
   "metadata": {
    "cell_id": "3232f19a22734423bf495926df984227",
    "deepnote_cell_type": "code",
    "deepnote_to_be_reexecuted": false,
    "execution_millis": 5165,
    "execution_start": 1710957030629,
    "source_hash": null
   },
   "outputs": [
    {
     "name": "stdout",
     "output_type": "stream",
     "text": [
      "Predicted table: [ 1  1  1  1  1 -1  1  1  1  1]\n",
      "Negative LOF scores: [ 1.06916321  0.94698789  0.94698789  1.05250339  1.04620956 21.37859436\n",
      "  1.05868967  1.23170062  1.15553828  1.05250339]\n"
     ]
    }
   ],
   "outputs_reference": "dbtable:cell_outputs/9a9f6ec6-6ab2-4562-95a3-af7283a4dd56",
   "source": [
    "from sklearn.neighbors import LocalOutlierFactor\n",
    "import numpy as np\n",
    "\n",
    "X = [\n",
    "    (2, 15, 1),\n",
    "    (1.5, 16, 0.5),\n",
    "    (1, 15, 2),\n",
    "    (3, 17, 3),\n",
    "    (2, 15, 1.5),\n",
    "    (20, 70, 10),\n",
    "    (4, 16, 2),\n",
    "    (2.5, 14, 3),\n",
    "    (4, 16, 1),\n",
    "    (3.7, 17, 4),\n",
    "]\n",
    "\n",
    "lof = LocalOutlierFactor(n_neighbors=3, contamination=0.1)\n",
    "\n",
    "y_pred = lof.fit_predict(X)\n",
    "\n",
    "print(\"Predicted table:\", y_pred)\n",
    "print(\"Negative LOF scores:\", -lof.negative_outlier_factor_)  # Ubah tanda negatif untuk mendapatkan nilai LOF positif"
   ]
  },
  {
   "block_group": "9538bd5f0ade4db585db9b6f76e3494c",
   "cell_type": "markdown",
   "metadata": {
    "cell_id": "4e415df5cea642db9c87be494a953d94",
    "deepnote_cell_type": "text-cell-p",
    "formattedRanges": []
   },
   "source": [
    "pada hasil perhitungan scikit-learn terdapat outlier yaitu pada index ke 5 yaitu 21.37858436"
   ]
  },
  {
   "block_group": "c56ba09c5a334c1093fcda67c15cc36b",
   "cell_type": "markdown",
   "metadata": {
    "cell_id": "e41a9329435746ceade03b9a98a93c06",
    "deepnote_cell_type": "text-cell-h3",
    "formattedRanges": []
   },
   "source": [
    "### Implementasi pada database"
   ]
  },
  {
   "block_group": "88f304de6a0b4ab2aacb44bb89637069",
   "cell_type": "markdown",
   "metadata": {
    "cell_id": "1e21fd4afe2a424a89889514ae20976d",
    "deepnote_cell_type": "text-cell-p",
    "formattedRanges": []
   },
   "source": [
    "pada latihan mencari data outlier dari sebuah data maka kita buat tabel baru yang saya beri nama outlier, dan imputkan beberapa data dengan angka outlier"
   ]
  },
  {
   "block_group": "46d2761c6be044f89f6de6fe978aa7ae",
   "cell_type": "code",
   "execution_count": null,
   "metadata": {
    "cell_id": "85fd62a0ad904b27abdff502b6c6211e",
    "deepnote_cell_type": "sql",
    "deepnote_sql_source": "UPDATE outlier SET SepalWidthCm = 29 WHERE Id in (2,59,108,127)",
    "deepnote_to_be_reexecuted": false,
    "deepnote_variable_name": "df_24",
    "execution_millis": 3561,
    "execution_start": 1710957631813,
    "source_hash": null,
    "sql_integration_id": "8cf1e489-1c56-4e18-bf27-c266b7eecff1"
   },
   "outputs": [],
   "outputs_reference": null,
   "source": [
    "df_24 = _deepnote_execute_sql('UPDATE outlier SET SepalWidthCm = 29 WHERE Id in (2,59,108,127)', 'SQL_8CF1E489_1C56_4E18_BF27_C266B7EECFF1', audit_sql_comment='', sql_cache_mode='cache_disabled')\n",
    "df_24"
   ]
  },
  {
   "block_group": "d0faf934945c40b0a47250e92d4f3d27",
   "cell_type": "code",
   "execution_count": null,
   "metadata": {
    "cell_id": "032a403913fb4bcf80c9b6996b092e9b",
    "deepnote_cell_type": "sql",
    "deepnote_sql_source": "UPDATE outlier SET SepalLengthCm = 31 WHERE Id in (5,21,79)",
    "deepnote_to_be_reexecuted": false,
    "deepnote_variable_name": "df_25",
    "execution_millis": 3338,
    "execution_start": 1710957701190,
    "source_hash": null,
    "sql_integration_id": "8cf1e489-1c56-4e18-bf27-c266b7eecff1"
   },
   "outputs": [],
   "outputs_reference": null,
   "source": [
    "df_25 = _deepnote_execute_sql('UPDATE outlier SET SepalLengthCm = 31 WHERE Id in (5,21,79)', 'SQL_8CF1E489_1C56_4E18_BF27_C266B7EECFF1', audit_sql_comment='', sql_cache_mode='cache_disabled')\n",
    "df_25"
   ]
  },
  {
   "block_group": "3facdea9884248579ef028bb3de054a1",
   "cell_type": "markdown",
   "metadata": {
    "cell_id": "d65ca11592254aed82943770cd7f6768",
    "deepnote_cell_type": "text-cell-p",
    "formattedRanges": []
   },
   "source": [
    "setelah itu kita lakukan pengecekan data yang sudah kita ubah tadi"
   ]
  },
  {
   "block_group": "afc0e79ec5104f2c97c8b86d65acad40",
   "cell_type": "code",
   "execution_count": null,
   "metadata": {
    "cell_id": "4d71d6b7ba76437e9c6234c3bb9ba2a2",
    "deepnote_cell_type": "sql",
    "deepnote_sql_source": "SELECT * FROM outlier WHERE Id in (2,5,21,59,79,108,127)",
    "deepnote_to_be_reexecuted": false,
    "deepnote_variable_name": "df_26",
    "execution_millis": 3448,
    "execution_start": 1710957754005,
    "source_hash": null,
    "sql_integration_id": "8cf1e489-1c56-4e18-bf27-c266b7eecff1"
   },
   "outputs": [
    {
     "data": {
      "application/vnd.deepnote.sql-output-metadata+json": {
       "size_in_bytes": 898,
       "status": "success_no_cache"
      }
     },
     "metadata": {},
     "output_type": "display_data"
    },
    {
     "data": {
      "application/vnd.deepnote.dataframe.v3+json": {
       "column_count": 6,
       "columns": [
        {
         "dtype": "int64",
         "name": "Id",
         "stats": {
          "histogram": [
           {
            "bin_end": 14.5,
            "bin_start": 2,
            "count": 2
           },
           {
            "bin_end": 27,
            "bin_start": 14.5,
            "count": 1
           },
           {
            "bin_end": 39.5,
            "bin_start": 27,
            "count": 0
           },
           {
            "bin_end": 52,
            "bin_start": 39.5,
            "count": 0
           },
           {
            "bin_end": 64.5,
            "bin_start": 52,
            "count": 1
           },
           {
            "bin_end": 77,
            "bin_start": 64.5,
            "count": 0
           },
           {
            "bin_end": 89.5,
            "bin_start": 77,
            "count": 1
           },
           {
            "bin_end": 102,
            "bin_start": 89.5,
            "count": 0
           },
           {
            "bin_end": 114.5,
            "bin_start": 102,
            "count": 1
           },
           {
            "bin_end": 127,
            "bin_start": 114.5,
            "count": 1
           }
          ],
          "max": "127",
          "min": "2",
          "nan_count": 0,
          "unique_count": 7
         }
        },
        {
         "dtype": "float64",
         "name": "SepalLengthCm",
         "stats": {
          "histogram": [
           {
            "bin_end": 7.510000000000001,
            "bin_start": 4.9,
            "count": 4
           },
           {
            "bin_end": 10.120000000000001,
            "bin_start": 7.510000000000001,
            "count": 0
           },
           {
            "bin_end": 12.73,
            "bin_start": 10.120000000000001,
            "count": 0
           },
           {
            "bin_end": 15.340000000000002,
            "bin_start": 12.73,
            "count": 0
           },
           {
            "bin_end": 17.950000000000003,
            "bin_start": 15.340000000000002,
            "count": 0
           },
           {
            "bin_end": 20.560000000000002,
            "bin_start": 17.950000000000003,
            "count": 0
           },
           {
            "bin_end": 23.17,
            "bin_start": 20.560000000000002,
            "count": 0
           },
           {
            "bin_end": 25.78,
            "bin_start": 23.17,
            "count": 0
           },
           {
            "bin_end": 28.39,
            "bin_start": 25.78,
            "count": 0
           },
           {
            "bin_end": 31,
            "bin_start": 28.39,
            "count": 3
           }
          ],
          "max": "31.0",
          "min": "4.9",
          "nan_count": 0,
          "unique_count": 5
         }
        },
        {
         "dtype": "float64",
         "name": "SepalWidthCm",
         "stats": {
          "histogram": [
           {
            "bin_end": 5.51,
            "bin_start": 2.9,
            "count": 3
           },
           {
            "bin_end": 8.120000000000001,
            "bin_start": 5.51,
            "count": 0
           },
           {
            "bin_end": 10.73,
            "bin_start": 8.120000000000001,
            "count": 0
           },
           {
            "bin_end": 13.340000000000002,
            "bin_start": 10.73,
            "count": 0
           },
           {
            "bin_end": 15.950000000000001,
            "bin_start": 13.340000000000002,
            "count": 0
           },
           {
            "bin_end": 18.560000000000002,
            "bin_start": 15.950000000000001,
            "count": 0
           },
           {
            "bin_end": 21.17,
            "bin_start": 18.560000000000002,
            "count": 0
           },
           {
            "bin_end": 23.78,
            "bin_start": 21.17,
            "count": 0
           },
           {
            "bin_end": 26.39,
            "bin_start": 23.78,
            "count": 0
           },
           {
            "bin_end": 29,
            "bin_start": 26.39,
            "count": 4
           }
          ],
          "max": "29.0",
          "min": "2.9",
          "nan_count": 0,
          "unique_count": 4
         }
        },
        {
         "dtype": "float64",
         "name": "PetalLengthCm",
         "stats": {
          "histogram": [
           {
            "bin_end": 1.89,
            "bin_start": 1.4,
            "count": 3
           },
           {
            "bin_end": 2.38,
            "bin_start": 1.89,
            "count": 0
           },
           {
            "bin_end": 2.87,
            "bin_start": 2.38,
            "count": 0
           },
           {
            "bin_end": 3.3600000000000003,
            "bin_start": 2.87,
            "count": 0
           },
           {
            "bin_end": 3.85,
            "bin_start": 3.3600000000000003,
            "count": 0
           },
           {
            "bin_end": 4.34,
            "bin_start": 3.85,
            "count": 0
           },
           {
            "bin_end": 4.83,
            "bin_start": 4.34,
            "count": 3
           },
           {
            "bin_end": 5.32,
            "bin_start": 4.83,
            "count": 0
           },
           {
            "bin_end": 5.8100000000000005,
            "bin_start": 5.32,
            "count": 0
           },
           {
            "bin_end": 6.3,
            "bin_start": 5.8100000000000005,
            "count": 1
           }
          ],
          "max": "6.3",
          "min": "1.4",
          "nan_count": 0,
          "unique_count": 6
         }
        },
        {
         "dtype": "float64",
         "name": "PetalWidthCm",
         "stats": {
          "histogram": [
           {
            "bin_end": 0.36,
            "bin_start": 0.2,
            "count": 3
           },
           {
            "bin_end": 0.52,
            "bin_start": 0.36,
            "count": 0
           },
           {
            "bin_end": 0.6799999999999999,
            "bin_start": 0.52,
            "count": 0
           },
           {
            "bin_end": 0.8400000000000001,
            "bin_start": 0.6799999999999999,
            "count": 0
           },
           {
            "bin_end": 1,
            "bin_start": 0.8400000000000001,
            "count": 0
           },
           {
            "bin_end": 1.16,
            "bin_start": 1,
            "count": 0
           },
           {
            "bin_end": 1.32,
            "bin_start": 1.16,
            "count": 1
           },
           {
            "bin_end": 1.48,
            "bin_start": 1.32,
            "count": 0
           },
           {
            "bin_end": 1.64,
            "bin_start": 1.48,
            "count": 1
           },
           {
            "bin_end": 1.8,
            "bin_start": 1.64,
            "count": 2
           }
          ],
          "max": "1.8",
          "min": "0.2",
          "nan_count": 0,
          "unique_count": 4
         }
        },
        {
         "dtype": "object",
         "name": "Species",
         "stats": {
          "categories": [
           {
            "count": 3,
            "name": "Iris-setosa"
           },
           {
            "count": 2,
            "name": "Iris-versicolor"
           },
           {
            "count": 2,
            "name": "Iris-virginica"
           }
          ],
          "nan_count": 0,
          "unique_count": 3
         }
        },
        {
         "dtype": "int64",
         "name": "_deepnote_index_column"
        }
       ],
       "row_count": 7,
       "rows": [
        {
         "Id": 2,
         "PetalLengthCm": 1.4,
         "PetalWidthCm": 0.2,
         "SepalLengthCm": 4.9,
         "SepalWidthCm": 29,
         "Species": "Iris-setosa",
         "_deepnote_index_column": 0
        },
        {
         "Id": 5,
         "PetalLengthCm": 1.4,
         "PetalWidthCm": 0.2,
         "SepalLengthCm": 31,
         "SepalWidthCm": 3.6,
         "Species": "Iris-setosa",
         "_deepnote_index_column": 1
        },
        {
         "Id": 21,
         "PetalLengthCm": 1.7,
         "PetalWidthCm": 0.2,
         "SepalLengthCm": 31,
         "SepalWidthCm": 3.4,
         "Species": "Iris-setosa",
         "_deepnote_index_column": 2
        },
        {
         "Id": 59,
         "PetalLengthCm": 4.6,
         "PetalWidthCm": 1.3,
         "SepalLengthCm": 6.6,
         "SepalWidthCm": 29,
         "Species": "Iris-versicolor",
         "_deepnote_index_column": 3
        },
        {
         "Id": 79,
         "PetalLengthCm": 4.5,
         "PetalWidthCm": 1.5,
         "SepalLengthCm": 31,
         "SepalWidthCm": 2.9,
         "Species": "Iris-versicolor",
         "_deepnote_index_column": 4
        },
        {
         "Id": 108,
         "PetalLengthCm": 6.3,
         "PetalWidthCm": 1.8,
         "SepalLengthCm": 7.3,
         "SepalWidthCm": 29,
         "Species": "Iris-virginica",
         "_deepnote_index_column": 5
        },
        {
         "Id": 127,
         "PetalLengthCm": 4.8,
         "PetalWidthCm": 1.8,
         "SepalLengthCm": 6.2,
         "SepalWidthCm": 29,
         "Species": "Iris-virginica",
         "_deepnote_index_column": 6
        }
       ]
      },
      "text/html": [
       "<div>\n",
       "<style scoped>\n",
       "    .dataframe tbody tr th:only-of-type {\n",
       "        vertical-align: middle;\n",
       "    }\n",
       "\n",
       "    .dataframe tbody tr th {\n",
       "        vertical-align: top;\n",
       "    }\n",
       "\n",
       "    .dataframe thead th {\n",
       "        text-align: right;\n",
       "    }\n",
       "</style>\n",
       "<table border=\"1\" class=\"dataframe\">\n",
       "  <thead>\n",
       "    <tr style=\"text-align: right;\">\n",
       "      <th></th>\n",
       "      <th>Id</th>\n",
       "      <th>SepalLengthCm</th>\n",
       "      <th>SepalWidthCm</th>\n",
       "      <th>PetalLengthCm</th>\n",
       "      <th>PetalWidthCm</th>\n",
       "      <th>Species</th>\n",
       "    </tr>\n",
       "  </thead>\n",
       "  <tbody>\n",
       "    <tr>\n",
       "      <th>0</th>\n",
       "      <td>2</td>\n",
       "      <td>4.9</td>\n",
       "      <td>29.0</td>\n",
       "      <td>1.4</td>\n",
       "      <td>0.2</td>\n",
       "      <td>Iris-setosa</td>\n",
       "    </tr>\n",
       "    <tr>\n",
       "      <th>1</th>\n",
       "      <td>5</td>\n",
       "      <td>31.0</td>\n",
       "      <td>3.6</td>\n",
       "      <td>1.4</td>\n",
       "      <td>0.2</td>\n",
       "      <td>Iris-setosa</td>\n",
       "    </tr>\n",
       "    <tr>\n",
       "      <th>2</th>\n",
       "      <td>21</td>\n",
       "      <td>31.0</td>\n",
       "      <td>3.4</td>\n",
       "      <td>1.7</td>\n",
       "      <td>0.2</td>\n",
       "      <td>Iris-setosa</td>\n",
       "    </tr>\n",
       "    <tr>\n",
       "      <th>3</th>\n",
       "      <td>59</td>\n",
       "      <td>6.6</td>\n",
       "      <td>29.0</td>\n",
       "      <td>4.6</td>\n",
       "      <td>1.3</td>\n",
       "      <td>Iris-versicolor</td>\n",
       "    </tr>\n",
       "    <tr>\n",
       "      <th>4</th>\n",
       "      <td>79</td>\n",
       "      <td>31.0</td>\n",
       "      <td>2.9</td>\n",
       "      <td>4.5</td>\n",
       "      <td>1.5</td>\n",
       "      <td>Iris-versicolor</td>\n",
       "    </tr>\n",
       "    <tr>\n",
       "      <th>5</th>\n",
       "      <td>108</td>\n",
       "      <td>7.3</td>\n",
       "      <td>29.0</td>\n",
       "      <td>6.3</td>\n",
       "      <td>1.8</td>\n",
       "      <td>Iris-virginica</td>\n",
       "    </tr>\n",
       "    <tr>\n",
       "      <th>6</th>\n",
       "      <td>127</td>\n",
       "      <td>6.2</td>\n",
       "      <td>29.0</td>\n",
       "      <td>4.8</td>\n",
       "      <td>1.8</td>\n",
       "      <td>Iris-virginica</td>\n",
       "    </tr>\n",
       "  </tbody>\n",
       "</table>\n",
       "</div>"
      ],
      "text/plain": [
       "    Id  SepalLengthCm  SepalWidthCm  PetalLengthCm  PetalWidthCm  \\\n",
       "0    2            4.9          29.0            1.4           0.2   \n",
       "1    5           31.0           3.6            1.4           0.2   \n",
       "2   21           31.0           3.4            1.7           0.2   \n",
       "3   59            6.6          29.0            4.6           1.3   \n",
       "4   79           31.0           2.9            4.5           1.5   \n",
       "5  108            7.3          29.0            6.3           1.8   \n",
       "6  127            6.2          29.0            4.8           1.8   \n",
       "\n",
       "           Species  \n",
       "0      Iris-setosa  \n",
       "1      Iris-setosa  \n",
       "2      Iris-setosa  \n",
       "3  Iris-versicolor  \n",
       "4  Iris-versicolor  \n",
       "5   Iris-virginica  \n",
       "6   Iris-virginica  "
      ]
     },
     "execution_count": 4,
     "metadata": {},
     "output_type": "execute_result"
    }
   ],
   "outputs_reference": "s3:deepnote-cell-outputs-production/d8e5319b-da7b-4b27-aaf7-3fd22f9afc82",
   "source": [
    "df_26 = _deepnote_execute_sql('SELECT * FROM outlier WHERE Id in (2,5,21,59,79,108,127)', 'SQL_8CF1E489_1C56_4E18_BF27_C266B7EECFF1', audit_sql_comment='', sql_cache_mode='cache_disabled')\n",
    "df_26"
   ]
  },
  {
   "block_group": "67f83b9d15ba4b67a3523a4bb32ab26a",
   "cell_type": "markdown",
   "metadata": {
    "cell_id": "7eeb8362a45647a28689ad61987d017a",
    "deepnote_cell_type": "text-cell-p",
    "formattedRanges": []
   },
   "source": [
    "Setelah itu barulah kita mendeteksi outlier menggunakan Local Outlier Factor (LOF)"
   ]
  },
  {
   "block_group": "7ae935b215cc4c1eafb76e4a366fc44a",
   "cell_type": "code",
   "execution_count": null,
   "metadata": {
    "cell_id": "d4e05176eec04d608d75f7a0a7b0daa7",
    "deepnote_cell_type": "code",
    "deepnote_to_be_reexecuted": false,
    "execution_millis": 11744,
    "execution_start": 1710957850149,
    "source_hash": null
   },
   "outputs": [
    {
     "name": "stdout",
     "output_type": "stream",
     "text": [
      "Collecting mysql-connector-python\n",
      "  Downloading mysql_connector_python-8.3.0-cp39-cp39-manylinux_2_17_x86_64.whl (21.5 MB)\n",
      "\u001b[2K     \u001b[90m━━━━━━━━━━━━━━━━━━━━━━━━━━━━━━━━━━━━━━━━\u001b[0m \u001b[32m21.5/21.5 MB\u001b[0m \u001b[31m34.4 MB/s\u001b[0m eta \u001b[36m0:00:00\u001b[0m\n",
      "\u001b[?25hInstalling collected packages: mysql-connector-python\n",
      "Successfully installed mysql-connector-python-8.3.0\n",
      "\n",
      "\u001b[1m[\u001b[0m\u001b[34;49mnotice\u001b[0m\u001b[1;39;49m]\u001b[0m\u001b[39;49m A new release of pip is available: \u001b[0m\u001b[31;49m23.0.1\u001b[0m\u001b[39;49m -> \u001b[0m\u001b[32;49m24.0\u001b[0m\n",
      "\u001b[1m[\u001b[0m\u001b[34;49mnotice\u001b[0m\u001b[1;39;49m]\u001b[0m\u001b[39;49m To update, run: \u001b[0m\u001b[32;49mpip install --upgrade pip\u001b[0m\n"
     ]
    },
    {
     "data": {
      "image/png": "[encoded data removed]",
      "text/plain": [
       "<Figure size 640x480 with 1 Axes>"
      ]
     },
     "metadata": {
      "image/png": {
       "height": 414,
       "width": 543
      }
     },
     "output_type": "display_data"
    }
   ],
   "outputs_reference": "s3:deepnote-cell-outputs-production/82471d3b-e0c4-477f-88e9-22e50efbaf34",
   "source": [
    "!pip install mysql-connector-python\n",
    "from sklearn.neighbors import LocalOutlierFactor\n",
    "import mysql.connector\n",
    "import matplotlib.pyplot as plt\n",
    "\n",
    "# Membuat koneksi ke database MySQL\n",
    "conn = mysql.connector.connect(\n",
    "    host=\"datamining1-malik22168.a.aivencloud.com\",\n",
    "    user=\"avnadmin\",\n",
    "    password=\"AVNS_Gg1SZZ0NgVgxwWB3wP1\",\n",
    "    port = \"12594\",\n",
    "    database=\"tugas2\"\n",
    ")\n",
    "\n",
    "# Membaca data dari database menggunakan Pandas\n",
    "query = \"SELECT SepalLengthCm, SepalWidthCm FROM outlier\"\n",
    "cursor = conn.cursor()\n",
    "cursor.execute(query)\n",
    "rows = cursor.fetchall()\n",
    "x = [[row[0], row[1]] for row in rows]\n",
    "\n",
    "# Menutup koneksi ke database\n",
    "conn.close()\n",
    "\n",
    "# Membuat model LOF\n",
    "lof = LocalOutlierFactor(n_neighbors=13, contamination=0.03)\n",
    "\n",
    "# Melakukan prediksi outlier\n",
    "y_pred = lof.fit_predict(x)\n",
    "\n",
    "# Menampilkan data dengan outlier yang diidentifikasi\n",
    "outlier_indices = [i for i, label in enumerate(y_pred) if label == -1]\n",
    "values = [x[i] for i in outlier_indices]\n",
    "\n",
    "plt.scatter([point[0] for point in x], [point[1] for point in x])\n",
    "plt.scatter([point[0] for point in values], [point[1] for point in values], color='r')\n",
    "plt.show()"
   ]
  },
  {
   "block_group": "d3e0ab0ebc9b4ba7a04c134755ce4048",
   "cell_type": "markdown",
   "metadata": {
    "cell_id": "15febf8f8f28496bafabcec47788c616",
    "deepnote_cell_type": "text-cell-p",
    "formattedRanges": []
   },
   "source": [
    "pada grafik diatas dapat kita lihat ada beberapa titik yang berdekatan dan saling berjauhan, dimana data yang sangat jauh jaraknya debgab rata-rata nilai data yang ada yang ditandai dengan warna merah."
   ]
  },
  {
   "cell_type": "markdown",
   "metadata": {
    "created_in_deepnote_cell": true,
    "deepnote_cell_type": "markdown"
   },
   "source": [
    "<a style='text-decoration:none;line-height:16px;display:flex;color:#5B5B62;padding:10px;justify-content:end;' href='https://deepnote.com?utm_source=created-in-deepnote-cell&projectId=7dec6340-7bc8-462f-aa2f-68aaef2d4835' target=\"_blank\">\n",
    "<img alt='Created in deepnote.com' style='display:inline;max-height:16px;margin:0px;margin-right:7.5px;' src='data:image/svg+xml;base64,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' > </img>\n",
    "Created in <span style='font-weight:600;margin-left:4px;'>Deepnote</span></a>"
   ]
  }
 ],
 "metadata": {
  "deepnote_execution_queue": [],
  "deepnote_notebook_id": "7e9cdb39513a474589092e301df0a13e",
  "language_info": {
   "codemirror_mode": {
    "name": "ipython",
    "version": 3
   },
   "file_extension": ".py",
   "mimetype": "text/x-python",
   "name": "python",
   "nbconvert_exporter": "python",
   "pygments_lexer": "ipython3",
   "version": "3.12.1"
  }
 },
 "nbformat": 4,
 "nbformat_minor": 0
}